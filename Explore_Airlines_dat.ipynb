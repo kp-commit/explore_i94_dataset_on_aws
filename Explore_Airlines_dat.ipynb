{
 "cells": [
  {
   "cell_type": "code",
   "execution_count": 22,
   "metadata": {
    "editable": true
   },
   "outputs": [],
   "source": [
    "# Import Spark modules\n",
    "from pyspark.sql import SparkSession\n",
    "from pyspark.sql.types import *\n",
    "from pyspark.sql.functions import *\n",
    "\n",
    "# Setup Spark session\n",
    "spark = SparkSession.builder.appName(\"Explore_Airlines_dat\").getOrCreate()"
   ]
  },
  {
   "cell_type": "code",
   "execution_count": 2,
   "metadata": {
    "editable": true
   },
   "outputs": [],
   "source": [
    "# Read airlines data files:\n",
    "df_airlines = spark.read.csv('airlines.dat')"
   ]
  },
  {
   "cell_type": "code",
   "execution_count": 4,
   "metadata": {
    "editable": true
   },
   "outputs": [
    {
     "name": "stdout",
     "output_type": "stream",
     "text": [
      "+---+--------------------+---+----+----+--------------+--------------+---+\n",
      "|_c0|                 _c1|_c2| _c3| _c4|           _c5|           _c6|_c7|\n",
      "+---+--------------------+---+----+----+--------------+--------------+---+\n",
      "| -1|             Unknown| \\N|   -| N/A|            \\N|            \\N|  Y|\n",
      "|  1|      Private flight| \\N|   -| N/A|          null|          null|  Y|\n",
      "|  2|         135 Airways| \\N|null| GNL|       GENERAL| United States|  N|\n",
      "|  3|       1Time Airline| \\N|  1T| RNX|       NEXTIME|  South Africa|  Y|\n",
      "|  4|2 Sqn No 1 Elemen...| \\N|null| WYT|          null|United Kingdom|  N|\n",
      "|  5|     213 Flight Unit| \\N|null| TFU|          null|        Russia|  N|\n",
      "|  6|223 Flight Unit S...| \\N|null| CHD|CHKALOVSK-AVIA|        Russia|  N|\n",
      "|  7|   224th Flight Unit| \\N|null| TTF|    CARGO UNIT|        Russia|  N|\n",
      "|  8|         247 Jet Ltd| \\N|null| TWF|  CLOUD RUNNER|United Kingdom|  N|\n",
      "|  9|         3D Aviation| \\N|null| SEC|       SECUREX| United States|  N|\n",
      "| 10|         40-Mile Air| \\N|  Q5| MLA|      MILE-AIR| United States|  Y|\n",
      "| 11|              4D Air| \\N|null| QRT|       QUARTET|      Thailand|  N|\n",
      "| 12|611897 Alberta Li...| \\N|null| THD|         DONUT|        Canada|  N|\n",
      "| 13|    Ansett Australia| \\N|  AN| AAA|        ANSETT|     Australia|  Y|\n",
      "| 14|Abacus International| \\N|  1B|null|          null|     Singapore|  Y|\n",
      "| 15|     Abelag Aviation| \\N|  W9| AAB|           ABG|       Belgium|  N|\n",
      "| 16|      Army Air Corps| \\N|null| AAC|       ARMYAIR|United Kingdom|  N|\n",
      "| 17|Aero Aviation Cen...| \\N|null| AAD|       SUNRISE|        Canada|  N|\n",
      "| 18|Aero Servicios Ej...| \\N|null| SII|        ASEISA|        Mexico|  N|\n",
      "| 19|         Aero Biniza| \\N|null| BZS|        BINIZA|        Mexico|  N|\n",
      "+---+--------------------+---+----+----+--------------+--------------+---+\n",
      "only showing top 20 rows\n",
      "\n"
     ]
    }
   ],
   "source": [
    "df_airlines.show()"
   ]
  },
  {
   "cell_type": "code",
   "execution_count": 7,
   "metadata": {
    "editable": true
   },
   "outputs": [],
   "source": [
    "from pyspark.sql.types import *\n",
    "schema = StructType([StructField(\"_c0\", IntegerType(), True)\\\n",
    "                   ,StructField(\"_c1\", StringType(), True)\\\n",
    "                   ,StructField(\"_c2\", StringType(), True)\\\n",
    "                   ,StructField(\"_c3\", StringType(), True)\\\n",
    "                   ,StructField(\"_c4\", StringType(), True)\\\n",
    "                   ,StructField(\"_c5\", StringType(), True)\\\n",
    "                   ,StructField(\"_c6\", StringType(), True)\\\n",
    "                   ,StructField(\"_c7\", StringType(), True)])"
   ]
  },
  {
   "cell_type": "code",
   "execution_count": 8,
   "metadata": {
    "editable": true
   },
   "outputs": [],
   "source": [
    "df_airlines = spark.read.csv('airlines.dat', schema=schema)"
   ]
  },
  {
   "cell_type": "code",
   "execution_count": 14,
   "metadata": {
    "editable": true
   },
   "outputs": [],
   "source": [
    "# Renaming Columns with appropriate headers found on openflights.org/data.html\n",
    "df_airlines = df_airlines.withColumnRenamed(\"_c0\",\"id\") \\\n",
    "           .withColumnRenamed(\"_c1\",\"name\") \\\n",
    "           .withColumnRenamed(\"_c2\",\"Alias\") \\\n",
    "           .withColumnRenamed(\"_c3\",\"IATA\") \\\n",
    "           .withColumnRenamed(\"_c4\",\"ICAO\") \\\n",
    "           .withColumnRenamed(\"_c5\",\"Callsign\") \\\n",
    "           .withColumnRenamed(\"_c6\",\"Country\") \\\n",
    "           .withColumnRenamed(\"_c7\",\"Active\")"
   ]
  },
  {
   "cell_type": "code",
   "execution_count": 15,
   "metadata": {
    "editable": true
   },
   "outputs": [
    {
     "name": "stdout",
     "output_type": "stream",
     "text": [
      "root\n",
      " |-- id: integer (nullable = true)\n",
      " |-- name: string (nullable = true)\n",
      " |-- Alias: string (nullable = true)\n",
      " |-- IATA: string (nullable = true)\n",
      " |-- ICAO: string (nullable = true)\n",
      " |-- Callsign: string (nullable = true)\n",
      " |-- Country: string (nullable = true)\n",
      " |-- Active: string (nullable = true)\n",
      "\n"
     ]
    }
   ],
   "source": [
    "df_airlines.printSchema()"
   ]
  },
  {
   "cell_type": "code",
   "execution_count": 17,
   "metadata": {
    "editable": true
   },
   "outputs": [
    {
     "name": "stdout",
     "output_type": "stream",
     "text": [
      "+---+--------------------+-----+----+----+--------------+--------------+------+\n",
      "| id|                name|Alias|IATA|ICAO|      Callsign|       Country|Active|\n",
      "+---+--------------------+-----+----+----+--------------+--------------+------+\n",
      "| -1|             Unknown|   \\N|   -| N/A|            \\N|            \\N|     Y|\n",
      "|  1|      Private flight|   \\N|   -| N/A|          null|          null|     Y|\n",
      "|  2|         135 Airways|   \\N|null| GNL|       GENERAL| United States|     N|\n",
      "|  3|       1Time Airline|   \\N|  1T| RNX|       NEXTIME|  South Africa|     Y|\n",
      "|  4|2 Sqn No 1 Elemen...|   \\N|null| WYT|          null|United Kingdom|     N|\n",
      "|  5|     213 Flight Unit|   \\N|null| TFU|          null|        Russia|     N|\n",
      "|  6|223 Flight Unit S...|   \\N|null| CHD|CHKALOVSK-AVIA|        Russia|     N|\n",
      "|  7|   224th Flight Unit|   \\N|null| TTF|    CARGO UNIT|        Russia|     N|\n",
      "|  8|         247 Jet Ltd|   \\N|null| TWF|  CLOUD RUNNER|United Kingdom|     N|\n",
      "|  9|         3D Aviation|   \\N|null| SEC|       SECUREX| United States|     N|\n",
      "| 10|         40-Mile Air|   \\N|  Q5| MLA|      MILE-AIR| United States|     Y|\n",
      "| 11|              4D Air|   \\N|null| QRT|       QUARTET|      Thailand|     N|\n",
      "| 12|611897 Alberta Li...|   \\N|null| THD|         DONUT|        Canada|     N|\n",
      "| 13|    Ansett Australia|   \\N|  AN| AAA|        ANSETT|     Australia|     Y|\n",
      "| 14|Abacus International|   \\N|  1B|null|          null|     Singapore|     Y|\n",
      "| 15|     Abelag Aviation|   \\N|  W9| AAB|           ABG|       Belgium|     N|\n",
      "| 16|      Army Air Corps|   \\N|null| AAC|       ARMYAIR|United Kingdom|     N|\n",
      "| 17|Aero Aviation Cen...|   \\N|null| AAD|       SUNRISE|        Canada|     N|\n",
      "| 18|Aero Servicios Ej...|   \\N|null| SII|        ASEISA|        Mexico|     N|\n",
      "| 19|         Aero Biniza|   \\N|null| BZS|        BINIZA|        Mexico|     N|\n",
      "+---+--------------------+-----+----+----+--------------+--------------+------+\n",
      "only showing top 20 rows\n",
      "\n"
     ]
    }
   ],
   "source": [
    "df_airlines.show()"
   ]
  },
  {
   "cell_type": "code",
   "execution_count": 68,
   "metadata": {
    "editable": true
   },
   "outputs": [],
   "source": [
    "# Selecting only revelant columns out of these:\n",
    "# And filter out 'nulls' and -' on IATA\n",
    "df_airlines.select(col(\"name\").alias(\"carrier\"),\n",
    "                   col(\"iata\").alias(\"code\")) \\\n",
    "                    .filter(col(\"iata\") != \"-\") \\\n",
    "                    .filter(col(\"iata\") != \"null\") \\\n",
    "                    .filter(col(\"active\") == 'Y') \\\n",
    "                    .dropDuplicates() \\\n",
    "                    .createOrReplaceTempView('dm_arlines_name')"
   ]
  },
  {
   "cell_type": "code",
   "execution_count": 69,
   "metadata": {
    "editable": true
   },
   "outputs": [
    {
     "name": "stdout",
     "output_type": "stream",
     "text": [
      "+--------+---------+-------+\n",
      "|col_name|data_type|comment|\n",
      "+--------+---------+-------+\n",
      "| carrier|   string|   null|\n",
      "|    code|   string|   null|\n",
      "+--------+---------+-------+\n",
      "\n"
     ]
    }
   ],
   "source": [
    "# Checking view dm_airlines\n",
    "spark.sql(\"\"\"\n",
    "    DESCRIBE dm_arlines_name\n",
    "\"\"\").show()"
   ]
  },
  {
   "cell_type": "code",
   "execution_count": 70,
   "metadata": {
    "editable": true
   },
   "outputs": [
    {
     "name": "stdout",
     "output_type": "stream",
     "text": [
      "+-----------+----+\n",
      "|count(code)|code|\n",
      "+-----------+----+\n",
      "|          3|  G3|\n",
      "|          2|  RA|\n",
      "|          2|  VY|\n",
      "|          2|  5D|\n",
      "|          2|  C3|\n",
      "|          2|  8Q|\n",
      "|          2|  ZA|\n",
      "|          2|  WA|\n",
      "|          2|  8M|\n",
      "|          2|  LH|\n",
      "|          2|  CC|\n",
      "|          2|  TL|\n",
      "|          2|  JL|\n",
      "|          2|  ZB|\n",
      "|          2|  CP|\n",
      "|          2|  1I|\n",
      "|          2|  CO|\n",
      "|          2|  I9|\n",
      "|          2|  SQ|\n",
      "+-----------+----+\n",
      "\n"
     ]
    }
   ],
   "source": [
    "# Checking the distinct count of codes\n",
    "# This reduced from 6000+ to just 1535 (but seems like still has duplicates)\n",
    "# Reduced by 2 duplicate entries to 1533\n",
    "# Still has duplicates, checked entries with group counts by code\n",
    "# Filtered again on active only, still seeing many duplicates though\n",
    "spark.sql(\"\"\"\n",
    "    SELECT COUNT(code), code\n",
    "    FROM dm_arlines_name\n",
    "    GROUP BY code\n",
    "    HAVING COUNT(code) > 1\n",
    "    ORDER BY 1 DESC\n",
    "\"\"\").show(100)"
   ]
  },
  {
   "cell_type": "code",
   "execution_count": 71,
   "metadata": {
    "editable": true
   },
   "outputs": [
    {
     "name": "stdout",
     "output_type": "stream",
     "text": [
      "+--------------------+----+\n",
      "|             carrier|code|\n",
      "+--------------------+----+\n",
      "|             NetJets|  1I|\n",
      "|              Novair|  1I|\n",
      "|         Aerolitoral|  5D|\n",
      "|         DonbassAero|  5D|\n",
      "|              Maxair|  8M|\n",
      "|Myanmar Airways I...|  8M|\n",
      "|            Onur Air|  8Q|\n",
      "|  Maldivian Air Taxi|  8Q|\n",
      "|         Contact Air|  C3|\n",
      "|           QatXpress|  C3|\n",
      "|     Macair Airlines|  CC|\n",
      "|Air Atlanta Icela...|  CC|\n",
      "|Continental Airlines|  CO|\n",
      "| Continental Express|  CO|\n",
      "|   Canadian Airlines|  CP|\n",
      "|    Compass Airlines|  CP|\n",
      "|         Sky Express|  G3|\n",
      "|City Connexion Ai...|  G3|\n",
      "|Gol Transportes A...|  G3|\n",
      "|           Air Italy|  I9|\n",
      "|              Indigo|  I9|\n",
      "|      Japan Airlines|  JL|\n",
      "|Japan Airlines Do...|  JL|\n",
      "|     Lufthansa Cargo|  LH|\n",
      "|           Lufthansa|  LH|\n",
      "|Royal Nepal Airlines|  RA|\n",
      "|      Nepal Airlines|  RA|\n",
      "|Singapore Airline...|  SQ|\n",
      "|  Singapore Airlines|  SQ|\n",
      "|            Airnorth|  TL|\n",
      "|Trans Mediterrane...|  TL|\n",
      "|    Vueling Airlines|  VY|\n",
      "|    Formosa Airlines|  VY|\n",
      "|      KLM Cityhopper|  WA|\n",
      "|    Western Airlines|  WA|\n",
      "|          Access Air|  ZA|\n",
      "|  Interavia Airlines|  ZA|\n",
      "|    Monarch Airlines|  ZB|\n",
      "|         Air Bourbon|  ZB|\n",
      "+--------------------+----+\n",
      "\n"
     ]
    }
   ],
   "source": [
    "# Checking out values that are duplicate\n",
    "spark.sql(\"\"\"\n",
    "    SELECT carrier, code\n",
    "    FROM dm_arlines_name\n",
    "    WHERE code IN (SELECT code\n",
    "                    FROM dm_arlines_name\n",
    "                    GROUP BY code\n",
    "                    HAVING COUNT(code) > 1\n",
    "                    ORDER BY 1 DESC\n",
    "    )\n",
    "    ORDER BY 2\n",
    "\"\"\").show(100)"
   ]
  },
  {
   "cell_type": "code",
   "execution_count": null,
   "metadata": {
    "editable": true
   },
   "outputs": [],
   "source": [
    "# Above only seem to duplicates across geographic areas, some duplicates for same airlines but different spelling or different service i.e. Cargo or Royal "
   ]
  },
  {
   "cell_type": "code",
   "execution_count": 64,
   "metadata": {
    "editable": true
   },
   "outputs": [],
   "source": [
    "# Adding Country column\n",
    "df_airlines.select(col(\"name\").alias(\"carrier\"),\n",
    "                   col(\"iata\").alias(\"code\"),\n",
    "                   col(\"country\")) \\\n",
    "                    .filter(col(\"iata\") != \"-\") \\\n",
    "                    .filter(col(\"iata\") != \"null\") \\\n",
    "                    .filter(col(\"active\") == 'Y') \\\n",
    "                    .dropDuplicates() \\\n",
    "                    .createOrReplaceTempView('dm_arlines_name')"
   ]
  },
  {
   "cell_type": "code",
   "execution_count": 63,
   "metadata": {
    "editable": true
   },
   "outputs": [
    {
     "name": "stdout",
     "output_type": "stream",
     "text": [
      "+--------------------+----+--------------+\n",
      "|             carrier|code|       country|\n",
      "+--------------------+----+--------------+\n",
      "|             NetJets|  1I| United States|\n",
      "|              Novair|  1I|        Sweden|\n",
      "|         Aerolitoral|  5D|        Mexico|\n",
      "|         DonbassAero|  5D|       Ukraine|\n",
      "|Myanmar Airways I...|  8M|       Myanmar|\n",
      "|              Maxair|  8M|        Sweden|\n",
      "|  Maldivian Air Taxi|  8Q|      Maldives|\n",
      "|            Onur Air|  8Q|        Turkey|\n",
      "|           QatXpress|  C3|         Qatar|\n",
      "|         Contact Air|  C3|       Germany|\n",
      "|     Macair Airlines|  CC|     Australia|\n",
      "|Air Atlanta Icela...|  CC|       Iceland|\n",
      "| Continental Express|  CO| United States|\n",
      "|Continental Airlines|  CO| United States|\n",
      "|   Canadian Airlines|  CP|        Canada|\n",
      "|    Compass Airlines|  CP| United States|\n",
      "|Gol Transportes A...|  G3|        Brazil|\n",
      "|City Connexion Ai...|  G3|       Burundi|\n",
      "|         Sky Express|  G3|        Greece|\n",
      "|              Indigo|  I9| United States|\n",
      "|           Air Italy|  I9|         Italy|\n",
      "|Japan Airlines Do...|  JL|         Japan|\n",
      "|      Japan Airlines|  JL|         Japan|\n",
      "|           Lufthansa|  LH|       Germany|\n",
      "|     Lufthansa Cargo|  LH|       Germany|\n",
      "|Royal Nepal Airlines|  RA|         Nepal|\n",
      "|      Nepal Airlines|  RA|         Nepal|\n",
      "|  Singapore Airlines|  SQ|     Singapore|\n",
      "|Singapore Airline...|  SQ|     Singapore|\n",
      "|            Airnorth|  TL|     Australia|\n",
      "|Trans Mediterrane...|  TL|       Lebanon|\n",
      "|    Formosa Airlines|  VY|        Taiwan|\n",
      "|    Vueling Airlines|  VY|         Spain|\n",
      "|    Western Airlines|  WA| United States|\n",
      "|      KLM Cityhopper|  WA|   Netherlands|\n",
      "|  Interavia Airlines|  ZA|        Russia|\n",
      "|          Access Air|  ZA| United States|\n",
      "|    Monarch Airlines|  ZB|United Kingdom|\n",
      "|         Air Bourbon|  ZB|       Reunion|\n",
      "+--------------------+----+--------------+\n",
      "\n"
     ]
    }
   ],
   "source": [
    "# Checking out values that are duplicate\n",
    "spark.sql(\"\"\"\n",
    "    SELECT carrier, code, country\n",
    "    FROM dm_arlines_name\n",
    "    WHERE code IN (SELECT code\n",
    "                    FROM dm_arlines_name\n",
    "                    GROUP BY code\n",
    "                    HAVING COUNT(code) > 1\n",
    "                    ORDER BY 1 DESC\n",
    "    )\n",
    "    ORDER BY 2\n",
    "\"\"\").show(100)"
   ]
  },
  {
   "cell_type": "code",
   "execution_count": 72,
   "metadata": {
    "editable": true
   },
   "outputs": [],
   "source": [
    "# Adding callsign and ICAO\n",
    "df_airlines.select(col(\"name\").alias(\"carrier\"),\n",
    "                   col(\"iata\").alias(\"code\"),\n",
    "                   col(\"country\"),\n",
    "                   col(\"callsign\"),\n",
    "                   col(\"icao\")) \\\n",
    "                    .filter(col(\"iata\") != \"-\") \\\n",
    "                    .filter(col(\"iata\") != \"null\") \\\n",
    "                    .filter(col(\"active\") == 'Y') \\\n",
    "                    .dropDuplicates() \\\n",
    "                    .createOrReplaceTempView('dm_arlines_name')"
   ]
  },
  {
   "cell_type": "code",
   "execution_count": 75,
   "metadata": {
    "editable": true
   },
   "outputs": [
    {
     "name": "stdout",
     "output_type": "stream",
     "text": [
      "+--------------------+----+--------------+--------------------+----+\n",
      "|             carrier|code|       country|            callsign|icao|\n",
      "+--------------------+----+--------------+--------------------+----+\n",
      "|             NetJets|  1I| United States|             EXECJET| EJA|\n",
      "|              Novair|  1I|        Sweden|           NAVIGATOR| NVR|\n",
      "|         Aerolitoral|  5D|        Mexico|             COSTERA| SLI|\n",
      "|         DonbassAero|  5D|       Ukraine|        DONBASS AERO| UDC|\n",
      "|              Maxair|  8M|        Sweden|              MAXAIR| MXL|\n",
      "|Myanmar Airways I...|  8M|       Myanmar|assignment postponed| MMM|\n",
      "|  Maldivian Air Taxi|  8Q|      Maldives|                  \\N|  \\N|\n",
      "|            Onur Air|  8Q|        Turkey|            ONUR AIR| OHY|\n",
      "|           QatXpress|  C3|         Qatar|                null| QAX|\n",
      "|         Contact Air|  C3|       Germany|          CONTACTAIR| KIS|\n",
      "|Air Atlanta Icela...|  CC|       Iceland|             ATLANTA| ABD|\n",
      "|     Macair Airlines|  CC|     Australia|                null| MCK|\n",
      "|Continental Airlines|  CO| United States|         CONTINENTAL| COA|\n",
      "| Continental Express|  CO| United States|             JETLINK|null|\n",
      "|   Canadian Airlines|  CP|        Canada|            CANADIAN| CDN|\n",
      "|    Compass Airlines|  CP| United States|        Compass Rose| CPZ|\n",
      "|City Connexion Ai...|  G3|       Burundi|           CONNEXION| CIX|\n",
      "|         Sky Express|  G3|        Greece|           AIR CRETE| SEH|\n",
      "|Gol Transportes A...|  G3|        Brazil|      GOL TRANSPORTE| GLO|\n",
      "|           Air Italy|  I9|         Italy|           AIR ITALY| AEY|\n",
      "|              Indigo|  I9| United States|         INDIGO BLUE| IBU|\n",
      "|      Japan Airlines|  JL|         Japan|            JAPANAIR| JAL|\n",
      "|Japan Airlines Do...|  JL|         Japan|              J-BIRD| JAL|\n",
      "|           Lufthansa|  LH|       Germany|           LUFTHANSA| DLH|\n",
      "|     Lufthansa Cargo|  LH|       Germany|     LUFTHANSA CARGO| GEC|\n",
      "|      Nepal Airlines|  RA|         Nepal|         ROYAL NEPAL| RNA|\n",
      "|Royal Nepal Airlines|  RA|         Nepal|         ROYAL NEPAL| RNA|\n",
      "|Singapore Airline...|  SQ|     Singapore|           SINGCARGO| SQC|\n",
      "|  Singapore Airlines|  SQ|     Singapore|           SINGAPORE| SIA|\n",
      "|            Airnorth|  TL|     Australia|              TOPEND| ANO|\n",
      "|Trans Mediterrane...|  TL|       Lebanon|          TANGO LIMA| TMA|\n",
      "|    Formosa Airlines|  VY|        Taiwan|                null| FOS|\n",
      "|    Vueling Airlines|  VY|         Spain|             VUELING| VLG|\n",
      "|      KLM Cityhopper|  WA|   Netherlands|                CITY| KLC|\n",
      "|    Western Airlines|  WA| United States|             WESTERN| WAL|\n",
      "|  Interavia Airlines|  ZA|        Russia|              ASTAIR| SUW|\n",
      "|          Access Air|  ZA| United States|             CYCLONE| CYD|\n",
      "|    Monarch Airlines|  ZB|United Kingdom|             MONARCH| MON|\n",
      "|         Air Bourbon|  ZB|       Reunion|             BOURBON| BUB|\n",
      "+--------------------+----+--------------+--------------------+----+\n",
      "\n"
     ]
    }
   ],
   "source": [
    "# Checking out values that are duplicate\n",
    "spark.sql(\"\"\"\n",
    "    SELECT carrier, code, country, callsign, icao\n",
    "    FROM dm_airlines_name\n",
    "    WHERE code IN (SELECT code\n",
    "                    FROM dm_arlines_name\n",
    "                    GROUP BY code\n",
    "                    HAVING COUNT(code) > 1\n",
    "                    ORDER BY 1 DESC\n",
    "    )\n",
    "    ORDER BY 2\n",
    "\"\"\").show(100)"
   ]
  },
  {
   "cell_type": "code",
   "execution_count": 78,
   "metadata": {
    "editable": true
   },
   "outputs": [
    {
     "name": "stdout",
     "output_type": "stream",
     "text": [
      "+-----------+----+\n",
      "|count(icao)|icao|\n",
      "+-----------+----+\n",
      "|          2| JAL|\n",
      "|          2| RNA|\n",
      "+-----------+----+\n",
      "\n"
     ]
    }
   ],
   "source": [
    "# Filter down further to check further. Looks like only duplicates appear are Japan Airlines and Nepal Airlines which is negelible\n",
    "# Probably for this reason, would have been to use IACO codes from ft_i94, however it seems to have only IATA codes\n",
    "# Might have been better use to Flight number info\n",
    "spark.sql(\"\"\"\n",
    "WITH t as (\n",
    "    SELECT carrier, code, country, callsign, icao\n",
    "    FROM dm_arlines_name\n",
    "    WHERE code IN (SELECT code\n",
    "                    FROM dm_arlines_name\n",
    "                    GROUP BY code\n",
    "                    HAVING COUNT(code) > 1\n",
    "                    ORDER BY 1 DESC\n",
    "    )\n",
    "    ORDER BY 2\n",
    ")\n",
    "SELECT COUNT(icao), icao, call \n",
    "FROM t\n",
    "GROUP BY icao\n",
    "HAVING COUNT(icao) > 1\n",
    "\"\"\").show()"
   ]
  },
  {
   "cell_type": "code",
   "execution_count": null,
   "metadata": {
    "editable": true
   },
   "outputs": [],
   "source": []
  }
 ],
 "metadata": {
  "kernelspec": {
   "display_name": "Python 3",
   "language": "python",
   "name": "python3"
  },
  "language_info": {
   "codemirror_mode": {
    "name": "ipython",
    "version": 3
   },
   "file_extension": ".py",
   "mimetype": "text/x-python",
   "name": "python",
   "nbconvert_exporter": "python",
   "pygments_lexer": "ipython3",
   "version": "3.6.3"
  }
 },
 "nbformat": 4,
 "nbformat_minor": 4
}
