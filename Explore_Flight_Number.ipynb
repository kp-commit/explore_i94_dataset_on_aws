{
 "cells": [
  {
   "cell_type": "code",
   "execution_count": 1,
   "metadata": {
    "editable": true
   },
   "outputs": [],
   "source": [
    "# Import Spark modules\n",
    "from pyspark.sql import SparkSession\n",
    "from pyspark.sql.types import *\n",
    "from pyspark.sql.functions import *\n",
    "\n",
    "# Setup Spark session\n",
    "spark = SparkSession.builder.appName(\"Explore_Flight_Number).getOrCreate()"
   ]
  },
  {
   "cell_type": "code",
   "execution_count": 2,
   "metadata": {
    "editable": true
   },
   "outputs": [
    {
     "name": "stdout",
     "output_type": "stream",
     "text": [
      "--------\n",
      "ft_i94\n",
      "--------\n",
      "+---------+------+------+------+------+-------+-------+-------+-------+-------+------+-------+-----+--------+--------+-----+-------+-------+-------+-------+-------+--------+------+------+-------+---------------+-----+--------+\n",
      "|    cicid| i94yr|i94mon|i94cit|i94res|i94port|arrdate|i94mode|i94addr|depdate|i94bir|i94visa|count|dtadfile|visapost|occup|entdepa|entdepd|entdepu|matflag|biryear| dtaddto|gender|insnum|airline|         admnum|fltno|visatype|\n",
      "+---------+------+------+------+------+-------+-------+-------+-------+-------+------+-------+-----+--------+--------+-----+-------+-------+-------+-------+-------+--------+------+------+-------+---------------+-----+--------+\n",
      "|4815887.0|2016.0|  11.0| 110.0| 110.0|    MIA|20783.0|    1.0|     FL|20793.0|  35.0|    1.0|  1.0|20161125|    null| null|      O|      O|   null|      M| 1981.0|02222017|     F|  null|     AA|1.4567885985E10|   39|      WB|\n",
      "|4815888.0|2016.0|  11.0| 209.0| 209.0|    HHW|20783.0|    1.0|     HI|20785.0|  32.0|    2.0|  1.0|20161125|    null| null|      O|      O|   null|      M| 1984.0|02222017|     F|  null|     NH|1.4568500085E10|  186|      WT|\n",
      "|4815889.0|2016.0|  11.0| 135.0| 135.0|    MIA|20783.0|    1.0|     FL|20792.0|  48.0|    2.0|  1.0|20161125|    null| null|      O|      I|   null|      M| 1968.0|02222017|     F|  null|     AA|1.4568501985E10|   39|      WT|\n",
      "|4815890.0|2016.0|  11.0| 148.0| 112.0|    LOS|20783.0|    1.0|     CA|20790.0|  35.0|    1.0|  1.0|20161125|    null| null|      O|      O|   null|      M| 1981.0|02222017|     M|  null|     LH|1.4568502885E10|  456|      WB|\n",
      "|4815891.0|2016.0|  11.0| 111.0| 111.0|    LOS|20783.0|    1.0|     CA|   null|  29.0|    2.0|  1.0|20161125|    null| null|      O|   null|   null|   null| 1987.0|02222017|     F|  null|     KL|1.4568503785E10|  601|      WT|\n",
      "+---------+------+------+------+------+-------+-------+-------+-------+-------+------+-------+-----+--------+--------+-----+-------+-------+-------+-------+-------+--------+------+------+-------+---------------+-----+--------+\n",
      "only showing top 5 rows\n",
      "\n"
     ]
    }
   ],
   "source": [
    "# Read parquet files:\n",
    "df_ft_i94 = spark.read.parquet('s3/ft_i94')\n",
    "\n",
    "# Create a temp view for exploring it\n",
    "df_ft_i94.createOrReplaceTempView('ft_i94')\n",
    "\n",
    "# See a sample of dataset\n",
    "print('--------')\n",
    "print('ft_i94')\n",
    "print('--------')\n",
    "spark.sql(\"\"\"\n",
    "    SELECT *\n",
    "    FROM ft_i94\n",
    "\"\"\").show(5)\n"
   ]
  },
  {
   "cell_type": "code",
   "execution_count": 4,
   "metadata": {
    "editable": true
   },
   "outputs": [
    {
     "name": "stdout",
     "output_type": "stream",
     "text": [
      "+-----+-------+\n",
      "|fltno|airline|\n",
      "+-----+-------+\n",
      "|   39|     AA|\n",
      "|  186|     NH|\n",
      "|   39|     AA|\n",
      "|  456|     LH|\n",
      "|  601|     KL|\n",
      "+-----+-------+\n",
      "only showing top 5 rows\n",
      "\n"
     ]
    }
   ],
   "source": [
    "spark.sql(\"\"\"\n",
    "    SELECT fltno, airline\n",
    "    FROM ft_i94\n",
    "\"\"\").show(5)"
   ]
  },
  {
   "cell_type": "code",
   "execution_count": 9,
   "metadata": {
    "editable": true
   },
   "outputs": [
    {
     "name": "stdout",
     "output_type": "stream",
     "text": [
      "+--------------+-------+\n",
      "|count(airline)|airline|\n",
      "+--------------+-------+\n",
      "|       1414865|     LH|\n",
      "|        907182|     JL|\n",
      "|        191746|     SQ|\n",
      "|         41518|     CP|\n",
      "|          3944|     G3|\n",
      "|            67|     CC|\n",
      "|            44|     TL|\n",
      "|            22|     WA|\n",
      "|            16|     CO|\n",
      "|            15|     5D|\n",
      "|             5|     I9|\n",
      "|             3|     ZB|\n",
      "|             2|     VY|\n",
      "+--------------+-------+\n",
      "\n"
     ]
    }
   ],
   "source": [
    "# Checking to see if duplicates of airline code also in flight no or not\n",
    "# Using duplicate codes found in Airlines.dat to see if any issue with this dataset:\n",
    "spark.sql(\"\"\"\n",
    "    SELECT COUNT(airline), airline\n",
    "    FROM ft_i94\n",
    "    WHERE airline IN ('G3','RA','VY','5D','C3','8Q','ZA','WA','8M','LH','CC','TL','JL','ZB','CP','1I','CO','I9','SQ')\n",
    "    GROUP BY airline\n",
    "    HAVING COUNT(airline) > 1\n",
    "    ORDER BY 1 DESC\n",
    "\"\"\").show(100)"
   ]
  },
  {
   "cell_type": "code",
   "execution_count": null,
   "metadata": {
    "editable": true
   },
   "outputs": [],
   "source": [
    "\"\"\"\n",
    "For Above ft_i94 and according to data in Airlines.dat\n",
    "LH = Lufthansa (can assume this to be non-Cargo only as taking persons here) - So, can be safely clubbed\n",
    "JL = Japan Airlines and Japan Airlines (J-Bird). Same airline with variation - So, can be safely clubbed\n",
    "SQ = Singapore Airlines and SINGCARGO variations but part of same airline. - So, can safely clubbed\n",
    "CP = Canadian Airlines OR Compass Airlines which was 'regional' airline headquartered, no longer active. - So, CP can be assumed to be Canadian Airlines only.\n",
    "G3 = City Connexion Airlines (based in Burundi) OR Sky Express (Greece) OR Gol Transportes Aereos (Brazil)\n",
    "    City Connexion Airlines: now no longer active), Sky Express (Greece) is domestic only\n",
    "    Gol Transportes Aereos (Brazil), 3rd largest international airline in Brazil - So, G3 can be assumed to be Gol Transportes Aereos\n",
    "Rest, not significant counts, so ignoring unless needed for specific observations\n",
    "\"\"\""
   ]
  }
 ],
 "metadata": {
  "kernelspec": {
   "display_name": "Python 3",
   "language": "python",
   "name": "python3"
  },
  "language_info": {
   "codemirror_mode": {
    "name": "ipython",
    "version": 3
   },
   "file_extension": ".py",
   "mimetype": "text/x-python",
   "name": "python",
   "nbconvert_exporter": "python",
   "pygments_lexer": "ipython3",
   "version": "3.6.3"
  }
 },
 "nbformat": 4,
 "nbformat_minor": 4
}
