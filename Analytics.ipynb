{
 "cells": [
  {
   "cell_type": "code",
   "execution_count": 1,
   "metadata": {},
   "outputs": [
    {
     "data": {
      "application/vnd.jupyter.widget-view+json": {
       "model_id": "7da52345991247b79cf65845470074da",
       "version_major": 2,
       "version_minor": 0
      },
      "text/plain": [
       "VBox()"
      ]
     },
     "metadata": {},
     "output_type": "display_data"
    },
    {
     "name": "stdout",
     "output_type": "stream",
     "text": [
      "Starting Spark application\n"
     ]
    },
    {
     "data": {
      "text/html": [
       "<table>\n",
       "<tr><th>ID</th><th>YARN Application ID</th><th>Kind</th><th>State</th><th>Spark UI</th><th>Driver log</th><th>Current session?</th></tr><tr><td>0</td><td>application_1595654829331_0002</td><td>pyspark</td><td>idle</td><td><a target=\"_blank\" href=\"http://ip-172-31-32-153.us-west-2.compute.internal:20888/proxy/application_1595654829331_0002/\">Link</a></td><td><a target=\"_blank\" href=\"http://ip-172-31-42-41.us-west-2.compute.internal:8042/node/containerlogs/container_1595654829331_0002_01_000001/livy\">Link</a></td><td>✔</td></tr></table>"
      ],
      "text/plain": [
       "<IPython.core.display.HTML object>"
      ]
     },
     "metadata": {},
     "output_type": "display_data"
    },
    {
     "data": {
      "application/vnd.jupyter.widget-view+json": {
       "model_id": "",
       "version_major": 2,
       "version_minor": 0
      },
      "text/plain": [
       "FloatProgress(value=0.0, bar_style='info', description='Progress:', layout=Layout(height='25px', width='50%'),…"
      ]
     },
     "metadata": {},
     "output_type": "display_data"
    },
    {
     "name": "stdout",
     "output_type": "stream",
     "text": [
      "SparkSession available as 'spark'.\n"
     ]
    },
    {
     "data": {
      "application/vnd.jupyter.widget-view+json": {
       "model_id": "",
       "version_major": 2,
       "version_minor": 0
      },
      "text/plain": [
       "FloatProgress(value=0.0, bar_style='info', description='Progress:', layout=Layout(height='25px', width='50%'),…"
      ]
     },
     "metadata": {},
     "output_type": "display_data"
    },
    {
     "name": "stdout",
     "output_type": "stream",
     "text": [
      "Welcome to i94 EMR Notebook!"
     ]
    }
   ],
   "source": [
    "##########################################################################\n",
    "## Kernel needs to be set to PySpark (this will launch spark session)\n",
    "##########################################################################\n",
    "\n",
    "print(\"Welcome to i94 EMR Notebook!\")"
   ]
  },
  {
   "cell_type": "code",
   "execution_count": 2,
   "metadata": {},
   "outputs": [
    {
     "data": {
      "application/vnd.jupyter.widget-view+json": {
       "model_id": "1a78d8b8be8a44f18cb10f1831e55625",
       "version_major": 2,
       "version_minor": 0
      },
      "text/plain": [
       "VBox()"
      ]
     },
     "metadata": {},
     "output_type": "display_data"
    },
    {
     "data": {
      "application/vnd.jupyter.widget-view+json": {
       "model_id": "",
       "version_major": 2,
       "version_minor": 0
      },
      "text/plain": [
       "FloatProgress(value=0.0, bar_style='info', description='Progress:', layout=Layout(height='25px', width='50%'),…"
      ]
     },
     "metadata": {},
     "output_type": "display_data"
    }
   ],
   "source": [
    "## Read table files and load dataframes\n",
    "#S3_STAGE = 's3_staging/'\n",
    "\n",
    "##########################################################################\n",
    "## For table read location, toggle below line with line after to change\n",
    "## from local filesystem to AWS S3\n",
    "##########################################################################\n",
    "#I94_TABLE_FLS = S3_STAGE\n",
    "I94_TABLE_FLS ='s3://kbucket-udfls/i94_table_fls/'\n",
    "\n",
    "\n",
    "# Read parquet files:\n",
    "df_ft_i94 = spark.read.parquet(I94_TABLE_FLS+'ft_i94')\n",
    "df_dm_AddrState = spark.read.parquet(I94_TABLE_FLS+'dm_AddrState')\n",
    "df_dm_CountryofEntry = spark.read.parquet(I94_TABLE_FLS+'dm_CountryofEntry')\n",
    "df_dm_PortofEntry = spark.read.parquet(I94_TABLE_FLS+'dm_PortofEntry')\n",
    "df_dm_Purpose = spark.read.parquet(I94_TABLE_FLS+'dm_Purpose')\n",
    "df_dm_ModeofEntry = spark.read.parquet(I94_TABLE_FLS+'dm_ModeofEntry')\n",
    "df_dm_CityDemoGraph = spark.read.parquet(I94_TABLE_FLS+'dm_CityDemoGraph')\n",
    "df_dm_Airport = spark.read.parquet(I94_TABLE_FLS+'dm_Airport')\n",
    "df_dm_airline_name = spark.read.parquet(I94_TABLE_FLS+'dm_airline_name')\n",
    "df_dm_Weather = spark.read.parquet(I94_TABLE_FLS+'dm_Weather')"
   ]
  },
  {
   "cell_type": "code",
   "execution_count": 3,
   "metadata": {},
   "outputs": [
    {
     "data": {
      "application/vnd.jupyter.widget-view+json": {
       "model_id": "d10ad28005774447a3e61cff58af7318",
       "version_major": 2,
       "version_minor": 0
      },
      "text/plain": [
       "VBox()"
      ]
     },
     "metadata": {},
     "output_type": "display_data"
    },
    {
     "data": {
      "application/vnd.jupyter.widget-view+json": {
       "model_id": "",
       "version_major": 2,
       "version_minor": 0
      },
      "text/plain": [
       "FloatProgress(value=0.0, bar_style='info', description='Progress:', layout=Layout(height='25px', width='50%'),…"
      ]
     },
     "metadata": {},
     "output_type": "display_data"
    },
    {
     "name": "stdout",
     "output_type": "stream",
     "text": [
      "--------\n",
      "ft_i94\n",
      "--------\n",
      "Count of df_ft_i94:  40790529\n",
      "+-----------+\n",
      "|ft_i94_Rows|\n",
      "+-----------+\n",
      "|   40790529|\n",
      "+-----------+\n",
      "\n",
      "+---------+------+------+------+------+-------+-------+-------+-------+-------+------+-------+-----+--------+--------+-------+-------+-------+-------+--------+------+-------+---------------+-----+--------+\n",
      "|    cicid| i94yr|i94mon|i94cit|i94res|i94port|arrdate|i94mode|i94addr|depdate|i94bir|i94visa|count|dtadfile|visapost|entdepa|entdepd|matflag|biryear| dtaddto|gender|airline|         admnum|fltno|visatype|\n",
      "+---------+------+------+------+------+-------+-------+-------+-------+-------+------+-------+-----+--------+--------+-------+-------+-------+-------+--------+------+-------+---------------+-----+--------+\n",
      "|6371081.0|2016.0|  10.0| 123.0| 123.0|    ATL|20758.0|    1.0|     FL|20761.0|  36.0|    1.0|  1.0|20161031|    null|      O|      O|      M| 1980.0|01282017|  null|     DL|6.7452946033E10|00075|      WB|\n",
      "|6371082.0|2016.0|  10.0| 135.0| 135.0|    ORL|20758.0|    1.0|     FL|20769.0|  47.0|    2.0|  1.0|20161031|    null|      G|      Q|      M| 1969.0|01282017|     F|     VS|6.7452947033E10|00027|      WT|\n",
      "|6371083.0|2016.0|  10.0| 123.0| 123.0|    SPM|20758.0|    1.0|     TX|20761.0|  29.0|    1.0|  1.0|20161031|    null|      O|      O|      M| 1987.0|01282017|  null|     DL|6.7452948933E10|00163|      WB|\n",
      "|6371084.0|2016.0|  10.0| 124.0| 124.0|    CHI|20758.0|    1.0|     KY|20761.0|  34.0|    1.0|  1.0|20161031|    null|      O|      O|      M| 1982.0|01282017|  null|     UA|6.7452949833E10|00906|      WB|\n",
      "|6371085.0|2016.0|  10.0| 166.0| 166.0|    NYC|20758.0|    1.0|     NY|20764.0|  11.0|    2.0|  1.0|20161031|    null|      G|      O|      M| 2005.0|01282017|     F|     AB|6.7452950733E10|07248|      WT|\n",
      "+---------+------+------+------+------+-------+-------+-------+-------+-------+------+-------+-----+--------+--------+-------+-------+-------+-------+--------+------+-------+---------------+-----+--------+\n",
      "only showing top 5 rows\n",
      "\n",
      "--------------\n",
      "dm_AddrState\n",
      "--------------\n",
      "Count of df_dm_AddrState:  55\n",
      "+-----------------+\n",
      "|dm_AddrState_Rows|\n",
      "+-----------------+\n",
      "|               55|\n",
      "+-----------------+\n",
      "\n",
      "+---------+----------+\n",
      "|Statecode| Statename|\n",
      "+---------+----------+\n",
      "|       AL|   ALABAMA|\n",
      "|       AK|    ALASKA|\n",
      "|       AZ|   ARIZONA|\n",
      "|       AR|  ARKANSAS|\n",
      "|       CA|CALIFORNIA|\n",
      "+---------+----------+\n",
      "only showing top 5 rows\n",
      "\n",
      "------------------\n",
      "dm_CountryofEntry\n",
      "------------------\n",
      "Count of df_dm_CountryofEntry:  289\n",
      "+----------------------+\n",
      "|dm_CountryofEntry_Rows|\n",
      "+----------------------+\n",
      "|                   289|\n",
      "+----------------------+\n",
      "\n",
      "+----+--------------------+\n",
      "|Code|             Country|\n",
      "+----+--------------------+\n",
      "| 582|MEXICO Air Sea, a...|\n",
      "| 236|         AFGHANISTAN|\n",
      "| 101|             ALBANIA|\n",
      "| 316|             ALGERIA|\n",
      "| 102|             ANDORRA|\n",
      "+----+--------------------+\n",
      "only showing top 5 rows\n",
      "\n",
      "---------------\n",
      "dm_PortofEntry\n",
      "---------------\n",
      "Count of df_dm_PortofEntry:  660\n",
      "+-------------------+\n",
      "|dm_PortofEntry_Rows|\n",
      "+-------------------+\n",
      "|                660|\n",
      "+-------------------+\n",
      "\n",
      "+--------------------+----+-----+\n",
      "|                City|Code|State|\n",
      "+--------------------+----+-----+\n",
      "|               ALCAN| ALC|   AK|\n",
      "|           ANCHORAGE| ANC|   AK|\n",
      "|BAKER AAF - BAKER...| BAR|   AK|\n",
      "|       DALTONS CACHE| DAC|   AK|\n",
      "|DEW STATION PT LA...| PIZ|   AK|\n",
      "+--------------------+----+-----+\n",
      "only showing top 5 rows\n",
      "\n",
      "-----------\n",
      "dm_Purpose\n",
      "-----------\n",
      "Count of df_dm_Purpose:  3\n",
      "+---------------+\n",
      "|dm_Purpose_Rows|\n",
      "+---------------+\n",
      "|              3|\n",
      "+---------------+\n",
      "\n",
      "+----+--------+\n",
      "|Code| Purpose|\n",
      "+----+--------+\n",
      "|   1|Business|\n",
      "|   2|Pleasure|\n",
      "|   3| Student|\n",
      "+----+--------+\n",
      "\n",
      "--------------\n",
      "dm_ModeofEntry\n",
      "--------------\n",
      "Count of df_dm_ModeofEntry:  4\n",
      "+-------------------+\n",
      "|dm_ModeofEntry_Rows|\n",
      "+-------------------+\n",
      "|                  4|\n",
      "+-------------------+\n",
      "\n",
      "+----+------------+\n",
      "|Mode|    Modetype|\n",
      "+----+------------+\n",
      "|   1|         Air|\n",
      "|   2|         Sea|\n",
      "|   3|        Land|\n",
      "|   9|Not reported|\n",
      "+----+------------+\n",
      "\n",
      "----------------\n",
      "dm_CityDemoGraph\n",
      "----------------\n",
      "Count of df_dm_CityDemoGraph:  2891\n",
      "+---------------------+\n",
      "|dm_CityDemoGraph_Rows|\n",
      "+---------------------+\n",
      "|                 2891|\n",
      "+---------------------+\n",
      "\n",
      "+----------------+-------------+---------+--------+--------+--------+--------+------------+--------------+-----+--------------------+-----+\n",
      "|            City|        State|MedianAge|    Male|  Female|TotalPop|Veterans|Foreign_born|Avg_Hshld_Size|St_cd|                Race|Count|\n",
      "+----------------+-------------+---------+--------+--------+--------+--------+------------+--------------+-----+--------------------+-----+\n",
      "|   Silver Spring|     Maryland|     33.8| 40601.0| 41862.0|   82463|  1562.0|     30908.0|           2.6|   MD|  Hispanic or Latino|25924|\n",
      "|          Quincy|Massachusetts|     41.0| 44129.0| 49500.0|   93629|  4147.0|     32935.0|          2.39|   MA|               White|58723|\n",
      "|          Hoover|      Alabama|     38.5| 38040.0| 46799.0|   84839|  4819.0|      8229.0|          2.58|   AL|               Asian| 4759|\n",
      "|Rancho Cucamonga|   California|     34.5| 88127.0| 87105.0|  175232|  5821.0|     33878.0|          3.18|   CA|Black or African-...|24437|\n",
      "|          Newark|   New Jersey|     34.6|138040.0|143873.0|  281913|  5829.0|     86253.0|          2.73|   NJ|               White|76402|\n",
      "+----------------+-------------+---------+--------+--------+--------+--------+------------+--------------+-----+--------------------+-----+\n",
      "only showing top 5 rows\n",
      "\n",
      "-----------\n",
      "dm_Airport\n",
      "-----------\n",
      "Count of df_dm_Airport:  55075\n",
      "+---------------+\n",
      "|dm_Airport_Rows|\n",
      "+---------------+\n",
      "|          55075|\n",
      "+---------------+\n",
      "\n",
      "+-----+-------------+--------------------+------------+---------+-----------+----------+------------+--------+---------+----------+--------------------+\n",
      "|ident|         type|                name|elevation_ft|continent|iso_country|iso_region|municipality|gps_code|iata_code|local_code|         coordinates|\n",
      "+-----+-------------+--------------------+------------+---------+-----------+----------+------------+--------+---------+----------+--------------------+\n",
      "|  00A|     heliport|   Total Rf Heliport|        11.0|      NaN|         US|     US-PA|    Bensalem|     00A|      NaN|       00A|-74.9336013793945...|\n",
      "| 00AA|small_airport|Aero B Ranch Airport|      3435.0|      NaN|         US|     US-KS|       Leoti|    00AA|      NaN|      00AA|-101.473911, 38.7...|\n",
      "| 00AK|small_airport|        Lowell Field|       450.0|      NaN|         US|     US-AK|Anchor Point|    00AK|      NaN|      00AK|-151.695999146, 5...|\n",
      "| 00AL|small_airport|        Epps Airpark|       820.0|      NaN|         US|     US-AL|     Harvest|    00AL|      NaN|      00AL|-86.7703018188476...|\n",
      "| 00AR|       closed|Newport Hospital ...|       237.0|      NaN|         US|     US-AR|     Newport|     NaN|      NaN|       NaN| -91.254898, 35.6087|\n",
      "+-----+-------------+--------------------+------------+---------+-----------+----------+------------+--------+---------+----------+--------------------+\n",
      "only showing top 5 rows\n",
      "\n",
      "----------------\n",
      "dm_airline_name\n",
      "----------------\n",
      "Count of df_dm_airline_name:  1014\n",
      "+--------------------+\n",
      "|dm_airline_name_Rows|\n",
      "+--------------------+\n",
      "|                1014|\n",
      "+--------------------+\n",
      "\n",
      "+-----+------------------+-----+----+----+------------------+--------------------+------+\n",
      "|   id|           carrier|Alias|code|ICAO|          Callsign|             Country|Active|\n",
      "+-----+------------------+-----+----+----+------------------+--------------------+------+\n",
      "| 1663|Caribbean Airlines|   \\N|  BW| BWA|CARIBBEAN AIRLINES| Trinidad and Tobago|     Y|\n",
      "| 2773|Hong Kong Airlines|   \\N|  HX| CRK|          BAUHINIA|Hong Kong SAR of ...|     Y|\n",
      "| 5496|           Yemenia|   \\N|  IY| IYE|            YEMENI|               Yemen|     Y|\n",
      "| 9809|        Eastar Jet| null|  ZE| ESR|            Eastar|         South Korea|     Y|\n",
      "|17023|        Asia Wings| null|  Y5| AWA|              null|          Kazakhstan|     Y|\n",
      "+-----+------------------+-----+----+----+------------------+--------------------+------+\n",
      "only showing top 5 rows\n",
      "\n",
      "----------------\n",
      "dm_Weather\n",
      "----------------\n",
      "Count of df_dm_Weather:  687289\n",
      "+---------------+\n",
      "|dm_Weather_Rows|\n",
      "+---------------+\n",
      "|         687289|\n",
      "+---------------+\n",
      "\n",
      "+----------+------------------+-----------------------------+-------+-------------+--------+---------+\n",
      "|        dt|AverageTemperature|AverageTemperatureUncertainty|   City|      Country|Latitude|Longitude|\n",
      "+----------+------------------+-----------------------------+-------+-------------+--------+---------+\n",
      "|1835-10-01|            14.992|                         1.55|Abilene|United States|  32.95N|  100.53W|\n",
      "|1847-05-01|            20.166|                        1.724|Abilene|United States|  32.95N|  100.53W|\n",
      "|1852-09-01|            22.071|                        1.252|Abilene|United States|  32.95N|  100.53W|\n",
      "|1870-08-01|            26.182|                        1.361|Abilene|United States|  32.95N|  100.53W|\n",
      "|1872-04-01|            17.646|                        1.455|Abilene|United States|  32.95N|  100.53W|\n",
      "+----------+------------------+-----------------------------+-------+-------------+--------+---------+\n",
      "only showing top 5 rows"
     ]
    }
   ],
   "source": [
    "# Create a temp view for ft_i94 and exploring it\n",
    "df_ft_i94.createOrReplaceTempView('ft_i94')\n",
    "\n",
    "# See row counts and a sample of dataset\n",
    "print('--------')\n",
    "print('ft_i94')\n",
    "print('--------')\n",
    "print('Count of df_ft_i94: ', df_ft_i94.count())\n",
    "spark.sql(\"\"\"\n",
    "    SELECT COUNT(*) ft_i94_Rows\n",
    "    FROM ft_i94\n",
    "\"\"\").show()          \n",
    "spark.sql(\"\"\"\n",
    "    SELECT *\n",
    "    FROM ft_i94\n",
    "\"\"\").show(5)\n",
    "\n",
    "\n",
    "# Create a temp view for dm_AddrState and exploring it\n",
    "df_dm_AddrState.createOrReplaceTempView('dm_AddrState')\n",
    "\n",
    "# See row counts and a sample of dataset\n",
    "print('--------------')\n",
    "print('dm_AddrState')\n",
    "print('--------------')\n",
    "\n",
    "print('Count of df_dm_AddrState: ', df_dm_AddrState.count())\n",
    "\n",
    "spark.sql(\"\"\"\n",
    "    SELECT COUNT(*) dm_AddrState_Rows\n",
    "    FROM dm_AddrState\n",
    "\"\"\").show()   \n",
    "\n",
    "spark.sql(\"\"\"\n",
    "    SELECT *\n",
    "    FROM dm_AddrState\n",
    "\"\"\").show(5)\n",
    "\n",
    "\n",
    "# Create a temp view for dm_CountryofEntry and exploring it\n",
    "df_dm_CountryofEntry.createOrReplaceTempView('dm_CountryofEntry')\n",
    "\n",
    "# See row counts and a sample of dataset\n",
    "print('------------------')\n",
    "print('dm_CountryofEntry')\n",
    "print('------------------')\n",
    "\n",
    "print('Count of df_dm_CountryofEntry: ', df_dm_CountryofEntry.count())\n",
    "\n",
    "spark.sql(\"\"\"\n",
    "    SELECT COUNT(*) dm_CountryofEntry_Rows\n",
    "    FROM dm_CountryofEntry\n",
    "\"\"\").show()  \n",
    "\n",
    "spark.sql(\"\"\"\n",
    "    SELECT *\n",
    "    FROM dm_CountryofEntry\n",
    "\"\"\").show(5)\n",
    "\n",
    "\n",
    "# Create a temp view for dm_PortofEntry and exploring it\n",
    "df_dm_PortofEntry.createOrReplaceTempView('dm_PortofEntry')\n",
    "\n",
    "# See row counts and a sample of dataset\n",
    "print('---------------')\n",
    "print('dm_PortofEntry')\n",
    "print('---------------')\n",
    "\n",
    "print('Count of df_dm_PortofEntry: ', df_dm_PortofEntry.count())\n",
    "\n",
    "spark.sql(\"\"\"\n",
    "    SELECT COUNT(*) dm_PortofEntry_Rows\n",
    "    FROM dm_PortofEntry\n",
    "\"\"\").show()  \n",
    "\n",
    "spark.sql(\"\"\"\n",
    "    SELECT *\n",
    "    FROM dm_PortofEntry\n",
    "\"\"\").show(5)\n",
    "\n",
    "\n",
    "# Create a temp view for dm_Purpose and exploring it\n",
    "df_dm_Purpose.createOrReplaceTempView('dm_Purpose')\n",
    "\n",
    "# See row counts and a sample of dataset\n",
    "print('-----------')\n",
    "print('dm_Purpose')\n",
    "print('-----------')\n",
    "\n",
    "print('Count of df_dm_Purpose: ', df_dm_Purpose.count())\n",
    "\n",
    "spark.sql(\"\"\"\n",
    "    SELECT COUNT(*) dm_Purpose_Rows\n",
    "    FROM dm_Purpose\n",
    "\"\"\").show()  \n",
    "\n",
    "\n",
    "spark.sql(\"\"\"\n",
    "    SELECT *\n",
    "    FROM dm_Purpose\n",
    "\"\"\").show(5)\n",
    "\n",
    "\n",
    "# Create a temp view for dm_ModeofEntry and exploring it\n",
    "df_dm_ModeofEntry.createOrReplaceTempView('dm_ModeofEntry')\n",
    "\n",
    "# See row counts and a sample of dataset\n",
    "print('--------------')\n",
    "print('dm_ModeofEntry')\n",
    "print('--------------')\n",
    "\n",
    "print('Count of df_dm_ModeofEntry: ', df_dm_ModeofEntry.count())\n",
    "\n",
    "spark.sql(\"\"\"\n",
    "    SELECT COUNT(*) dm_ModeofEntry_Rows\n",
    "    FROM dm_ModeofEntry\n",
    "\"\"\").show()  \n",
    "\n",
    "\n",
    "spark.sql(\"\"\"\n",
    "    SELECT *\n",
    "    FROM dm_ModeofEntry\n",
    "\"\"\").show(5)\n",
    "\n",
    "\n",
    "\n",
    "# Create a temp view for dm_CityDemoGraph and exploring it\n",
    "df_dm_CityDemoGraph.createOrReplaceTempView('dm_CityDemoGraph')\n",
    "\n",
    "# See row counts and a sample of dataset\n",
    "print('----------------')\n",
    "print('dm_CityDemoGraph')\n",
    "print('----------------')\n",
    "\n",
    "print('Count of df_dm_CityDemoGraph: ', df_dm_CityDemoGraph.count())\n",
    "\n",
    "spark.sql(\"\"\"\n",
    "    SELECT COUNT(*) dm_CityDemoGraph_Rows\n",
    "    FROM dm_CityDemoGraph\n",
    "\"\"\").show()  \n",
    "\n",
    "spark.sql(\"\"\"\n",
    "    SELECT *\n",
    "    FROM dm_CityDemoGraph\n",
    "\"\"\").show(5)\n",
    "\n",
    "\n",
    "\n",
    "# Create a temp view for dm_Airport and exploring it\n",
    "df_dm_Airport.createOrReplaceTempView('dm_Airport')\n",
    "\n",
    "# See row counts and a sample of dataset\n",
    "print('-----------')\n",
    "print('dm_Airport')\n",
    "print('-----------')\n",
    "\n",
    "print('Count of df_dm_Airport: ', df_dm_Airport.count())\n",
    "\n",
    "spark.sql(\"\"\"\n",
    "    SELECT COUNT(*) dm_Airport_Rows\n",
    "    FROM dm_Airport\n",
    "\"\"\").show()  \n",
    "\n",
    "spark.sql(\"\"\"\n",
    "    SELECT *\n",
    "    FROM dm_Airport\n",
    "\"\"\").show(5)\n",
    "\n",
    "\n",
    "# Create a temp view for dm_airline_name and exploring it\n",
    "df_dm_airline_name.createOrReplaceTempView('dm_airline_name')\n",
    "\n",
    "\n",
    "# See row counts and a sample of dataset\n",
    "print('----------------')\n",
    "print('dm_airline_name')\n",
    "print('----------------')\n",
    "\n",
    "print('Count of df_dm_airline_name: ', df_dm_airline_name.count())\n",
    "\n",
    "spark.sql(\"\"\"\n",
    "    SELECT COUNT(*) dm_airline_name_Rows\n",
    "    FROM dm_airline_name\n",
    "\"\"\").show()  \n",
    "\n",
    "spark.sql(\"\"\"\n",
    "    SELECT *\n",
    "    FROM dm_airline_name\n",
    "    LIMIT\n",
    "\"\"\").show(5)\n",
    "\n",
    "\n",
    "# Create a temp view for df_dm_Weather and exploring it\n",
    "df_dm_Weather.createOrReplaceTempView('dm_Weather')\n",
    "\n",
    "# See row counts and a sample of dataset\n",
    "print('----------------')\n",
    "print('dm_Weather')\n",
    "print('----------------')\n",
    "\n",
    "# Look at df and table view counts\n",
    "print('Count of df_dm_Weather: ', df_dm_Weather.count())\n",
    "\n",
    "spark.sql(\"\"\"\n",
    "    SELECT COUNT(*) dm_Weather_Rows\n",
    "    FROM dm_Weather\n",
    "\"\"\").show()  \n",
    "\n",
    "row_sample = spark.sql(\"\"\"\n",
    "    SELECT *\n",
    "    FROM dm_Weather\n",
    "\"\"\").show(5)"
   ]
  },
  {
   "cell_type": "code",
   "execution_count": 4,
   "metadata": {},
   "outputs": [
    {
     "data": {
      "application/vnd.jupyter.widget-view+json": {
       "model_id": "6118054df6654f1d83e853066bb46917",
       "version_major": 2,
       "version_minor": 0
      },
      "text/plain": [
       "VBox()"
      ]
     },
     "metadata": {},
     "output_type": "display_data"
    },
    {
     "data": {
      "application/vnd.jupyter.widget-view+json": {
       "model_id": "",
       "version_major": 2,
       "version_minor": 0
      },
      "text/plain": [
       "FloatProgress(value=0.0, bar_style='info', description='Progress:', layout=Layout(height='25px', width='50%'),…"
      ]
     },
     "metadata": {},
     "output_type": "display_data"
    },
    {
     "name": "stdout",
     "output_type": "stream",
     "text": [
      "   Travelers              city state\n",
      "0    4390078          NEW YORK    NY\n",
      "1    3674255             MIAMI    FL\n",
      "2    3430223       LOS ANGELES    CA\n",
      "3    1987079     SAN FRANCISCO    CA\n",
      "4    1935519          HONOLULU    HI\n",
      "5    1652511  NEWARK/TETERBORO    NJ\n",
      "6    1593321           CHICAGO    IL\n",
      "7    1513828           ORLANDO    FL\n",
      "8    1230488           HOUSTON    TX\n",
      "9    1226594             AGANA    GU"
     ]
    }
   ],
   "source": [
    "# Q1: What are top 10 cities for US arrivals?\n",
    "top_destinations = spark.sql(\"\"\"\n",
    "    SELECT COUNT(DISTINCT(f.cicid)) Travelers, poe.city, poe.state\n",
    "    FROM ft_i94 f\n",
    "    JOIN dm_PortofEntry poe\n",
    "    ON f.i94port = poe.code\n",
    "    GROUP BY poe.city, poe.state\n",
    "    ORDER BY 1 DESC\n",
    "    LIMIT 10\n",
    "\"\"\").toPandas()\n",
    "\n",
    "top_destinations.head(10)"
   ]
  },
  {
   "cell_type": "code",
   "execution_count": 5,
   "metadata": {},
   "outputs": [
    {
     "data": {
      "application/vnd.jupyter.widget-view+json": {
       "model_id": "3657c89f7e874e55bb98aea34f3415ce",
       "version_major": 2,
       "version_minor": 0
      },
      "text/plain": [
       "VBox()"
      ]
     },
     "metadata": {},
     "output_type": "display_data"
    },
    {
     "data": {
      "application/vnd.jupyter.widget-view+json": {
       "model_id": "",
       "version_major": 2,
       "version_minor": 0
      },
      "text/plain": [
       "FloatProgress(value=0.0, bar_style='info', description='Progress:', layout=Layout(height='25px', width='50%'),…"
      ]
     },
     "metadata": {},
     "output_type": "display_data"
    },
    {
     "data": {
      "image/png": "[encoded data removed]",
      "text/plain": [
       "<IPython.core.display.Image object>"
      ]
     },
     "metadata": {},
     "output_type": "display_data"
    }
   ],
   "source": [
    "import matplotlib.pyplot as plt\n",
    "dest_colors = [(x/10.0, x/20.0, 0.3) for x in range(len(top_destinations))]\n",
    "top_destinations.plot(x='city',y='Travelers',kind='bar', color=dest_colors, title='Top Destinations');\n",
    "%matplot plt"
   ]
  },
  {
   "cell_type": "code",
   "execution_count": 6,
   "metadata": {},
   "outputs": [
    {
     "data": {
      "application/vnd.jupyter.widget-view+json": {
       "model_id": "9c17d15f1a3d41c48141f31d9e42b259",
       "version_major": 2,
       "version_minor": 0
      },
      "text/plain": [
       "VBox()"
      ]
     },
     "metadata": {},
     "output_type": "display_data"
    },
    {
     "data": {
      "application/vnd.jupyter.widget-view+json": {
       "model_id": "",
       "version_major": 2,
       "version_minor": 0
      },
      "text/plain": [
       "FloatProgress(value=0.0, bar_style='info', description='Progress:', layout=Layout(height='25px', width='50%'),…"
      ]
     },
     "metadata": {},
     "output_type": "display_data"
    },
    {
     "name": "stdout",
     "output_type": "stream",
     "text": [
      "   Travelers              city state   purpose\n",
      "0    3960326          NEW YORK    NY  Pleasure\n",
      "1    3453431             MIAMI    FL  Pleasure\n",
      "2    2961049       LOS ANGELES    CA  Pleasure\n",
      "3    1905567          HONOLULU    HI  Pleasure\n",
      "4    1484110     SAN FRANCISCO    CA  Pleasure\n",
      "5    1440719           ORLANDO    FL  Pleasure\n",
      "6    1342893  NEWARK/TETERBORO    NJ  Pleasure\n",
      "7    1214054             AGANA    GU  Pleasure\n",
      "8    1038183           CHICAGO    IL  Pleasure\n",
      "9     937465           HOUSTON    TX  Pleasure"
     ]
    }
   ],
   "source": [
    "# Q2a: Find the top destinations for which main purpose of travel is pleasure?\n",
    "top_pleasure_dest = spark.sql(\"\"\" \n",
    "    SELECT COUNT(DISTINCT(f.cicid)) Travelers, poe.city, poe.state, p.purpose\n",
    "    FROM ft_i94 f\n",
    "    LEFT JOIN dm_PortofEntry poe\n",
    "    ON f.i94port = poe.code\n",
    "    LEFT JOIN dm_Purpose p\n",
    "    ON f.i94visa = p.code   \n",
    "    GROUP BY poe.city, poe.state, p.purpose\n",
    "    HAVING p.purpose = 'Pleasure'\n",
    "    ORDER BY 1 DESC\n",
    "    LIMIT 10\n",
    "\"\"\").toPandas()\n",
    "top_pleasure_dest.head(10)"
   ]
  },
  {
   "cell_type": "code",
   "execution_count": 7,
   "metadata": {},
   "outputs": [
    {
     "data": {
      "application/vnd.jupyter.widget-view+json": {
       "model_id": "9b9f7029b0944df38fbbf7f91152b3e6",
       "version_major": 2,
       "version_minor": 0
      },
      "text/plain": [
       "VBox()"
      ]
     },
     "metadata": {},
     "output_type": "display_data"
    },
    {
     "data": {
      "application/vnd.jupyter.widget-view+json": {
       "model_id": "",
       "version_major": 2,
       "version_minor": 0
      },
      "text/plain": [
       "FloatProgress(value=0.0, bar_style='info', description='Progress:', layout=Layout(height='25px', width='50%'),…"
      ]
     },
     "metadata": {},
     "output_type": "display_data"
    },
    {
     "data": {
      "image/png": "[encoded data removed]",
      "text/plain": [
       "<IPython.core.display.Image object>"
      ]
     },
     "metadata": {},
     "output_type": "display_data"
    }
   ],
   "source": [
    "import matplotlib.pyplot as plt\n",
    "pls_colors = [(1, x/10.0, x/20.0) for x in range(len(top_pleasure_dest))]\n",
    "top_pleasure_dest.plot(x='city',y='Travelers', kind='bar', color=pls_colors, title='Top Destinations for Pleasure');\n",
    "%matplot plt"
   ]
  },
  {
   "cell_type": "code",
   "execution_count": 45,
   "metadata": {},
   "outputs": [
    {
     "data": {
      "application/vnd.jupyter.widget-view+json": {
       "model_id": "35a070fb58644dc481d3de1f7da7c235",
       "version_major": 2,
       "version_minor": 0
      },
      "text/plain": [
       "VBox()"
      ]
     },
     "metadata": {},
     "output_type": "display_data"
    },
    {
     "data": {
      "application/vnd.jupyter.widget-view+json": {
       "model_id": "",
       "version_major": 2,
       "version_minor": 0
      },
      "text/plain": [
       "FloatProgress(value=0.0, bar_style='info', description='Progress:', layout=Layout(height='25px', width='50%'),…"
      ]
     },
     "metadata": {},
     "output_type": "display_data"
    },
    {
     "name": "stdout",
     "output_type": "stream",
     "text": [
      "   Travelers              city state   purpose\n",
      "0     704633          NEW YORK    NY  Business\n",
      "1     601903       LOS ANGELES    CA  Business\n",
      "2     519841     SAN FRANCISCO    CA  Business\n",
      "3     482672           CHICAGO    IL  Business\n",
      "4     355643             MIAMI    FL  Business\n",
      "5     314112  NEWARK/TETERBORO    NJ  Business\n",
      "6     294698           ATLANTA    GA  Business\n",
      "7     287023           HOUSTON    TX  Business\n",
      "8     252164            DALLAS    TX  Business\n",
      "9     247362     WASHINGTON DC        Business"
     ]
    }
   ],
   "source": [
    "# Q2b: Find the top destinations for which main purpose of travel is business?\n",
    "top_business_dest = spark.sql(\"\"\" \n",
    "    SELECT COUNT(DISTINCT(f.cicid)) Travelers, poe.city, poe.state, p.purpose\n",
    "    FROM ft_i94 f\n",
    "    LEFT JOIN dm_PortofEntry poe\n",
    "    ON f.i94port = poe.code\n",
    "    LEFT JOIN dm_Purpose p\n",
    "    ON f.i94visa = p.code   \n",
    "    GROUP BY poe.city, poe.state, p.purpose\n",
    "    HAVING p.purpose = 'Business'\n",
    "    ORDER BY 1 DESC\n",
    "    LIMIT 10\n",
    "\"\"\").toPandas()\n",
    "\n",
    "top_business_dest.head(10)"
   ]
  },
  {
   "cell_type": "code",
   "execution_count": 46,
   "metadata": {},
   "outputs": [
    {
     "data": {
      "application/vnd.jupyter.widget-view+json": {
       "model_id": "e52dd6bb13594690ab3c05f43f834a72",
       "version_major": 2,
       "version_minor": 0
      },
      "text/plain": [
       "VBox()"
      ]
     },
     "metadata": {},
     "output_type": "display_data"
    },
    {
     "data": {
      "application/vnd.jupyter.widget-view+json": {
       "model_id": "",
       "version_major": 2,
       "version_minor": 0
      },
      "text/plain": [
       "FloatProgress(value=0.0, bar_style='info', description='Progress:', layout=Layout(height='25px', width='50%'),…"
      ]
     },
     "metadata": {},
     "output_type": "display_data"
    },
    {
     "data": {
      "image/png": "[encoded data removed]",
      "text/plain": [
       "<IPython.core.display.Image object>"
      ]
     },
     "metadata": {},
     "output_type": "display_data"
    }
   ],
   "source": [
    "import matplotlib.pyplot as plt\n",
    "biz_colors = [(0.4, 0.6, 0.8)]\n",
    "top_business_dest.plot(x='city',y='Travelers', kind='bar', color=biz_colors, title='Top Destination for Business');\n",
    "%matplot plt"
   ]
  },
  {
   "cell_type": "code",
   "execution_count": 47,
   "metadata": {},
   "outputs": [
    {
     "data": {
      "application/vnd.jupyter.widget-view+json": {
       "model_id": "4c5994854fd74c2f974653501f6a5e59",
       "version_major": 2,
       "version_minor": 0
      },
      "text/plain": [
       "VBox()"
      ]
     },
     "metadata": {},
     "output_type": "display_data"
    },
    {
     "data": {
      "application/vnd.jupyter.widget-view+json": {
       "model_id": "",
       "version_major": 2,
       "version_minor": 0
      },
      "text/plain": [
       "FloatProgress(value=0.0, bar_style='info', description='Progress:', layout=Layout(height='25px', width='50%'),…"
      ]
     },
     "metadata": {},
     "output_type": "display_data"
    },
    {
     "name": "stdout",
     "output_type": "stream",
     "text": [
      "   Travelers              city state  purpose\n",
      "0     270146          NEW YORK    NY  Student\n",
      "1     201598       LOS ANGELES    CA  Student\n",
      "2     177979           CHICAGO    IL  Student\n",
      "3     119173     SAN FRANCISCO    CA  Student\n",
      "4      91895            BOSTON    MA  Student\n",
      "5      79311     WASHINGTON DC        Student\n",
      "6      72763             MIAMI    FL  Student\n",
      "7      68536  NEWARK/TETERBORO    NJ  Student\n",
      "8      65610           SEATTLE    WA  Student\n",
      "9      64962            DALLAS    TX  Student"
     ]
    }
   ],
   "source": [
    "# Q2c: Find the top destinations for which main purpose of travel is studies\n",
    "top_study_dest = spark.sql(\"\"\" \n",
    "    SELECT COUNT(DISTINCT(f.cicid)) Travelers , poe.city, poe.state, p.purpose\n",
    "    FROM ft_i94 f\n",
    "    LEFT JOIN dm_PortofEntry poe\n",
    "    ON f.i94port = poe.code\n",
    "    LEFT JOIN dm_Purpose p\n",
    "    ON f.i94visa = p.code   \n",
    "    GROUP BY poe.city, poe.state, p.purpose\n",
    "    HAVING p.purpose = 'Student'\n",
    "    ORDER BY 1 DESC\n",
    "    LIMIT 10\n",
    "\"\"\").toPandas()\n",
    "\n",
    "top_study_dest.head(10)"
   ]
  },
  {
   "cell_type": "code",
   "execution_count": 48,
   "metadata": {},
   "outputs": [
    {
     "data": {
      "application/vnd.jupyter.widget-view+json": {
       "model_id": "47ae79350995441a81a6f1175c33f8ab",
       "version_major": 2,
       "version_minor": 0
      },
      "text/plain": [
       "VBox()"
      ]
     },
     "metadata": {},
     "output_type": "display_data"
    },
    {
     "data": {
      "application/vnd.jupyter.widget-view+json": {
       "model_id": "",
       "version_major": 2,
       "version_minor": 0
      },
      "text/plain": [
       "FloatProgress(value=0.0, bar_style='info', description='Progress:', layout=Layout(height='25px', width='50%'),…"
      ]
     },
     "metadata": {},
     "output_type": "display_data"
    },
    {
     "data": {
      "image/png": "[encoded data removed]",
      "text/plain": [
       "<IPython.core.display.Image object>"
      ]
     },
     "metadata": {},
     "output_type": "display_data"
    }
   ],
   "source": [
    "import matplotlib.pyplot as plt\n",
    "stdy_colors = [(x/20.0, x/10.0, 0.5) for x in range(len(top_study_dest))]\n",
    "top_study_dest.plot(x='city',y='Travelers', kind='bar', color=stdy_colors, title='Top Destinations for Studies');\n",
    "%matplot plt"
   ]
  },
  {
   "cell_type": "code",
   "execution_count": 49,
   "metadata": {},
   "outputs": [
    {
     "data": {
      "application/vnd.jupyter.widget-view+json": {
       "model_id": "613c98c1dd5447aeb47ca7cfd5f903c3",
       "version_major": 2,
       "version_minor": 0
      },
      "text/plain": [
       "VBox()"
      ]
     },
     "metadata": {},
     "output_type": "display_data"
    },
    {
     "data": {
      "application/vnd.jupyter.widget-view+json": {
       "model_id": "",
       "version_major": 2,
       "version_minor": 0
      },
      "text/plain": [
       "FloatProgress(value=0.0, bar_style='info', description='Progress:', layout=Layout(height='25px', width='50%'),…"
      ]
     },
     "metadata": {},
     "output_type": "display_data"
    }
   ],
   "source": [
    "# Q3: Which countries did travelers come from?\n",
    "top_countries = spark.sql(\"\"\"\n",
    "    SELECT COUNT(distinct(f.cicid)) Travelers, coe.country\n",
    "    FROM ft_i94 f\n",
    "    LEFT JOIN dm_CountryofEntry coe\n",
    "    ON f.i94cit = coe.code\n",
    "    GROUP BY coe.country\n",
    "    HAVING coe.country NOT LIKE '%MEXICO Air Sea, and Not Reported%'\n",
    "    ORDER BY 1 DESC\n",
    "    LIMIT 10\n",
    "\"\"\").toPandas()"
   ]
  },
  {
   "cell_type": "code",
   "execution_count": 50,
   "metadata": {},
   "outputs": [
    {
     "data": {
      "application/vnd.jupyter.widget-view+json": {
       "model_id": "f64d501d04da4bbeb442b238a1abcb35",
       "version_major": 2,
       "version_minor": 0
      },
      "text/plain": [
       "VBox()"
      ]
     },
     "metadata": {},
     "output_type": "display_data"
    },
    {
     "data": {
      "application/vnd.jupyter.widget-view+json": {
       "model_id": "",
       "version_major": 2,
       "version_minor": 0
      },
      "text/plain": [
       "FloatProgress(value=0.0, bar_style='info', description='Progress:', layout=Layout(height='25px', width='50%'),…"
      ]
     },
     "metadata": {},
     "output_type": "display_data"
    }
   ],
   "source": [
    "top_countries.sort_values(by='Travelers', ascending=True, inplace=True)"
   ]
  },
  {
   "cell_type": "code",
   "execution_count": 51,
   "metadata": {},
   "outputs": [
    {
     "data": {
      "application/vnd.jupyter.widget-view+json": {
       "model_id": "3dfc9a88ddee49b5adfbbd29d59ebb8b",
       "version_major": 2,
       "version_minor": 0
      },
      "text/plain": [
       "VBox()"
      ]
     },
     "metadata": {},
     "output_type": "display_data"
    },
    {
     "data": {
      "application/vnd.jupyter.widget-view+json": {
       "model_id": "",
       "version_major": 2,
       "version_minor": 0
      },
      "text/plain": [
       "FloatProgress(value=0.0, bar_style='info', description='Progress:', layout=Layout(height='25px', width='50%'),…"
      ]
     },
     "metadata": {},
     "output_type": "display_data"
    }
   ],
   "source": [
    "# Setup color schema for plot\n",
    "from matplotlib.cm import get_cmap\n",
    "name = \"Paired\"\n",
    "cmap = get_cmap(name)\n",
    "my_colors = cmap.colors"
   ]
  },
  {
   "cell_type": "code",
   "execution_count": 52,
   "metadata": {},
   "outputs": [
    {
     "data": {
      "application/vnd.jupyter.widget-view+json": {
       "model_id": "ce82e9d3fdb64b2794b57a485a89e82d",
       "version_major": 2,
       "version_minor": 0
      },
      "text/plain": [
       "VBox()"
      ]
     },
     "metadata": {},
     "output_type": "display_data"
    },
    {
     "data": {
      "application/vnd.jupyter.widget-view+json": {
       "model_id": "",
       "version_major": 2,
       "version_minor": 0
      },
      "text/plain": [
       "FloatProgress(value=0.0, bar_style='info', description='Progress:', layout=Layout(height='25px', width='50%'),…"
      ]
     },
     "metadata": {},
     "output_type": "display_data"
    },
    {
     "data": {
      "image/png": "[encoded data removed]",
      "text/plain": [
       "<IPython.core.display.Image object>"
      ]
     },
     "metadata": {},
     "output_type": "display_data"
    }
   ],
   "source": [
    "# Graph the results\n",
    "import matplotlib.pyplot as plt\n",
    "top_countries.plot('country','Travelers', figsize=(10,5), color=my_colors, kind='barh', title='Top Travelers are entering from:');\n",
    "%matplot plt"
   ]
  },
  {
   "cell_type": "code",
   "execution_count": 53,
   "metadata": {},
   "outputs": [
    {
     "data": {
      "application/vnd.jupyter.widget-view+json": {
       "model_id": "eee84acb283a4d69a7bd37fa47a8f41b",
       "version_major": 2,
       "version_minor": 0
      },
      "text/plain": [
       "VBox()"
      ]
     },
     "metadata": {},
     "output_type": "display_data"
    },
    {
     "data": {
      "application/vnd.jupyter.widget-view+json": {
       "model_id": "",
       "version_major": 2,
       "version_minor": 0
      },
      "text/plain": [
       "FloatProgress(value=0.0, bar_style='info', description='Progress:', layout=Layout(height='25px', width='50%'),…"
      ]
     },
     "metadata": {},
     "output_type": "display_data"
    }
   ],
   "source": [
    "# Q4: Which countries do travelers live in?\n",
    "countries = spark.sql(\"\"\"\n",
    "    SELECT COUNT(distinct(f.cicid)) Travelers, coe.country\n",
    "    FROM ft_i94 f\n",
    "    LEFT JOIN dm_CountryofEntry coe\n",
    "    ON f.i94res = coe.code\n",
    "    GROUP BY coe.country\n",
    "    HAVING coe.country NOT LIKE '%MEXICO Air Sea, and Not Reported%'\n",
    "    ORDER BY 1 DESC\n",
    "    LIMIT 10\n",
    "\"\"\").toPandas()"
   ]
  },
  {
   "cell_type": "code",
   "execution_count": 54,
   "metadata": {},
   "outputs": [
    {
     "data": {
      "application/vnd.jupyter.widget-view+json": {
       "model_id": "bbc363a6dd00457c95a31ca5d161bc45",
       "version_major": 2,
       "version_minor": 0
      },
      "text/plain": [
       "VBox()"
      ]
     },
     "metadata": {},
     "output_type": "display_data"
    },
    {
     "data": {
      "application/vnd.jupyter.widget-view+json": {
       "model_id": "",
       "version_major": 2,
       "version_minor": 0
      },
      "text/plain": [
       "FloatProgress(value=0.0, bar_style='info', description='Progress:', layout=Layout(height='25px', width='50%'),…"
      ]
     },
     "metadata": {},
     "output_type": "display_data"
    },
    {
     "data": {
      "image/png": "[encoded data removed]",
      "text/plain": [
       "<IPython.core.display.Image object>"
      ]
     },
     "metadata": {},
     "output_type": "display_data"
    }
   ],
   "source": [
    "# Setup color schema for plot\n",
    "from matplotlib.cm import get_cmap\n",
    "name = \"Paired\"\n",
    "cmap = get_cmap(name)\n",
    "my_colors = cmap.colors\n",
    "\n",
    "import matplotlib.pyplot as plt\n",
    "countries.sort_values(by='Travelers', ascending=True, inplace=True)\n",
    "countries.plot('country','Travelers', figsize=(10,5), color=my_colors, kind='barh', title='Top Travelers live in:');\n",
    "%matplot plt"
   ]
  },
  {
   "cell_type": "code",
   "execution_count": 55,
   "metadata": {},
   "outputs": [
    {
     "data": {
      "application/vnd.jupyter.widget-view+json": {
       "model_id": "098450c4879a42f7af1adb1b06cb420e",
       "version_major": 2,
       "version_minor": 0
      },
      "text/plain": [
       "VBox()"
      ]
     },
     "metadata": {},
     "output_type": "display_data"
    },
    {
     "data": {
      "application/vnd.jupyter.widget-view+json": {
       "model_id": "",
       "version_major": 2,
       "version_minor": 0
      },
      "text/plain": [
       "FloatProgress(value=0.0, bar_style='info', description='Progress:', layout=Layout(height='25px', width='50%'),…"
      ]
     },
     "metadata": {},
     "output_type": "display_data"
    }
   ],
   "source": [
    "# Q5: What are preferred Airlines for travelers coming to US? Which flights are most popular?\n",
    "\n",
    "# Intially, seeing duplicaes in result. An addition section was later added to def process_dms() in process_dm_datasets\n",
    "# After find duplicate records in result set above for Lufthansa and Japan Airlines \n",
    "# (airlines that are appearing in traveler's list of airlines records in ft_i94)\n",
    "\n",
    "\n",
    "# Ran question again, Bingo!:\n",
    "\n",
    "popular_airlines = spark.sql(\"\"\"\n",
    "    SELECT COUNT(f.cicid) travelers, an.carrier Airlines\n",
    "    FROM ft_i94 f\n",
    "    JOIN dm_airline_name an\n",
    "    ON an.code = f.airline\n",
    "    GROUP BY an.carrier \n",
    "    ORDER BY 1 DESC\n",
    "    LIMIT 10\n",
    "\"\"\").toPandas()"
   ]
  },
  {
   "cell_type": "code",
   "execution_count": 56,
   "metadata": {},
   "outputs": [
    {
     "data": {
      "application/vnd.jupyter.widget-view+json": {
       "model_id": "753a72386e6e42c9a0261beff05b3b0d",
       "version_major": 2,
       "version_minor": 0
      },
      "text/plain": [
       "VBox()"
      ]
     },
     "metadata": {},
     "output_type": "display_data"
    },
    {
     "data": {
      "application/vnd.jupyter.widget-view+json": {
       "model_id": "",
       "version_major": 2,
       "version_minor": 0
      },
      "text/plain": [
       "FloatProgress(value=0.0, bar_style='info', description='Progress:', layout=Layout(height='25px', width='50%'),…"
      ]
     },
     "metadata": {},
     "output_type": "display_data"
    }
   ],
   "source": [
    "df_dm_airline_name = spark.read.parquet(I94_TABLE_FLS+'dm_airline_name')"
   ]
  },
  {
   "cell_type": "code",
   "execution_count": 57,
   "metadata": {},
   "outputs": [
    {
     "data": {
      "application/vnd.jupyter.widget-view+json": {
       "model_id": "cfa8712d601f45849d9abe0011c35857",
       "version_major": 2,
       "version_minor": 0
      },
      "text/plain": [
       "VBox()"
      ]
     },
     "metadata": {},
     "output_type": "display_data"
    },
    {
     "data": {
      "application/vnd.jupyter.widget-view+json": {
       "model_id": "",
       "version_major": 2,
       "version_minor": 0
      },
      "text/plain": [
       "FloatProgress(value=0.0, bar_style='info', description='Progress:', layout=Layout(height='25px', width='50%'),…"
      ]
     },
     "metadata": {},
     "output_type": "display_data"
    },
    {
     "name": "stdout",
     "output_type": "stream",
     "text": [
      "+----+------------------+-----+----+----+------------------+--------------------+------+\n",
      "|  id|           carrier|Alias|code|ICAO|          Callsign|             Country|Active|\n",
      "+----+------------------+-----+----+----+------------------+--------------------+------+\n",
      "|1663|Caribbean Airlines|   \\N|  BW| BWA|CARIBBEAN AIRLINES| Trinidad and Tobago|     Y|\n",
      "|2773|Hong Kong Airlines|   \\N|  HX| CRK|          BAUHINIA|Hong Kong SAR of ...|     Y|\n",
      "+----+------------------+-----+----+----+------------------+--------------------+------+\n",
      "only showing top 2 rows"
     ]
    }
   ],
   "source": [
    "df_dm_airline_name.show(2)"
   ]
  },
  {
   "cell_type": "code",
   "execution_count": 58,
   "metadata": {},
   "outputs": [
    {
     "data": {
      "application/vnd.jupyter.widget-view+json": {
       "model_id": "dd0d9d11c8204d5baeca92f885d11797",
       "version_major": 2,
       "version_minor": 0
      },
      "text/plain": [
       "VBox()"
      ]
     },
     "metadata": {},
     "output_type": "display_data"
    },
    {
     "data": {
      "application/vnd.jupyter.widget-view+json": {
       "model_id": "",
       "version_major": 2,
       "version_minor": 0
      },
      "text/plain": [
       "FloatProgress(value=0.0, bar_style='info', description='Progress:', layout=Layout(height='25px', width='50%'),…"
      ]
     },
     "metadata": {},
     "output_type": "display_data"
    },
    {
     "name": "stdout",
     "output_type": "stream",
     "text": [
      "Verifying duplicates for Lufthansa and Japan Airlines not present any more:\n",
      "+--------------------+----+--------------+--------------------+----+\n",
      "|             carrier|code|       country|            callsign|icao|\n",
      "+--------------------+----+--------------+--------------------+----+\n",
      "|             Unknown|   -|            \\N|                  \\N| N/A|\n",
      "|      Private flight|   -|          null|                null| N/A|\n",
      "|             NetJets|  1I| United States|             EXECJET| EJA|\n",
      "|              Novair|  1I|        Sweden|           NAVIGATOR| NVR|\n",
      "|         Aerolitoral|  5D|        Mexico|             COSTERA| SLI|\n",
      "|         DonbassAero|  5D|       Ukraine|        DONBASS AERO| UDC|\n",
      "|              Maxair|  8M|        Sweden|              MAXAIR| MXL|\n",
      "|Myanmar Airways I...|  8M|       Myanmar|assignment postponed| MMM|\n",
      "|            Onur Air|  8Q|        Turkey|            ONUR AIR| OHY|\n",
      "|  Maldivian Air Taxi|  8Q|      Maldives|                  \\N|  \\N|\n",
      "|           QatXpress|  C3|         Qatar|                null| QAX|\n",
      "|         Contact Air|  C3|       Germany|          CONTACTAIR| KIS|\n",
      "|Air Atlanta Icela...|  CC|       Iceland|             ATLANTA| ABD|\n",
      "|     Macair Airlines|  CC|     Australia|                null| MCK|\n",
      "| Continental Express|  CO| United States|             JETLINK|null|\n",
      "|Continental Airlines|  CO| United States|         CONTINENTAL| COA|\n",
      "|    Compass Airlines|  CP| United States|        Compass Rose| CPZ|\n",
      "|   Canadian Airlines|  CP|        Canada|            CANADIAN| CDN|\n",
      "|Gol Transportes A...|  G3|        Brazil|      GOL TRANSPORTE| GLO|\n",
      "|City Connexion Ai...|  G3|       Burundi|           CONNEXION| CIX|\n",
      "|         Sky Express|  G3|        Greece|           AIR CRETE| SEH|\n",
      "|              Indigo|  I9| United States|         INDIGO BLUE| IBU|\n",
      "|           Air Italy|  I9|         Italy|           AIR ITALY| AEY|\n",
      "|      Nepal Airlines|  RA|         Nepal|         ROYAL NEPAL| RNA|\n",
      "|Royal Nepal Airlines|  RA|         Nepal|         ROYAL NEPAL| RNA|\n",
      "|Singapore Airline...|  SQ|     Singapore|           SINGCARGO| SQC|\n",
      "|  Singapore Airlines|  SQ|     Singapore|           SINGAPORE| SIA|\n",
      "|Trans Mediterrane...|  TL|       Lebanon|          TANGO LIMA| TMA|\n",
      "|            Airnorth|  TL|     Australia|              TOPEND| ANO|\n",
      "|    Formosa Airlines|  VY|        Taiwan|                null| FOS|\n",
      "|    Vueling Airlines|  VY|         Spain|             VUELING| VLG|\n",
      "|      KLM Cityhopper|  WA|   Netherlands|                CITY| KLC|\n",
      "|    Western Airlines|  WA| United States|             WESTERN| WAL|\n",
      "|          Access Air|  ZA| United States|             CYCLONE| CYD|\n",
      "|  Interavia Airlines|  ZA|        Russia|              ASTAIR| SUW|\n",
      "|    Monarch Airlines|  ZB|United Kingdom|             MONARCH| MON|\n",
      "|         Air Bourbon|  ZB|       Reunion|             BOURBON| BUB|\n",
      "+--------------------+----+--------------+--------------------+----+"
     ]
    }
   ],
   "source": [
    "# Q5: What are preferred Airlines for travelers coming to US? Which flights are most popular?\n",
    "\n",
    "# An addition section was later added to def process_dms() in process_dm_datasets\n",
    "# After find duplicate records in result set above for Lufthansa and Japan Airlines \n",
    "# (airlines that are appearing in traveler's list of airlines records in ft_i94)\n",
    "\n",
    "\n",
    "#from pyspark.sql.functions import *\n",
    "#from pyspark.sql.types import *\n",
    "#\n",
    "## Renaming Columns with appropriate headers found on\n",
    "## openflights.org/data.html\n",
    "#df_dm_airline_name = df_dm_airline_name.withColumnRenamed(\"_c0\", \"id\") \\\n",
    "#    .withColumnRenamed(\"_c1\", \"name\") \\\n",
    "#    .withColumnRenamed(\"_c2\", \"Alias\") \\\n",
    "#    .withColumnRenamed(\"_c3\", \"IATA\") \\\n",
    "#    .withColumnRenamed(\"_c4\", \"ICAO\") \\\n",
    "#    .withColumnRenamed(\"_c5\", \"Callsign\") \\\n",
    "#    .withColumnRenamed(\"_c6\", \"Country\") \\\n",
    "#    .withColumnRenamed(\"_c7\", \"Active\")\n",
    "#\n",
    "#\n",
    "## See head sample of rows\n",
    "#print('\\n', 'Head:', df_dm_airline_name.head(2), '\\n')   \n",
    "#\n",
    "## Selecting only revelant columns out of these:\n",
    "## And filter out 'null' and '-' from IATA        \n",
    "## See duplicates on Lufthansa Cargo and Japan Airlines Do\n",
    "## Filtering them out, leaving only 1 entry each\n",
    "## Added to df filters on dm_airline_name below and added back to dataframe\n",
    "#df_dm_airline_name = df_dm_airline_name.withColumnRenamed(\"name\",\"carrier\") \\\n",
    "#                        .withColumnRenamed(\"iata\", \"code\") \\\n",
    "#                        .filter(col(\"iata\") != \"null\") \\\n",
    "#                        .filter(col(\"active\") == 'Y') \\\n",
    "#                        .filter(\"name NOT LIKE 'Lufthansa Cargo'\") \\\n",
    "#                        .filter(\"carrier NOT LIKE 'Japan Airlines Do%'\") \\\n",
    "#                        .dropDuplicates()\n",
    "#\n",
    "## Write out Parquet format to S3:\n",
    "#df_dm_airline_name.createOrReplaceTempView('dm_airline_name')\n",
    "\n",
    "# Checking out values that are those duplicates removed:\n",
    "print('Verifying duplicates for Lufthansa and Japan Airlines not present any more:')\n",
    "spark.sql(\"\"\"\n",
    "    SELECT carrier, code, country, callsign, icao\n",
    "    FROM dm_airline_name\n",
    "    WHERE code IN (SELECT code\n",
    "                    FROM dm_airline_name\n",
    "                    GROUP BY code\n",
    "                    HAVING COUNT(code) > 1\n",
    "                    ORDER BY 1 DESC\n",
    "    )\n",
    "    ORDER BY 2\n",
    "\"\"\").show(100)"
   ]
  },
  {
   "cell_type": "code",
   "execution_count": 59,
   "metadata": {},
   "outputs": [
    {
     "data": {
      "application/vnd.jupyter.widget-view+json": {
       "model_id": "1dd195ad7a444edcae236f383f3e6062",
       "version_major": 2,
       "version_minor": 0
      },
      "text/plain": [
       "VBox()"
      ]
     },
     "metadata": {},
     "output_type": "display_data"
    },
    {
     "data": {
      "application/vnd.jupyter.widget-view+json": {
       "model_id": "",
       "version_major": 2,
       "version_minor": 0
      },
      "text/plain": [
       "FloatProgress(value=0.0, bar_style='info', description='Progress:', layout=Layout(height='25px', width='50%'),…"
      ]
     },
     "metadata": {},
     "output_type": "display_data"
    }
   ],
   "source": [
    "# Running question again, Bingo!:\n",
    "# Q5: What are preferred Airlines for travelers coming to US? Which flights are most popular?\n",
    "popular_airlines = spark.sql(\"\"\"\n",
    "    SELECT COUNT(f.cicid) travelers, an.carrier Airlines\n",
    "    FROM ft_i94 f\n",
    "    JOIN dm_airline_name an\n",
    "    ON an.code = f.airline\n",
    "    GROUP BY an.carrier \n",
    "    ORDER BY 1 DESC\n",
    "    LIMIT 10\n",
    "\"\"\").toPandas()"
   ]
  },
  {
   "cell_type": "code",
   "execution_count": 60,
   "metadata": {},
   "outputs": [
    {
     "data": {
      "application/vnd.jupyter.widget-view+json": {
       "model_id": "b7588869636640829a9bb9e737758769",
       "version_major": 2,
       "version_minor": 0
      },
      "text/plain": [
       "VBox()"
      ]
     },
     "metadata": {},
     "output_type": "display_data"
    },
    {
     "data": {
      "application/vnd.jupyter.widget-view+json": {
       "model_id": "",
       "version_major": 2,
       "version_minor": 0
      },
      "text/plain": [
       "FloatProgress(value=0.0, bar_style='info', description='Progress:', layout=Layout(height='25px', width='50%'),…"
      ]
     },
     "metadata": {},
     "output_type": "display_data"
    },
    {
     "data": {
      "image/png": "[encoded data removed]",
      "text/plain": [
       "<IPython.core.display.Image object>"
      ]
     },
     "metadata": {},
     "output_type": "display_data"
    }
   ],
   "source": [
    "import matplotlib.pyplot as plt\n",
    "popular_airlines.sort_values(by='travelers', ascending=True, inplace=True)\n",
    "popular_airlines.plot(figsize=(10,7), x='Airlines',y='travelers', kind='barh', color=[(0.4, 0.6, 0.8)], title='Popular Airlines');\n",
    "%matplot plt"
   ]
  },
  {
   "cell_type": "code",
   "execution_count": 61,
   "metadata": {},
   "outputs": [
    {
     "data": {
      "application/vnd.jupyter.widget-view+json": {
       "model_id": "9a77d7da8d794130bc2be7388f8f4e25",
       "version_major": 2,
       "version_minor": 0
      },
      "text/plain": [
       "VBox()"
      ]
     },
     "metadata": {},
     "output_type": "display_data"
    },
    {
     "data": {
      "application/vnd.jupyter.widget-view+json": {
       "model_id": "",
       "version_major": 2,
       "version_minor": 0
      },
      "text/plain": [
       "FloatProgress(value=0.0, bar_style='info', description='Progress:', layout=Layout(height='25px', width='50%'),…"
      ]
     },
     "metadata": {},
     "output_type": "display_data"
    }
   ],
   "source": [
    "# Q6. What is the ratio of Men/Women traveling to/from US?\n",
    "\n",
    "# Q6a: Business\n",
    "# Men\n",
    "travelers_businessmen = spark.sql(\"\"\"\n",
    "    SELECT count(f.cicid) Men\n",
    "    FROM ft_i94 f\n",
    "    JOIN dm_purpose p\n",
    "    ON f.i94visa = p.code\n",
    "    WHERE f.gender = 'M'\n",
    "    AND p.purpose = 'Business'\n",
    "\"\"\").toPandas()\n",
    "\n",
    "# Women\n",
    "travelers_businesswomen = spark.sql(\"\"\"\n",
    "    SELECT count(f.cicid) Women\n",
    "    FROM ft_i94 f\n",
    "    JOIN dm_purpose p\n",
    "    ON f.i94visa = p.code\n",
    "    WHERE f.gender = 'F'\n",
    "    AND p.purpose = 'Business'\n",
    "\"\"\").toPandas()"
   ]
  },
  {
   "cell_type": "code",
   "execution_count": 62,
   "metadata": {},
   "outputs": [
    {
     "data": {
      "application/vnd.jupyter.widget-view+json": {
       "model_id": "0cd9a568c9b143f68b7a09befe4030fb",
       "version_major": 2,
       "version_minor": 0
      },
      "text/plain": [
       "VBox()"
      ]
     },
     "metadata": {},
     "output_type": "display_data"
    },
    {
     "data": {
      "application/vnd.jupyter.widget-view+json": {
       "model_id": "",
       "version_major": 2,
       "version_minor": 0
      },
      "text/plain": [
       "FloatProgress(value=0.0, bar_style='info', description='Progress:', layout=Layout(height='25px', width='50%'),…"
      ]
     },
     "metadata": {},
     "output_type": "display_data"
    },
    {
     "data": {
      "image/png": "[encoded data removed]",
      "text/plain": [
       "<IPython.core.display.Image object>"
      ]
     },
     "metadata": {},
     "output_type": "display_data"
    }
   ],
   "source": [
    "import pandas as pd\n",
    "business_travelers = pd.DataFrame()\n",
    "business_travelers['Men'] = travelers_businessmen['Men']\n",
    "business_travelers['Women'] = travelers_businesswomen['Women']\n",
    "business_travelers.plot.bar(title=\"Business Travelers\");\n",
    "%matplot plt"
   ]
  },
  {
   "cell_type": "code",
   "execution_count": 63,
   "metadata": {},
   "outputs": [
    {
     "data": {
      "application/vnd.jupyter.widget-view+json": {
       "model_id": "b808d9a270c443ad9236a99698dce362",
       "version_major": 2,
       "version_minor": 0
      },
      "text/plain": [
       "VBox()"
      ]
     },
     "metadata": {},
     "output_type": "display_data"
    },
    {
     "data": {
      "application/vnd.jupyter.widget-view+json": {
       "model_id": "",
       "version_major": 2,
       "version_minor": 0
      },
      "text/plain": [
       "FloatProgress(value=0.0, bar_style='info', description='Progress:', layout=Layout(height='25px', width='50%'),…"
      ]
     },
     "metadata": {},
     "output_type": "display_data"
    }
   ],
   "source": [
    "# Q6b: Pleasure\n",
    "\n",
    "# Men\n",
    "pleasure_travelers_men = spark.sql(\"\"\"\n",
    "    SELECT count(f.cicid) Men\n",
    "    FROM ft_i94 f\n",
    "    JOIN dm_purpose p\n",
    "    ON f.i94visa = p.code\n",
    "    WHERE f.gender = 'M'\n",
    "    AND p.purpose = 'Pleasure'\n",
    "\"\"\").toPandas()\n",
    "\n",
    "# Women\n",
    "pleasure_travelers_women = spark.sql(\"\"\"\n",
    "    SELECT count(f.cicid) Women\n",
    "    FROM ft_i94 f\n",
    "    JOIN dm_purpose p\n",
    "    ON f.i94visa = p.code\n",
    "    WHERE f.gender = 'F'\n",
    "    AND p.purpose = 'Pleasure'\n",
    "\"\"\").toPandas()"
   ]
  },
  {
   "cell_type": "code",
   "execution_count": 64,
   "metadata": {},
   "outputs": [
    {
     "data": {
      "application/vnd.jupyter.widget-view+json": {
       "model_id": "69bf856cdb2d49649a211f69e6760898",
       "version_major": 2,
       "version_minor": 0
      },
      "text/plain": [
       "VBox()"
      ]
     },
     "metadata": {},
     "output_type": "display_data"
    },
    {
     "data": {
      "application/vnd.jupyter.widget-view+json": {
       "model_id": "",
       "version_major": 2,
       "version_minor": 0
      },
      "text/plain": [
       "FloatProgress(value=0.0, bar_style='info', description='Progress:', layout=Layout(height='25px', width='50%'),…"
      ]
     },
     "metadata": {},
     "output_type": "display_data"
    },
    {
     "data": {
      "image/png": "[encoded data removed]",
      "text/plain": [
       "<IPython.core.display.Image object>"
      ]
     },
     "metadata": {},
     "output_type": "display_data"
    }
   ],
   "source": [
    "pleasure_travelers = pd.DataFrame()\n",
    "pleasure_travelers['Men'] = pleasure_travelers_men['Men']\n",
    "pleasure_travelers['Women'] = pleasure_travelers_women['Women']\n",
    "\n",
    "import matplotlib.pyplot as plt\n",
    "f = plt.figure()\n",
    "plt.ticklabel_format(style = 'plain')\n",
    "pleasure_travelers.plot.bar(title=\"Pleasure Travelers\", ax=f.gca());\n",
    "%matplot plt"
   ]
  },
  {
   "cell_type": "code",
   "execution_count": 65,
   "metadata": {},
   "outputs": [
    {
     "data": {
      "application/vnd.jupyter.widget-view+json": {
       "model_id": "a367c06cd0414cbe9682d55009914203",
       "version_major": 2,
       "version_minor": 0
      },
      "text/plain": [
       "VBox()"
      ]
     },
     "metadata": {},
     "output_type": "display_data"
    },
    {
     "data": {
      "application/vnd.jupyter.widget-view+json": {
       "model_id": "",
       "version_major": 2,
       "version_minor": 0
      },
      "text/plain": [
       "FloatProgress(value=0.0, bar_style='info', description='Progress:', layout=Layout(height='25px', width='50%'),…"
      ]
     },
     "metadata": {},
     "output_type": "display_data"
    }
   ],
   "source": [
    "# Q6c: Studies\n",
    "\n",
    "# Men\n",
    "student_travelers_men = spark.sql(\"\"\"\n",
    "    SELECT count(f.cicid) Men\n",
    "    FROM ft_i94 f\n",
    "    JOIN dm_purpose p\n",
    "    ON f.i94visa = p.code\n",
    "    WHERE f.gender = 'M'\n",
    "    AND p.purpose = 'Student'\n",
    "\"\"\").toPandas()\n",
    "\n",
    "# Women\n",
    "student_travelers_women = spark.sql(\"\"\"\n",
    "    SELECT count(f.cicid) Women\n",
    "    FROM ft_i94 f\n",
    "    JOIN dm_purpose p\n",
    "    ON f.i94visa = p.code\n",
    "    WHERE f.gender = 'F'\n",
    "    AND p.purpose = 'Student'\n",
    "\"\"\").toPandas()"
   ]
  },
  {
   "cell_type": "code",
   "execution_count": 66,
   "metadata": {},
   "outputs": [
    {
     "data": {
      "application/vnd.jupyter.widget-view+json": {
       "model_id": "22ee162abc8c4dd3b47f9380531214a5",
       "version_major": 2,
       "version_minor": 0
      },
      "text/plain": [
       "VBox()"
      ]
     },
     "metadata": {},
     "output_type": "display_data"
    },
    {
     "data": {
      "application/vnd.jupyter.widget-view+json": {
       "model_id": "",
       "version_major": 2,
       "version_minor": 0
      },
      "text/plain": [
       "FloatProgress(value=0.0, bar_style='info', description='Progress:', layout=Layout(height='25px', width='50%'),…"
      ]
     },
     "metadata": {},
     "output_type": "display_data"
    },
    {
     "data": {
      "image/png": "[encoded data removed]",
      "text/plain": [
       "<IPython.core.display.Image object>"
      ]
     },
     "metadata": {},
     "output_type": "display_data"
    }
   ],
   "source": [
    "student_travelers = pd.DataFrame()\n",
    "student_travelers['Men'] = student_travelers_men['Men']\n",
    "student_travelers['Women'] = student_travelers_women['Women']\n",
    "\n",
    "student_travelers.plot.bar(title=\"Student Travelers\");\n",
    "%matplot plt"
   ]
  },
  {
   "cell_type": "code",
   "execution_count": 67,
   "metadata": {},
   "outputs": [
    {
     "data": {
      "application/vnd.jupyter.widget-view+json": {
       "model_id": "135648271a934e6b8628c7aec0bb5cdf",
       "version_major": 2,
       "version_minor": 0
      },
      "text/plain": [
       "VBox()"
      ]
     },
     "metadata": {},
     "output_type": "display_data"
    },
    {
     "data": {
      "application/vnd.jupyter.widget-view+json": {
       "model_id": "",
       "version_major": 2,
       "version_minor": 0
      },
      "text/plain": [
       "FloatProgress(value=0.0, bar_style='info', description='Progress:', layout=Layout(height='25px', width='50%'),…"
      ]
     },
     "metadata": {},
     "output_type": "display_data"
    },
    {
     "data": {
      "image/png": "[encoded data removed]",
      "text/plain": [
       "<IPython.core.display.Image object>"
      ]
     },
     "metadata": {},
     "output_type": "display_data"
    }
   ],
   "source": [
    "# Total Travelers by Gender and by Purpose\n",
    "data = {\"Men\": [ student_travelers_men['Men'].iloc[0], travelers_businessmen['Men'].iloc[0], pleasure_travelers_men['Men'].iloc[0]],\n",
    "                 \"Women\": [student_travelers_women['Women'].iloc[0], travelers_businesswomen['Women'].iloc[0], pleasure_travelers_women['Women'].iloc[0]]}\n",
    "index = ['Student', 'Business','Pleasure']\n",
    "\n",
    "\n",
    "\n",
    "travelers_purpose = pd.DataFrame(data=data, index=index)\n",
    "\n",
    "import matplotlib.pyplot as plt\n",
    "f = plt.figure()\n",
    "plt.ticklabel_format(style = 'plain')\n",
    "travelers_purpose.plot(rot=0, figsize=(10,10), title=\"Purpose of Travel\", kind='bar', ax=f.gca());\n",
    "plt.show()\n",
    "%matplot plt"
   ]
  },
  {
   "cell_type": "code",
   "execution_count": 68,
   "metadata": {},
   "outputs": [
    {
     "data": {
      "application/vnd.jupyter.widget-view+json": {
       "model_id": "6dfe9362f5394d3ba0cb14b29b2024e3",
       "version_major": 2,
       "version_minor": 0
      },
      "text/plain": [
       "VBox()"
      ]
     },
     "metadata": {},
     "output_type": "display_data"
    },
    {
     "data": {
      "application/vnd.jupyter.widget-view+json": {
       "model_id": "",
       "version_major": 2,
       "version_minor": 0
      },
      "text/plain": [
       "FloatProgress(value=0.0, bar_style='info', description='Progress:', layout=Layout(height='25px', width='50%'),…"
      ]
     },
     "metadata": {},
     "output_type": "display_data"
    },
    {
     "name": "stdout",
     "output_type": "stream",
     "text": [
      "+---------+--------+\n",
      "|Travelers|visatype|\n",
      "+---------+--------+\n",
      "| 16915615|      WT|\n",
      "| 15188785|      B2|\n",
      "|  2940456|      WB|\n",
      "|  2282096|      B1|\n",
      "|  1487432|      F1|\n",
      "|  1265275|     GMT|\n",
      "|   272007|      CP|\n",
      "|   259215|      E2|\n",
      "|    68866|      F2|\n",
      "|    48905|      E1|\n",
      "+---------+--------+"
     ]
    }
   ],
   "source": [
    "# Q7: Visa categories used for travel?\n",
    "top_visa_categories = spark.sql(\"\"\"\n",
    "    SELECT count(f.cicid) Travelers, f.visatype\n",
    "    FROM ft_i94 f\n",
    "    GROUP BY f.visatype\n",
    "    ORDER BY 1 DESC\n",
    "    LIMIT 10\n",
    "\"\"\")\n",
    "\n",
    "top_visa_categories.show()"
   ]
  },
  {
   "cell_type": "code",
   "execution_count": 69,
   "metadata": {},
   "outputs": [
    {
     "data": {
      "application/vnd.jupyter.widget-view+json": {
       "model_id": "693e87fac351402ab1b719aaec9cd596",
       "version_major": 2,
       "version_minor": 0
      },
      "text/plain": [
       "VBox()"
      ]
     },
     "metadata": {},
     "output_type": "display_data"
    },
    {
     "data": {
      "application/vnd.jupyter.widget-view+json": {
       "model_id": "",
       "version_major": 2,
       "version_minor": 0
      },
      "text/plain": [
       "FloatProgress(value=0.0, bar_style='info', description='Progress:', layout=Layout(height='25px', width='50%'),…"
      ]
     },
     "metadata": {},
     "output_type": "display_data"
    },
    {
     "name": "stdout",
     "output_type": "stream",
     "text": [
      "+---------+--------+\n",
      "|Travelers|visapost|\n",
      "+---------+--------+\n",
      "|  1131429|     MEX|\n",
      "|   801261|     SPL|\n",
      "|   779931|     GUZ|\n",
      "|   723520|     BNS|\n",
      "|   688731|     BGT|\n",
      "|   563334|     BEJ|\n",
      "|   557534|     SHG|\n",
      "|   502280|     CRS|\n",
      "|   391183|     GDL|\n",
      "|   373897|     RDJ|\n",
      "+---------+--------+"
     ]
    }
   ],
   "source": [
    "# Q8: From above, where are the most visa issued? Visapost?\n",
    "# Remember the Cavet from data discovery/preparation done earlier, \n",
    "# ~60% missing data, we are look looking at results for the ~40% only below:\n",
    "top_visaposts = spark.sql(\"\"\"\n",
    "    WITH visa AS (\n",
    "        SELECT count(f.cicid) Travelers, f.visatype\n",
    "        FROM ft_i94 f\n",
    "        GROUP BY f.visatype\n",
    "        ORDER BY 1 DESC\n",
    "        LIMIT 10\n",
    "    )\n",
    "    SELECT COUNT(DISTINCT(f.cicid)) Travelers, f.visapost\n",
    "    FROM ft_i94 f\n",
    "    WHERE f.visatype IN (select visatype from visa)\n",
    "    AND f.visapost NOT LIKE ('null') -- Filtering out NULL factor as seen in intial data assessement (Not sure why visapost will be empty in dataset, would think this goes along with visatype that doesn't have nulls)\n",
    "    GROUP BY f.visapost\n",
    "    ORDER BY 1 DESC\n",
    "    LIMIT 10\n",
    "\"\"\")\n",
    "\n",
    "top_visaposts.show()"
   ]
  },
  {
   "cell_type": "code",
   "execution_count": 70,
   "metadata": {},
   "outputs": [
    {
     "data": {
      "application/vnd.jupyter.widget-view+json": {
       "model_id": "0e758faa4a864de592becc0701060d40",
       "version_major": 2,
       "version_minor": 0
      },
      "text/plain": [
       "VBox()"
      ]
     },
     "metadata": {},
     "output_type": "display_data"
    },
    {
     "data": {
      "application/vnd.jupyter.widget-view+json": {
       "model_id": "",
       "version_major": 2,
       "version_minor": 0
      },
      "text/plain": [
       "FloatProgress(value=0.0, bar_style='info', description='Progress:', layout=Layout(height='25px', width='50%'),…"
      ]
     },
     "metadata": {},
     "output_type": "display_data"
    },
    {
     "name": "stdout",
     "output_type": "stream",
     "text": [
      "<function <lambda> at 0x7fea77243510>"
     ]
    }
   ],
   "source": [
    "# Q9: Which month of year did most people arrive in? Month of most arrivals?\n",
    "# Need to check on converting date type from SAS unix, epoch date\n",
    "# UDF need for data conversion above before proceeding with query\n",
    "\n",
    "### Below UDF to solve Q9:\n",
    "\n",
    "# Created a UDF that converts SAS date value to Date format\n",
    "from pyspark.sql.functions import *\n",
    "from pyspark.sql.types import *\n",
    "\n",
    "import datetime\n",
    "\n",
    "# Function to process sas date values\n",
    "def AsDate(x):\n",
    "    if x is not None:\n",
    "        sas_dtvl =  datetime.datetime(1960, 1, 1)\n",
    "        delta = datetime.timedelta(days=x)\n",
    "        return (sas_dtvl + delta)\n",
    "    else:\n",
    "        pass\n",
    "\n",
    "# Register the above UDF\n",
    "spark.udf.register(\"AsDate\", lambda x: AsDate(x), \"Date\")"
   ]
  },
  {
   "cell_type": "code",
   "execution_count": 71,
   "metadata": {},
   "outputs": [
    {
     "data": {
      "application/vnd.jupyter.widget-view+json": {
       "model_id": "df65260f59d24d64829ca8ffc56ede9b",
       "version_major": 2,
       "version_minor": 0
      },
      "text/plain": [
       "VBox()"
      ]
     },
     "metadata": {},
     "output_type": "display_data"
    },
    {
     "data": {
      "application/vnd.jupyter.widget-view+json": {
       "model_id": "",
       "version_major": 2,
       "version_minor": 0
      },
      "text/plain": [
       "FloatProgress(value=0.0, bar_style='info', description='Progress:', layout=Layout(height='25px', width='50%'),…"
      ]
     },
     "metadata": {},
     "output_type": "display_data"
    },
    {
     "name": "stdout",
     "output_type": "stream",
     "text": [
      "+-------+----------+-------+----------+\n",
      "|arrdate|  arrdateN|depdate|  depdateN|\n",
      "+-------+----------+-------+----------+\n",
      "|20758.0|2016-10-31|20761.0|2016-11-03|\n",
      "|20758.0|2016-10-31|20769.0|2016-11-11|\n",
      "|20758.0|2016-10-31|20761.0|2016-11-03|\n",
      "|20758.0|2016-10-31|20761.0|2016-11-03|\n",
      "|20758.0|2016-10-31|20764.0|2016-11-06|\n",
      "|20758.0|2016-10-31|20763.0|2016-11-05|\n",
      "|20758.0|2016-10-31|20764.0|2016-11-06|\n",
      "|20758.0|2016-10-31|   null|      null|\n",
      "|20758.0|2016-10-31|20772.0|2016-11-14|\n",
      "|20758.0|2016-10-31|20762.0|2016-11-04|\n",
      "+-------+----------+-------+----------+"
     ]
    }
   ],
   "source": [
    "# Spot Check and usage to see new UDF AsDate with arrdate and depdate\n",
    "spark.sql(\"\"\"\n",
    "    SELECT arrdate, AsDate(arrdate) arrdateN, depdate, AsDate(depdate) depdateN\n",
    "    FROM ft_i94\n",
    "    LIMIT 10\n",
    "    \"\"\").show()"
   ]
  },
  {
   "cell_type": "code",
   "execution_count": 83,
   "metadata": {},
   "outputs": [
    {
     "data": {
      "application/vnd.jupyter.widget-view+json": {
       "model_id": "0c6a43e151b9434882bcc5e49a7d9042",
       "version_major": 2,
       "version_minor": 0
      },
      "text/plain": [
       "VBox()"
      ]
     },
     "metadata": {},
     "output_type": "display_data"
    },
    {
     "data": {
      "application/vnd.jupyter.widget-view+json": {
       "model_id": "",
       "version_major": 2,
       "version_minor": 0
      },
      "text/plain": [
       "FloatProgress(value=0.0, bar_style='info', description='Progress:', layout=Layout(height='25px', width='50%'),…"
      ]
     },
     "metadata": {},
     "output_type": "display_data"
    },
    {
     "name": "stdout",
     "output_type": "stream",
     "text": [
      "    Travelers  MM Month  YEAR\n",
      "0     2847924   1   Jan  2016\n",
      "1     2570543   2   Feb  2016\n",
      "2     3157072   3   Mar  2016\n",
      "3     3096313   4   Apr  2016\n",
      "4     3444249   5   May  2016\n",
      "5     3574989   6   Jun  2016\n",
      "6     4265031   7   Jul  2016\n",
      "7     4103570   8   Aug  2016\n",
      "8     3733786   9   Sep  2016\n",
      "9     3649136  10   Oct  2016\n",
      "10    2914926  11   Nov  2016\n",
      "11    3432990  12   Dec  2016"
     ]
    }
   ],
   "source": [
    "# Continuing from above to investigate SAS date value conversion:\n",
    "\n",
    "# Q9a: Which month of year did most people arrive in? Month of most arrivals?\n",
    "# Need to check on converting date type from SAS unix, epoch date\n",
    "# Need above before proceeding to sub sections of this query\n",
    "\n",
    "arrival_months = spark.sql(\"\"\"\n",
    "WITH t as (\n",
    "    SELECT COUNT(f.cicid) travelers, MONTH(AsDate(f.arrdate)) MM, date_format(AsDate(f.arrdate), 'MMM') Month\n",
    "        FROM ft_i94 f\n",
    "        GROUP BY f.arrdate\n",
    ")\n",
    "SELECT SUM(travelers) Travelers, MM, Month\n",
    "FROM t\n",
    "GROUP BY MM, Month\n",
    "ORDER BY 2 ASC\n",
    "\"\"\").toPandas()\n",
    "\n",
    "\n",
    "arrival_months.head(12)"
   ]
  },
  {
   "cell_type": "code",
   "execution_count": 73,
   "metadata": {},
   "outputs": [
    {
     "data": {
      "application/vnd.jupyter.widget-view+json": {
       "model_id": "08f58ab4650145c29998e2f96247686b",
       "version_major": 2,
       "version_minor": 0
      },
      "text/plain": [
       "VBox()"
      ]
     },
     "metadata": {},
     "output_type": "display_data"
    },
    {
     "data": {
      "application/vnd.jupyter.widget-view+json": {
       "model_id": "",
       "version_major": 2,
       "version_minor": 0
      },
      "text/plain": [
       "FloatProgress(value=0.0, bar_style='info', description='Progress:', layout=Layout(height='25px', width='50%'),…"
      ]
     },
     "metadata": {},
     "output_type": "display_data"
    },
    {
     "name": "stdout",
     "output_type": "stream",
     "text": [
      "    Travelers  MM Month\n",
      "0      522890   1   Jan\n",
      "1      446667   2   Feb\n",
      "2      446208   3   Mar\n",
      "3      522079   4   Apr\n",
      "4      530473   5   May\n",
      "5      487128   6   Jun\n",
      "6      415876   7   Jul\n",
      "7      376261   8   Aug\n",
      "8      517312   9   Sep\n",
      "9      578578  10   Oct\n",
      "10     482007  11   Nov\n",
      "11     249800  12   Dec"
     ]
    }
   ],
   "source": [
    "# Q9b: Which month of year did most people arrive in? Month of most arrivals? For Business?\n",
    "\n",
    "business_arrivals = spark.sql(\"\"\"\n",
    "WITH t as (\n",
    "    SELECT COUNT(f.cicid) travelers, MONTH(AsDate(f.arrdate)) MM, date_format(AsDate(f.arrdate), 'MMM') Month\n",
    "        FROM ft_i94 f\n",
    "        JOIN dm_purpose p\n",
    "        ON f.i94visa = p.code\n",
    "        WHERE p.purpose = 'Business' \n",
    "        GROUP BY f.arrdate\n",
    ")\n",
    "SELECT SUM(travelers) Travelers, MM, Month\n",
    "FROM t\n",
    "GROUP BY MM, Month\n",
    "ORDER BY 2 ASC\n",
    "\"\"\").toPandas()\n",
    "\n",
    "business_arrivals.head(12)"
   ]
  },
  {
   "cell_type": "code",
   "execution_count": 74,
   "metadata": {},
   "outputs": [
    {
     "data": {
      "application/vnd.jupyter.widget-view+json": {
       "model_id": "d439fd34024a4505a2d75c77760ab604",
       "version_major": 2,
       "version_minor": 0
      },
      "text/plain": [
       "VBox()"
      ]
     },
     "metadata": {},
     "output_type": "display_data"
    },
    {
     "data": {
      "application/vnd.jupyter.widget-view+json": {
       "model_id": "",
       "version_major": 2,
       "version_minor": 0
      },
      "text/plain": [
       "FloatProgress(value=0.0, bar_style='info', description='Progress:', layout=Layout(height='25px', width='50%'),…"
      ]
     },
     "metadata": {},
     "output_type": "display_data"
    },
    {
     "name": "stdout",
     "output_type": "stream",
     "text": [
      "    Travelers  MM Month\n",
      "0     1939899   1   Jan\n",
      "1     2077101   2   Feb\n",
      "2     2607405   3   Mar\n",
      "3     2530868   4   Apr\n",
      "4     2858037   5   May\n",
      "5     3010141   6   Jun\n",
      "6     3731242   7   Jul\n",
      "7     3286196   8   Aug\n",
      "8     3083871   9   Sep\n",
      "9     3030103  10   Oct\n",
      "10    2381381  11   Nov\n",
      "11    3105735  12   Dec"
     ]
    }
   ],
   "source": [
    "# Q9c: Which month of year did most people arrive in? Month of most arrivals? For Pleasure?\n",
    "\n",
    "pleasure_arrivals = spark.sql(\"\"\"\n",
    "WITH t as (\n",
    "    SELECT COUNT(f.cicid) travelers, MONTH(AsDate(f.arrdate)) MM, date_format(AsDate(f.arrdate), 'MMM') Month\n",
    "        FROM ft_i94 f\n",
    "        JOIN dm_purpose p\n",
    "        ON f.i94visa = p.code\n",
    "        WHERE p.purpose = 'Pleasure'\n",
    "        GROUP BY f.arrdate\n",
    ")\n",
    "SELECT SUM(travelers) Travelers, MM, Month\n",
    "FROM t\n",
    "GROUP BY MM, Month\n",
    "ORDER BY 2 ASC\n",
    "\"\"\").toPandas()\n",
    "\n",
    "pleasure_arrivals.head(12)"
   ]
  },
  {
   "cell_type": "code",
   "execution_count": 75,
   "metadata": {},
   "outputs": [
    {
     "data": {
      "application/vnd.jupyter.widget-view+json": {
       "model_id": "ab59ee6ff6f24bdd825c78a0cc572eb6",
       "version_major": 2,
       "version_minor": 0
      },
      "text/plain": [
       "VBox()"
      ]
     },
     "metadata": {},
     "output_type": "display_data"
    },
    {
     "data": {
      "application/vnd.jupyter.widget-view+json": {
       "model_id": "",
       "version_major": 2,
       "version_minor": 0
      },
      "text/plain": [
       "FloatProgress(value=0.0, bar_style='info', description='Progress:', layout=Layout(height='25px', width='50%'),…"
      ]
     },
     "metadata": {},
     "output_type": "display_data"
    },
    {
     "name": "stdout",
     "output_type": "stream",
     "text": [
      "    Travelers  MM Month\n",
      "0      385135   1   Jan\n",
      "1       46775   2   Feb\n",
      "2      103459   3   Mar\n",
      "3       43366   4   Apr\n",
      "4       55739   5   May\n",
      "5       77720   6   Jun\n",
      "6      117913   7   Jul\n",
      "7      441113   8   Aug\n",
      "8      132603   9   Sep\n",
      "9       40455  10   Oct\n",
      "10      51538  11   Nov\n",
      "11      77455  12   Dec"
     ]
    }
   ],
   "source": [
    "# Q9d: Which month of year did most people arrive in? Month of most arrivals? For Studies?\n",
    "\n",
    "student_arrivals = spark.sql(\"\"\"\n",
    "WITH t as (\n",
    "    SELECT COUNT(f.cicid) travelers, MONTH(AsDate(f.arrdate)) MM, date_format(AsDate(f.arrdate), 'MMM') Month\n",
    "        FROM ft_i94 f\n",
    "        JOIN dm_purpose p\n",
    "        ON f.i94visa = p.code\n",
    "        WHERE p.purpose = 'Student' \n",
    "        GROUP BY f.arrdate\n",
    ")\n",
    "SELECT SUM(travelers) Travelers, MM, Month\n",
    "FROM t\n",
    "GROUP BY MM, Month\n",
    "ORDER BY 2 ASC\n",
    "\"\"\").toPandas()\n",
    "\n",
    "student_arrivals.head(12)"
   ]
  },
  {
   "cell_type": "code",
   "execution_count": 76,
   "metadata": {},
   "outputs": [
    {
     "data": {
      "application/vnd.jupyter.widget-view+json": {
       "model_id": "1c4965d15ed44e78823d29bdc48207c5",
       "version_major": 2,
       "version_minor": 0
      },
      "text/plain": [
       "VBox()"
      ]
     },
     "metadata": {},
     "output_type": "display_data"
    },
    {
     "data": {
      "application/vnd.jupyter.widget-view+json": {
       "model_id": "",
       "version_major": 2,
       "version_minor": 0
      },
      "text/plain": [
       "FloatProgress(value=0.0, bar_style='info', description='Progress:', layout=Layout(height='25px', width='50%'),…"
      ]
     },
     "metadata": {},
     "output_type": "display_data"
    },
    {
     "data": {
      "image/png": "[encoded data removed]",
      "text/plain": [
       "<IPython.core.display.Image object>"
      ]
     },
     "metadata": {},
     "output_type": "display_data"
    }
   ],
   "source": [
    "# Plot the above visualization\n",
    "import matplotlib.pyplot as plt\n",
    "from matplotlib.dates import DateFormatter\n",
    "mnthnbrs = arrival_months['MM'].values.tolist()\n",
    "months = arrival_months['Month'].values.tolist()\n",
    "business = business_arrivals['Travelers'].values\n",
    "pleasure = pleasure_arrivals['Travelers'].values\n",
    "student = student_arrivals['Travelers'].values\n",
    "ind = [n for n in mnthnbrs]\n",
    "\n",
    "# Create figure and plot space\n",
    "fig, ax = plt.subplots(figsize=(10, 5))\n",
    "\n",
    "plt.bar(ind, business, width=0.6, label='business', color='#f4dd08', bottom=pleasure+student)\n",
    "plt.bar(ind, pleasure, width=0.6, label='pleasure', color='#c0c0c0', bottom=student)\n",
    "plt.bar(ind, student, width=0.6, label='student', color='#cd7f32')\n",
    " \n",
    "plt.xticks(ind, months)\n",
    "plt.ylabel(\"Travelers\")\n",
    "plt.xlabel(\"Months\")\n",
    "plt.legend(loc=\"upper right\")\n",
    "plt.title(\"Arrival Traffic\")\n",
    "plt.show()\n",
    "%matplot plt"
   ]
  },
  {
   "cell_type": "code",
   "execution_count": 90,
   "metadata": {},
   "outputs": [
    {
     "data": {
      "application/vnd.jupyter.widget-view+json": {
       "model_id": "2c146048e4ad4ddb9c56c6747b1a81ec",
       "version_major": 2,
       "version_minor": 0
      },
      "text/plain": [
       "VBox()"
      ]
     },
     "metadata": {},
     "output_type": "display_data"
    },
    {
     "data": {
      "application/vnd.jupyter.widget-view+json": {
       "model_id": "",
       "version_major": 2,
       "version_minor": 0
      },
      "text/plain": [
       "FloatProgress(value=0.0, bar_style='info', description='Progress:', layout=Layout(height='25px', width='50%'),…"
      ]
     },
     "metadata": {},
     "output_type": "display_data"
    },
    {
     "name": "stdout",
     "output_type": "stream",
     "text": [
      "    Travelers  MM Month\n",
      "0     1541915   1   Jan\n",
      "1     2285185   2   Feb\n",
      "2     2590166   3   Mar\n",
      "3     2812005   4   Apr\n",
      "4     3201838   5   May\n",
      "5     2972907   6   Jun\n",
      "6     3499504   7   Jul\n",
      "7     4156037   8   Aug\n",
      "8     3479171   9   Sep\n",
      "9     3537872  10   Oct\n",
      "10    2857396  11   Nov\n",
      "11    2494799  12   Dec"
     ]
    }
   ],
   "source": [
    "# Q10a: Which month of year did most people leave/depart in? Month of most depeatures?\n",
    "depart_months = spark.sql(\"\"\"\n",
    "WITH t as (\n",
    "    SELECT COUNT(f.cicid) travelers, MONTH(AsDate(f.depdate)) MM, date_format(AsDate(f.depdate), 'MMM') Month\n",
    "        FROM ft_i94 f\n",
    "        WHERE f.depdate IS NOT NUll\n",
    "        AND  YEAR(AsDate(f.depdate)) = 2016\n",
    "        AND  YEAR(AsDate(f.arrdate)) = 2016\n",
    "        GROUP BY f.depdate\n",
    ")\n",
    "SELECT SUM(travelers) Travelers, MM, Month\n",
    "FROM t\n",
    "GROUP BY MM, Month\n",
    "ORDER BY 2 ASC\n",
    "\"\"\").toPandas()\n",
    "\n",
    "\n",
    "depart_months.head(12)"
   ]
  },
  {
   "cell_type": "code",
   "execution_count": 91,
   "metadata": {},
   "outputs": [
    {
     "data": {
      "application/vnd.jupyter.widget-view+json": {
       "model_id": "c0dc59ebd9204f1fb9a7271a34b878ad",
       "version_major": 2,
       "version_minor": 0
      },
      "text/plain": [
       "VBox()"
      ]
     },
     "metadata": {},
     "output_type": "display_data"
    },
    {
     "data": {
      "application/vnd.jupyter.widget-view+json": {
       "model_id": "",
       "version_major": 2,
       "version_minor": 0
      },
      "text/plain": [
       "FloatProgress(value=0.0, bar_style='info', description='Progress:', layout=Layout(height='25px', width='50%'),…"
      ]
     },
     "metadata": {},
     "output_type": "display_data"
    },
    {
     "name": "stdout",
     "output_type": "stream",
     "text": [
      "    Travelers  MM Month\n",
      "0      357226   1   Jan\n",
      "1      392913   2   Feb\n",
      "2      458139   3   Mar\n",
      "3      492271   4   Apr\n",
      "4      504932   5   May\n",
      "5      475200   6   Jun\n",
      "6      384373   7   Jul\n",
      "7      358118   8   Aug\n",
      "8      488655   9   Sep\n",
      "9      526978  10   Oct\n",
      "10     467918  11   Nov\n",
      "11     331113  12   Dec"
     ]
    }
   ],
   "source": [
    "# Q10b: Which month of year did most people leave/depart in? Month of most depeatures? For Business?\n",
    "business_departures = spark.sql(\"\"\"\n",
    "WITH t as (\n",
    "    SELECT COUNT(f.cicid) travelers, MONTH(AsDate(f.depdate)) MM, date_format(AsDate(f.depdate), 'MMM') Month\n",
    "        FROM ft_i94 f\n",
    "        JOIN dm_purpose p\n",
    "        ON f.i94visa = p.code\n",
    "        WHERE p.purpose = 'Business'\n",
    "        AND f.depdate IS NOT NULL\n",
    "        AND  YEAR(AsDate(f.depdate)) = 2016\n",
    "        AND  YEAR(AsDate(f.arrdate)) = 2016\n",
    "        GROUP BY f.depdate\n",
    ")\n",
    "SELECT SUM(travelers) Travelers, MM, Month\n",
    "FROM t\n",
    "GROUP BY MM, Month\n",
    "ORDER BY 2 ASC\n",
    "\"\"\").toPandas()\n",
    "\n",
    "\n",
    "business_departures.head(12)"
   ]
  },
  {
   "cell_type": "code",
   "execution_count": 92,
   "metadata": {},
   "outputs": [
    {
     "data": {
      "application/vnd.jupyter.widget-view+json": {
       "model_id": "0933eb892c7a4948bb968efe123e660c",
       "version_major": 2,
       "version_minor": 0
      },
      "text/plain": [
       "VBox()"
      ]
     },
     "metadata": {},
     "output_type": "display_data"
    },
    {
     "data": {
      "application/vnd.jupyter.widget-view+json": {
       "model_id": "",
       "version_major": 2,
       "version_minor": 0
      },
      "text/plain": [
       "FloatProgress(value=0.0, bar_style='info', description='Progress:', layout=Layout(height='25px', width='50%'),…"
      ]
     },
     "metadata": {},
     "output_type": "display_data"
    },
    {
     "name": "stdout",
     "output_type": "stream",
     "text": [
      "    Travelers  MM Month\n",
      "0     1174310   1   Jan\n",
      "1     1872547   2   Feb\n",
      "2     2063905   3   Mar\n",
      "3     2301563   4   Apr\n",
      "4     2647003   5   May\n",
      "5     2452844   6   Jun\n",
      "6     3079334   7   Jul\n",
      "7     3743386   8   Aug\n",
      "8     2959890   9   Sep\n",
      "9     2987078  10   Oct\n",
      "10    2355668  11   Nov\n",
      "11    2068942  12   Dec"
     ]
    }
   ],
   "source": [
    "# Q10c: Which month of year did most people leave/depart in? Month of most depeatures? For Pleasure?\n",
    "\n",
    "pleasure_departures = spark.sql(\"\"\"\n",
    "WITH t as (\n",
    "    SELECT COUNT(f.cicid) travelers, MONTH(AsDate(f.depdate)) MM, date_format(AsDate(f.depdate), 'MMM') Month\n",
    "        FROM ft_i94 f\n",
    "        JOIN dm_purpose p\n",
    "        ON f.i94visa = p.code\n",
    "        WHERE p.purpose = 'Pleasure'\n",
    "        AND f.depdate IS NOT NULL\n",
    "        AND  YEAR(AsDate(f.depdate)) = 2016\n",
    "        AND  YEAR(AsDate(f.arrdate)) = 2016\n",
    "        GROUP BY f.depdate\n",
    ")\n",
    "SELECT SUM(travelers) Travelers, MM, Month\n",
    "FROM t\n",
    "GROUP BY MM, Month\n",
    "ORDER BY 2 ASC\n",
    "\"\"\").toPandas()\n",
    "\n",
    "\n",
    "pleasure_departures.head(12)"
   ]
  },
  {
   "cell_type": "code",
   "execution_count": 93,
   "metadata": {},
   "outputs": [
    {
     "data": {
      "application/vnd.jupyter.widget-view+json": {
       "model_id": "48ef72b08c5b4ad18f90661afd7b0179",
       "version_major": 2,
       "version_minor": 0
      },
      "text/plain": [
       "VBox()"
      ]
     },
     "metadata": {},
     "output_type": "display_data"
    },
    {
     "data": {
      "application/vnd.jupyter.widget-view+json": {
       "model_id": "",
       "version_major": 2,
       "version_minor": 0
      },
      "text/plain": [
       "FloatProgress(value=0.0, bar_style='info', description='Progress:', layout=Layout(height='25px', width='50%'),…"
      ]
     },
     "metadata": {},
     "output_type": "display_data"
    },
    {
     "name": "stdout",
     "output_type": "stream",
     "text": [
      "    Travelers  MM Month\n",
      "0       10379   1   Jan\n",
      "1       19725   2   Feb\n",
      "2       68122   3   Mar\n",
      "3       18171   4   Apr\n",
      "4       49903   5   May\n",
      "5       44863   6   Jun\n",
      "6       35797   7   Jul\n",
      "7       54533   8   Aug\n",
      "8       30626   9   Sep\n",
      "9       23816  10   Oct\n",
      "10      33810  11   Nov\n",
      "11      94744  12   Dec"
     ]
    }
   ],
   "source": [
    "# Q10d: Which month of year did most people leave/depart in? Month of most depeatures? For Studies?\n",
    "\n",
    "student_departures = spark.sql(\"\"\"\n",
    "WITH t as (\n",
    "    SELECT COUNT(f.cicid) travelers, MONTH(AsDate(f.depdate)) MM, date_format(AsDate(f.depdate), 'MMM') Month\n",
    "        FROM ft_i94 f\n",
    "        JOIN dm_purpose p\n",
    "        ON f.i94visa = p.code\n",
    "        WHERE p.purpose = 'Student'\n",
    "        AND f.depdate IS NOT NULL\n",
    "        AND  YEAR(AsDate(f.depdate)) = 2016\n",
    "        AND  YEAR(AsDate(f.arrdate)) = 2016\n",
    "        GROUP BY f.depdate\n",
    ")\n",
    "SELECT SUM(travelers) Travelers, MM, Month\n",
    "FROM t\n",
    "GROUP BY MM, Month\n",
    "ORDER BY 2 ASC\n",
    "\"\"\").toPandas()\n",
    "\n",
    "student_departures.head(12)"
   ]
  },
  {
   "cell_type": "code",
   "execution_count": 94,
   "metadata": {},
   "outputs": [
    {
     "data": {
      "application/vnd.jupyter.widget-view+json": {
       "model_id": "ed4ae97b65f745e18eb1a111691718a8",
       "version_major": 2,
       "version_minor": 0
      },
      "text/plain": [
       "VBox()"
      ]
     },
     "metadata": {},
     "output_type": "display_data"
    },
    {
     "data": {
      "application/vnd.jupyter.widget-view+json": {
       "model_id": "",
       "version_major": 2,
       "version_minor": 0
      },
      "text/plain": [
       "FloatProgress(value=0.0, bar_style='info', description='Progress:', layout=Layout(height='25px', width='50%'),…"
      ]
     },
     "metadata": {},
     "output_type": "display_data"
    },
    {
     "data": {
      "image/png": "[encoded data removed]",
      "text/plain": [
       "<IPython.core.display.Image object>"
      ]
     },
     "metadata": {},
     "output_type": "display_data"
    }
   ],
   "source": [
    "import matplotlib.pyplot as plt\n",
    "from matplotlib.dates import DateFormatter\n",
    "mnthnbrs = depart_months['MM'].values.tolist()\n",
    "months = depart_months['Month'].values.tolist()\n",
    "business = business_departures['Travelers'].values\n",
    "pleasure = pleasure_departures['Travelers'].values\n",
    "student = student_departures['Travelers'].values\n",
    "ind = [m for m in mnthnbrs]\n",
    "\n",
    "# Create figure and plot space\n",
    "fig, ax = plt.subplots(figsize=(10, 5))\n",
    "\n",
    "plt.bar(ind, business, width=0.6, label='business', color='#f4dd08', bottom=pleasure+student)\n",
    "plt.bar(ind, pleasure, width=0.6, label='pleasure', color='#c0c0c0', bottom=student)\n",
    "plt.bar(ind, student, width=0.6, label='student', color='#cd7f32')\n",
    " \n",
    "plt.xticks(ind, months)\n",
    "plt.ylabel(\"Travelers\")\n",
    "plt.xlabel(\"Months\")\n",
    "plt.legend(loc=\"upper right\")\n",
    "plt.title(\"Departure Traffic\")\n",
    "plt.show()\n",
    "%matplot plt"
   ]
  },
  {
   "cell_type": "markdown",
   "metadata": {},
   "source": [
    "---"
   ]
  }
 ],
 "metadata": {
  "kernelspec": {
   "display_name": "PySpark",
   "language": "",
   "name": "pysparkkernel"
  },
  "language_info": {
   "codemirror_mode": {
    "name": "python",
    "version": 2
   },
   "mimetype": "text/x-python",
   "name": "pyspark",
   "pygments_lexer": "python2"
  }
 },
 "nbformat": 4,
 "nbformat_minor": 4
}
