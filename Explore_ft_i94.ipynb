{
 "cells": [
  {
   "cell_type": "code",
   "execution_count": null,
   "metadata": {},
   "outputs": [],
   "source": [
    "# Import Spark modules\n",
    "from pyspark.sql import SparkSession\n",
    "\n",
    "# Setup Spark session\n",
    "spark = SparkSession.builder.appName(\"Explore_ft_i94\").enableHiveSupport().getOrCreate()"
   ]
  },
  {
   "cell_type": "markdown",
   "metadata": {},
   "source": [
    "---"
   ]
  },
  {
   "cell_type": "code",
   "execution_count": 2,
   "metadata": {},
   "outputs": [],
   "source": [
    "# Define Schema for df_ft_i94\n",
    "from pyspark.sql.types import *\n",
    "from pyspark.sql.functions import *\n",
    "\n",
    "schema = StructType(list((\n",
    "\tStructField(\"_c0\",DoubleType(),True),\n",
    "\tStructField(\"cicid\",DoubleType(),True), \n",
    "\tStructField(\"i94yr\",DoubleType(),True), \n",
    "\tStructField(\"i94mon\",DoubleType(),True), \n",
    "\tStructField(\"i94cit\",DoubleType(),True), \n",
    "\tStructField(\"i94res\",DoubleType(),True), \n",
    "\tStructField(\"i94port\",StringType(),True), \n",
    "\tStructField(\"arrdate\",DoubleType(),True), \n",
    "\tStructField(\"i94mode\",DoubleType(),True), \n",
    "\tStructField(\"i94addr\",StringType(),True), \n",
    "\tStructField(\"depdate\",DoubleType(),True), \n",
    "\tStructField(\"i94bir\",DoubleType(),True), \n",
    "\tStructField(\"i94visa\",DoubleType(),True), \n",
    "\tStructField(\"count\",DoubleType(),True), \n",
    "\tStructField(\"dtadfile\",StringType(),True), \n",
    "\tStructField(\"visapost\",StringType(),True), \n",
    "\tStructField(\"occup\",StringType(),True), \n",
    "\tStructField(\"entdepa\",StringType(),True), \n",
    "\tStructField(\"entdepd\",StringType(),True), \n",
    "\tStructField(\"entdepu\",StringType(),True), \n",
    "\tStructField(\"matflag\",StringType(),True), \n",
    "\tStructField(\"biryear\",DoubleType(),True), \n",
    "\tStructField(\"dtaddto\",StringType(),True), \n",
    "\tStructField(\"gender\",StringType(),True), \n",
    "\tStructField(\"insnum\",StringType(),True), \n",
    "\tStructField(\"airline\",StringType(),True), \n",
    "\tStructField(\"admnum\",DoubleType(),True), \n",
    "\tStructField(\"fltno\",StringType(),True), \n",
    "\tStructField(\"visatype\",StringType(),True)\n",
    "    ))\n",
    ");\n"
   ]
  },
  {
   "cell_type": "code",
   "execution_count": 3,
   "metadata": {},
   "outputs": [],
   "source": [
    "\"\"\"\n",
    " Use this section to toggle between different datasets to do quick spot checks\n",
    " and switch bigger datasets when doing full data checks.\n",
    "\"\"\"\n",
    "\n",
    "## Variables\n",
    "S3_STAGE = 's3_staging/'\n",
    "I94_TABLE_FLS ='s3://kbucket-udfls/i94_table_fls/'\n",
    "I94_SAS_EXTRACTS = 'i94_sas_extracts/'\n",
    "\n",
    "# Read parquet files: (GBs files) -- Full year data (AWS)\n",
    "#df_ft_i94 = spark.read.parquet(I94_TABLE_FLS+'ft_i94')\n",
    "\n",
    "# Read parquet files: (GBs files) -- Full year data (local fs)\n",
    "df_ft_i94 = spark.read.parquet(S3_STAGE+'ft_i94')\n",
    "\n",
    "# Ran this with sample files (MB file) -- 1 month data\n",
    "#df_ft_i94_aug = spark.read.parquet(I94_SAS_EXTRACTS+'i94_aug16')\n",
    "\n",
    "# Check schema\n",
    "#df_ft_i94_aug.schema\n",
    "\n",
    "# Ran this with sample file -- 142K file\n",
    "#df_ft_i94 = spark.read.csv('immigration_data_sample.csv', header=True, schema=schema)"
   ]
  },
  {
   "cell_type": "code",
   "execution_count": 4,
   "metadata": {},
   "outputs": [],
   "source": [
    "# Remove first column from csv (not present in full dataset for df_ft_i94)\n",
    "# Looks to be additional row identifer\n",
    "\n",
    "#df_ft_i94 = df_ft_i94.drop('_c0')"
   ]
  },
  {
   "cell_type": "code",
   "execution_count": 5,
   "metadata": {},
   "outputs": [
    {
     "name": "stdout",
     "output_type": "stream",
     "text": [
      "root\n",
      " |-- cicid: double (nullable = true)\n",
      " |-- i94yr: double (nullable = true)\n",
      " |-- i94mon: double (nullable = true)\n",
      " |-- i94cit: double (nullable = true)\n",
      " |-- i94res: double (nullable = true)\n",
      " |-- i94port: string (nullable = true)\n",
      " |-- arrdate: double (nullable = true)\n",
      " |-- i94mode: double (nullable = true)\n",
      " |-- i94addr: string (nullable = true)\n",
      " |-- depdate: double (nullable = true)\n",
      " |-- i94bir: double (nullable = true)\n",
      " |-- i94visa: double (nullable = true)\n",
      " |-- count: double (nullable = true)\n",
      " |-- dtadfile: string (nullable = true)\n",
      " |-- visapost: string (nullable = true)\n",
      " |-- occup: string (nullable = true)\n",
      " |-- entdepa: string (nullable = true)\n",
      " |-- entdepd: string (nullable = true)\n",
      " |-- entdepu: string (nullable = true)\n",
      " |-- matflag: string (nullable = true)\n",
      " |-- biryear: double (nullable = true)\n",
      " |-- dtaddto: string (nullable = true)\n",
      " |-- gender: string (nullable = true)\n",
      " |-- insnum: string (nullable = true)\n",
      " |-- airline: string (nullable = true)\n",
      " |-- admnum: double (nullable = true)\n",
      " |-- fltno: string (nullable = true)\n",
      " |-- visatype: string (nullable = true)\n",
      "\n"
     ]
    }
   ],
   "source": [
    "df_ft_i94.printSchema()"
   ]
  },
  {
   "cell_type": "code",
   "execution_count": 6,
   "metadata": {},
   "outputs": [
    {
     "name": "stdout",
     "output_type": "stream",
     "text": [
      "+---------+------+------+------+------+-------+-------+-------+-------+-------+------+-------+-----+--------+--------+-----+-------+-------+-------+-------+-------+--------+------+------+-------+--------------+-----+--------+\n",
      "|    cicid| i94yr|i94mon|i94cit|i94res|i94port|arrdate|i94mode|i94addr|depdate|i94bir|i94visa|count|dtadfile|visapost|occup|entdepa|entdepd|entdepu|matflag|biryear| dtaddto|gender|insnum|airline|        admnum|fltno|visatype|\n",
      "+---------+------+------+------+------+-------+-------+-------+-------+-------+------+-------+-----+--------+--------+-----+-------+-------+-------+-------+-------+--------+------+------+-------+--------------+-----+--------+\n",
      "|5927066.0|2016.0|   6.0| 575.0| 575.0|    HOU|20633.0|    1.0|     FL|20637.0|  38.0|    2.0|  1.0|20160628|     SNJ| null|      G|      O|   null|      M| 1978.0|12272016|     F|  null|     NK|1.522654484E10|00499|      B2|\n",
      "|5927067.0|2016.0|   6.0| 689.0| 689.0|    MIA|20633.0|    1.0|     FL|   null|  48.0|    2.0|  1.0|20160628|     SPL| null|      G|   null|   null|   null| 1968.0|12272016|     M|  null|     JJ|1.522654574E10|08090|      B2|\n",
      "+---------+------+------+------+------+-------+-------+-------+-------+-------+------+-------+-----+--------+--------+-----+-------+-------+-------+-------+-------+--------+------+------+-------+--------------+-----+--------+\n",
      "only showing top 2 rows\n",
      "\n"
     ]
    }
   ],
   "source": [
    "df_ft_i94.show(2)"
   ]
  },
  {
   "cell_type": "code",
   "execution_count": 7,
   "metadata": {},
   "outputs": [],
   "source": [
    "# Create a temp view for exploring it\n",
    "df_ft_i94.createOrReplaceTempView('ft_i94')"
   ]
  },
  {
   "cell_type": "code",
   "execution_count": 8,
   "metadata": {},
   "outputs": [
    {
     "name": "stdout",
     "output_type": "stream",
     "text": [
      "+---------+------+------+------+------+-------+-------+-------+-------+-------+------+-------+-----+--------+--------+-----+-------+-------+-------+-------+-------+--------+------+------+-------+--------------+-----+--------+\n",
      "|    cicid| i94yr|i94mon|i94cit|i94res|i94port|arrdate|i94mode|i94addr|depdate|i94bir|i94visa|count|dtadfile|visapost|occup|entdepa|entdepd|entdepu|matflag|biryear| dtaddto|gender|insnum|airline|        admnum|fltno|visatype|\n",
      "+---------+------+------+------+------+-------+-------+-------+-------+-------+------+-------+-----+--------+--------+-----+-------+-------+-------+-------+-------+--------+------+------+-------+--------------+-----+--------+\n",
      "|5927066.0|2016.0|   6.0| 575.0| 575.0|    HOU|20633.0|    1.0|     FL|20637.0|  38.0|    2.0|  1.0|20160628|     SNJ| null|      G|      O|   null|      M| 1978.0|12272016|     F|  null|     NK|1.522654484E10|00499|      B2|\n",
      "|5927067.0|2016.0|   6.0| 689.0| 689.0|    MIA|20633.0|    1.0|     FL|   null|  48.0|    2.0|  1.0|20160628|     SPL| null|      G|   null|   null|   null| 1968.0|12272016|     M|  null|     JJ|1.522654574E10|08090|      B2|\n",
      "|5927069.0|2016.0|   6.0| 689.0| 689.0|    WAS|20633.0|    1.0|     DC|20673.0|  56.0|    2.0|  1.0|20160628|     SPL| null|      G|      O|   null|      M| 1960.0|12272016|     F|  null|     UA|1.522654754E10|00860|      B2|\n",
      "|5927077.0|2016.0|   6.0| 689.0| 689.0|    NYC|20633.0|    1.0|     NY|20736.0|  29.0|    2.0|  1.0|20160628|     BRA| null|      G|      O|   null|      M| 1987.0|12272016|     M|  null|     AA|1.522724414E10|00974|      B2|\n",
      "|5927081.0|2016.0|   6.0| 689.0| 689.0|    ORL|20633.0|    1.0|     GA|   null|  31.0|    2.0|  1.0|20160628|     SPL| null|      G|   null|   null|   null| 1985.0|12272016|     F|  null|     DL|1.522724884E10|00196|      B2|\n",
      "|5927085.0|2016.0|   6.0| 689.0| 689.0|    FTL|20633.0|    1.0|     FL|   null|  58.0|    2.0|  1.0|20160628|     SPL| null|      G|   null|   null|   null| 1958.0|12272016|     F|  null|     AD|1.522725244E10|08704|      B2|\n",
      "|5927087.0|2016.0|   6.0| 689.0| 689.0|    FTL|20633.0|    1.0|     FL|20652.0|   5.0|    2.0|  1.0|20160628|     SPL| null|      G|      Q|   null|      M| 2011.0|12272016|     F|  null|     AD|1.522725424E10|08704|      B2|\n",
      "|5927088.0|2016.0|   6.0| 689.0| 689.0|    ATL|20633.0|    1.0|     TX|20642.0|  35.0|    2.0|  1.0|20160628|     SPL| null|      G|      O|   null|      M| 1981.0|12272016|     F|  null|     DL|1.522725514E10|00104|      B2|\n",
      "|5927089.0|2016.0|   6.0| 689.0| 689.0|    MIA|20633.0|    1.0|     FL|20652.0|  32.0|    2.0|  1.0|20160628|     SPL| null|      G|      I|   null|      M| 1984.0|12272016|     F|  null|     JJ|1.522725604E10|08090|      B2|\n",
      "|5927092.0|2016.0|   6.0| 512.0| 512.0|    FTL|20633.0|    1.0|     FL|20637.0|  34.0|    2.0|  1.0|20160628|    null| null|      G|      O|   null|      M| 1982.0|12272016|     F|  null|     UP|1.522725984E10|00201|      B2|\n",
      "+---------+------+------+------+------+-------+-------+-------+-------+-------+------+-------+-----+--------+--------+-----+-------+-------+-------+-------+-------+--------+------+------+-------+--------------+-----+--------+\n",
      "\n"
     ]
    }
   ],
   "source": [
    "spark.sql(\"\"\"\n",
    "    SELECT *\n",
    "    FROM ft_i94\n",
    "    LIMIT 10\n",
    "    \"\"\").show()"
   ]
  },
  {
   "cell_type": "code",
   "execution_count": 9,
   "metadata": {},
   "outputs": [],
   "source": [
    "# Count of Missing values\n",
    "from pyspark.sql.functions import isnan, when, count, col\n",
    "\n",
    "import pandas as pd\n",
    "df_col_nas = df_ft_i94.select([(count(when(isnan(c), c))/df_ft_i94.count()*100).alias(c) for c in df_ft_i94.columns])"
   ]
  },
  {
   "cell_type": "code",
   "execution_count": 10,
   "metadata": {},
   "outputs": [],
   "source": [
    "# Convert resultset to Pandas\n",
    "df_col_nas_pd = df_col_nas.toPandas()"
   ]
  },
  {
   "cell_type": "code",
   "execution_count": 11,
   "metadata": {},
   "outputs": [
    {
     "data": {
      "text/html": [
       "<div>\n",
       "<style scoped>\n",
       "    .dataframe tbody tr th:only-of-type {\n",
       "        vertical-align: middle;\n",
       "    }\n",
       "\n",
       "    .dataframe tbody tr th {\n",
       "        vertical-align: top;\n",
       "    }\n",
       "\n",
       "    .dataframe thead th {\n",
       "        text-align: right;\n",
       "    }\n",
       "</style>\n",
       "<table border=\"1\" class=\"dataframe\">\n",
       "  <thead>\n",
       "    <tr style=\"text-align: right;\">\n",
       "      <th></th>\n",
       "      <th>cicid</th>\n",
       "      <th>i94yr</th>\n",
       "      <th>i94mon</th>\n",
       "      <th>i94cit</th>\n",
       "      <th>i94res</th>\n",
       "      <th>i94port</th>\n",
       "      <th>arrdate</th>\n",
       "      <th>i94mode</th>\n",
       "      <th>i94addr</th>\n",
       "      <th>depdate</th>\n",
       "      <th>...</th>\n",
       "      <th>entdepu</th>\n",
       "      <th>matflag</th>\n",
       "      <th>biryear</th>\n",
       "      <th>dtaddto</th>\n",
       "      <th>gender</th>\n",
       "      <th>insnum</th>\n",
       "      <th>airline</th>\n",
       "      <th>admnum</th>\n",
       "      <th>fltno</th>\n",
       "      <th>visatype</th>\n",
       "    </tr>\n",
       "  </thead>\n",
       "  <tbody>\n",
       "    <tr>\n",
       "      <th>0</th>\n",
       "      <td>0.0</td>\n",
       "      <td>0.0</td>\n",
       "      <td>0.0</td>\n",
       "      <td>0.0</td>\n",
       "      <td>0.0</td>\n",
       "      <td>0.0</td>\n",
       "      <td>0.0</td>\n",
       "      <td>0.0</td>\n",
       "      <td>0.0</td>\n",
       "      <td>0.0</td>\n",
       "      <td>...</td>\n",
       "      <td>0.0</td>\n",
       "      <td>0.0</td>\n",
       "      <td>0.0</td>\n",
       "      <td>0.0</td>\n",
       "      <td>0.0</td>\n",
       "      <td>0.0</td>\n",
       "      <td>0.0</td>\n",
       "      <td>0.0</td>\n",
       "      <td>0.0</td>\n",
       "      <td>0.0</td>\n",
       "    </tr>\n",
       "  </tbody>\n",
       "</table>\n",
       "<p>1 rows × 28 columns</p>\n",
       "</div>"
      ],
      "text/plain": [
       "   cicid  i94yr  i94mon  i94cit  i94res  i94port  arrdate  i94mode  i94addr  \\\n",
       "0    0.0    0.0     0.0     0.0     0.0      0.0      0.0      0.0      0.0   \n",
       "\n",
       "   depdate    ...     entdepu  matflag  biryear  dtaddto  gender  insnum  \\\n",
       "0      0.0    ...         0.0      0.0      0.0      0.0     0.0     0.0   \n",
       "\n",
       "   airline  admnum  fltno  visatype  \n",
       "0      0.0     0.0    0.0       0.0  \n",
       "\n",
       "[1 rows x 28 columns]"
      ]
     },
     "execution_count": 11,
     "metadata": {},
     "output_type": "execute_result"
    }
   ],
   "source": [
    "# Check results\n",
    "df_col_nas_pd.head()"
   ]
  },
  {
   "cell_type": "code",
   "execution_count": 12,
   "metadata": {},
   "outputs": [
    {
     "name": "stdout",
     "output_type": "stream",
     "text": [
      "Total Percentage of NaN entries: 0.0\n"
     ]
    }
   ],
   "source": [
    "# Percentage count of any NaN entries\n",
    "print('Total Percentage of NaN entries:',df_col_nas_pd.values.sum())"
   ]
  },
  {
   "cell_type": "code",
   "execution_count": 13,
   "metadata": {},
   "outputs": [
    {
     "name": "stdout",
     "output_type": "stream",
     "text": [
      "0 Missing values\n"
     ]
    }
   ],
   "source": [
    "# Graph the above result for visual reference\n",
    "import matplotlib.pyplot as plt\n",
    "if df_col_nas_pd.values.sum():\n",
    "    df_col_nas_pd.plot(y=df_col_nas_pd.columns, kind='bar', title='Percentage of Missing values (NaN)', figsize=(5,8));\n",
    "else:\n",
    "    print('0 Missing values')"
   ]
  },
  {
   "cell_type": "code",
   "execution_count": 14,
   "metadata": {},
   "outputs": [],
   "source": [
    "# Count of null values\n",
    "from pyspark.sql.functions import isnan, when, count, col\n",
    "import pandas as pd\n",
    "df_col_nulls = df_ft_i94.select([(count(when(col(c).isNull(), c))/df_ft_i94.count()*100).alias(c) for c in df_ft_i94.columns])"
   ]
  },
  {
   "cell_type": "code",
   "execution_count": 15,
   "metadata": {},
   "outputs": [],
   "source": [
    "# Convert resultset to Pandas dataframe\n",
    "df_col_nulls_pd = df_col_nulls.toPandas()"
   ]
  },
  {
   "cell_type": "code",
   "execution_count": 16,
   "metadata": {},
   "outputs": [
    {
     "data": {
      "text/html": [
       "<div>\n",
       "<style scoped>\n",
       "    .dataframe tbody tr th:only-of-type {\n",
       "        vertical-align: middle;\n",
       "    }\n",
       "\n",
       "    .dataframe tbody tr th {\n",
       "        vertical-align: top;\n",
       "    }\n",
       "\n",
       "    .dataframe thead th {\n",
       "        text-align: right;\n",
       "    }\n",
       "</style>\n",
       "<table border=\"1\" class=\"dataframe\">\n",
       "  <thead>\n",
       "    <tr style=\"text-align: right;\">\n",
       "      <th></th>\n",
       "      <th>cicid</th>\n",
       "      <th>i94yr</th>\n",
       "      <th>i94mon</th>\n",
       "      <th>i94cit</th>\n",
       "      <th>i94res</th>\n",
       "      <th>i94port</th>\n",
       "      <th>arrdate</th>\n",
       "      <th>i94mode</th>\n",
       "      <th>i94addr</th>\n",
       "      <th>depdate</th>\n",
       "      <th>...</th>\n",
       "      <th>entdepu</th>\n",
       "      <th>matflag</th>\n",
       "      <th>biryear</th>\n",
       "      <th>dtaddto</th>\n",
       "      <th>gender</th>\n",
       "      <th>insnum</th>\n",
       "      <th>airline</th>\n",
       "      <th>admnum</th>\n",
       "      <th>fltno</th>\n",
       "      <th>visatype</th>\n",
       "    </tr>\n",
       "  </thead>\n",
       "  <tbody>\n",
       "    <tr>\n",
       "      <th>0</th>\n",
       "      <td>0.0</td>\n",
       "      <td>0.0</td>\n",
       "      <td>0.0</td>\n",
       "      <td>0.014545</td>\n",
       "      <td>0.0</td>\n",
       "      <td>0.0</td>\n",
       "      <td>0.0</td>\n",
       "      <td>1.71153</td>\n",
       "      <td>5.204603</td>\n",
       "      <td>8.029983</td>\n",
       "      <td>...</td>\n",
       "      <td>99.980056</td>\n",
       "      <td>7.960948</td>\n",
       "      <td>0.017874</td>\n",
       "      <td>1.724984</td>\n",
       "      <td>16.285169</td>\n",
       "      <td>96.726563</td>\n",
       "      <td>4.433888</td>\n",
       "      <td>0.0</td>\n",
       "      <td>2.022272</td>\n",
       "      <td>0.0</td>\n",
       "    </tr>\n",
       "  </tbody>\n",
       "</table>\n",
       "<p>1 rows × 28 columns</p>\n",
       "</div>"
      ],
      "text/plain": [
       "   cicid  i94yr  i94mon    i94cit  i94res  i94port  arrdate  i94mode  \\\n",
       "0    0.0    0.0     0.0  0.014545     0.0      0.0      0.0  1.71153   \n",
       "\n",
       "    i94addr   depdate    ...       entdepu   matflag   biryear   dtaddto  \\\n",
       "0  5.204603  8.029983    ...     99.980056  7.960948  0.017874  1.724984   \n",
       "\n",
       "      gender     insnum   airline  admnum     fltno  visatype  \n",
       "0  16.285169  96.726563  4.433888     0.0  2.022272       0.0  \n",
       "\n",
       "[1 rows x 28 columns]"
      ]
     },
     "execution_count": 16,
     "metadata": {},
     "output_type": "execute_result"
    }
   ],
   "source": [
    "# Check results\n",
    "df_col_nulls_pd.head()"
   ]
  },
  {
   "cell_type": "code",
   "execution_count": 17,
   "metadata": {},
   "outputs": [
    {
     "name": "stdout",
     "output_type": "stream",
     "text": [
      "Total Percentage of null entries: 14.7276846766\n"
     ]
    }
   ],
   "source": [
    "# Percentage count null entries\n",
    "print('Total Percentage of null entries:' ,df_col_nulls_pd.values.sum()/len(df_col_nulls_pd.columns))"
   ]
  },
  {
   "cell_type": "code",
   "execution_count": 18,
   "metadata": {},
   "outputs": [
    {
     "data": {
      "image/png": "[encoded data removed]",
      "text/plain": [
       "<matplotlib.figure.Figure at 0x7f6fdae67ba8>"
      ]
     },
     "metadata": {
      "needs_background": "light"
     },
     "output_type": "display_data"
    }
   ],
   "source": [
    "# Graph the above result for visual reference\n",
    "import matplotlib.pyplot as plt\n",
    "if df_col_nulls_pd.values.sum():\n",
    "    df_col_nulls_pd.plot(kind='bar', title='Percentage of Nulls', figsize=(10,10), grid=True);\n",
    "else:\n",
    "    print('0 Null values')"
   ]
  },
  {
   "cell_type": "code",
   "execution_count": 19,
   "metadata": {},
   "outputs": [
    {
     "data": {
      "text/plain": [
       "'\\n# These are close to 100% nulls/missing data making them useless for drawing insights\\n- OCCUP (~100% missing)\\n- ENTDEPU (~100% missing)\\n- INSNUM (~90% missing)\\n\\nOther columns like VISAPOST appears to be an expection. Related column I94VISA and VISATYPE are present with sufficient data\\n** One conclusion after doing more analysis with data, VISAPOST is not valid for cases with Visa Waiver programs, so VISA issue post may be not valid in these cases.\\n** Will keep work with this column but be mindful that nearly 60% of data is not valid.\\n'"
      ]
     },
     "execution_count": 19,
     "metadata": {},
     "output_type": "execute_result"
    }
   ],
   "source": [
    "# From Graph above, looks like following columns may need to be dropped.\n",
    "\"\"\"\n",
    "# These are close to 100% nulls/missing data making them useless for drawing insights\n",
    "- OCCUP (~100% missing)\n",
    "- ENTDEPU (~100% missing)\n",
    "- INSNUM (~90% missing)\n",
    "\n",
    "Other columns like VISAPOST appears to be an expection. Related column I94VISA and VISATYPE are present with sufficient data\n",
    "** One conclusion after doing more analysis with data, VISAPOST is not valid for cases with Visa Waiver programs, so VISA issue post may be not valid in these cases.\n",
    "** Will keep work with this column but be mindful that nearly 60% of data is not valid.\n",
    "\"\"\"\n",
    "\n",
    "# Other columns show low percentages, so will continue with data as is in tables."
   ]
  },
  {
   "cell_type": "code",
   "execution_count": 20,
   "metadata": {},
   "outputs": [],
   "source": [
    "# Dropping columns occup, entdepu, insum\n",
    "df_ft_i94 = df_ft_i94.drop('occup').drop('entdepu').drop('insnum')\n"
   ]
  },
  {
   "cell_type": "code",
   "execution_count": 21,
   "metadata": {},
   "outputs": [
    {
     "data": {
      "text/html": [
       "<div>\n",
       "<style scoped>\n",
       "    .dataframe tbody tr th:only-of-type {\n",
       "        vertical-align: middle;\n",
       "    }\n",
       "\n",
       "    .dataframe tbody tr th {\n",
       "        vertical-align: top;\n",
       "    }\n",
       "\n",
       "    .dataframe thead th {\n",
       "        text-align: right;\n",
       "    }\n",
       "</style>\n",
       "<table border=\"1\" class=\"dataframe\">\n",
       "  <thead>\n",
       "    <tr style=\"text-align: right;\">\n",
       "      <th></th>\n",
       "      <th>cicid</th>\n",
       "      <th>i94yr</th>\n",
       "      <th>i94mon</th>\n",
       "      <th>i94cit</th>\n",
       "      <th>i94res</th>\n",
       "      <th>i94port</th>\n",
       "      <th>arrdate</th>\n",
       "      <th>i94mode</th>\n",
       "      <th>i94addr</th>\n",
       "      <th>depdate</th>\n",
       "      <th>...</th>\n",
       "      <th>entdepa</th>\n",
       "      <th>entdepd</th>\n",
       "      <th>matflag</th>\n",
       "      <th>biryear</th>\n",
       "      <th>dtaddto</th>\n",
       "      <th>gender</th>\n",
       "      <th>airline</th>\n",
       "      <th>admnum</th>\n",
       "      <th>fltno</th>\n",
       "      <th>visatype</th>\n",
       "    </tr>\n",
       "  </thead>\n",
       "  <tbody>\n",
       "    <tr>\n",
       "      <th>0</th>\n",
       "      <td>0.0</td>\n",
       "      <td>0.0</td>\n",
       "      <td>0.0</td>\n",
       "      <td>0.014545</td>\n",
       "      <td>0.0</td>\n",
       "      <td>0.0</td>\n",
       "      <td>0.0</td>\n",
       "      <td>1.71153</td>\n",
       "      <td>5.204603</td>\n",
       "      <td>8.029983</td>\n",
       "      <td>...</td>\n",
       "      <td>0.045567</td>\n",
       "      <td>9.604729</td>\n",
       "      <td>7.960948</td>\n",
       "      <td>0.017874</td>\n",
       "      <td>1.724984</td>\n",
       "      <td>16.285169</td>\n",
       "      <td>4.433888</td>\n",
       "      <td>0.0</td>\n",
       "      <td>2.022272</td>\n",
       "      <td>0.0</td>\n",
       "    </tr>\n",
       "  </tbody>\n",
       "</table>\n",
       "<p>1 rows × 24 columns</p>\n",
       "</div>"
      ],
      "text/plain": [
       "   cicid  i94yr  i94mon    i94cit  i94res  i94port  arrdate  i94mode  \\\n",
       "0    0.0    0.0     0.0  0.014545     0.0      0.0      0.0  1.71153   \n",
       "\n",
       "    i94addr   depdate    ...      entdepa   entdepd   matflag   biryear  \\\n",
       "0  5.204603  8.029983    ...     0.045567  9.604729  7.960948  0.017874   \n",
       "\n",
       "    dtaddto     gender   airline  admnum     fltno  visatype  \n",
       "0  1.724984  16.285169  4.433888     0.0  2.022272       0.0  \n",
       "\n",
       "[1 rows x 24 columns]"
      ]
     },
     "execution_count": 21,
     "metadata": {},
     "output_type": "execute_result"
    }
   ],
   "source": [
    "# Check percentage of null entries again:\n",
    "df_col_nulls = df_ft_i94.select([(count(when(col(c).isNull(), c))/df_ft_i94.count()*100).alias(c) for c in df_ft_i94.columns])\n",
    "\n",
    "# We'll ignore visapost here and check the rest\n",
    "df_col_nulls_pd = df_col_nulls.drop('visapost').toPandas()\n",
    "\n",
    "df_col_nulls_pd.head()"
   ]
  },
  {
   "cell_type": "code",
   "execution_count": 22,
   "metadata": {},
   "outputs": [
    {
     "name": "stdout",
     "output_type": "stream",
     "text": [
      "Total Percentage of null entries: 2.3780935643\n"
     ]
    }
   ],
   "source": [
    "# Percentage count of any null entries\n",
    "print('Total Percentage of null entries:' ,df_col_nulls_pd.values.sum()/len(df_col_nulls_pd.columns))"
   ]
  },
  {
   "cell_type": "code",
   "execution_count": 23,
   "metadata": {},
   "outputs": [
    {
     "data": {
      "image/png": "[encoded data removed]",
      "text/plain": [
       "<matplotlib.figure.Figure at 0x7f7007bad438>"
      ]
     },
     "metadata": {
      "needs_background": "light"
     },
     "output_type": "display_data"
    }
   ],
   "source": [
    "# Graph the above result for visual reference\n",
    "import matplotlib.pyplot as plt\n",
    "if df_col_nulls_pd.values.sum():\n",
    "    df_col_nulls_pd.plot(kind='bar', title='Percentage of Nulls', figsize=(10,10), grid=True);\n",
    "else:\n",
    "    print('0 Null values')"
   ]
  },
  {
   "cell_type": "code",
   "execution_count": 24,
   "metadata": {},
   "outputs": [
    {
     "data": {
      "text/plain": [
       "\"\\n# Overall null has droped to ~1.6%\\n# Other like GENDER is only major column with nulls. ~16%\\n    One hypothesis, people not reporting since question only have options of Male/Female \\n    or choosing 'Prefer not to disclose', maybe within LGBT.\\n\\n# Other columns I94ADDR, DEPDATE, ENTDEPD, MATFLAG, AIRLINE, FLTNO less than ~6% nulls \\n  which looks good enough for analysis. One date about dates is dataset only for 2016 alone.\\n  Could have people entering US and not leaving within same year e.g. Students on longer term studies\\n\""
      ]
     },
     "execution_count": 24,
     "metadata": {},
     "output_type": "execute_result"
    }
   ],
   "source": [
    "# From Graph above, looks all other columns have low null count now. \n",
    "\"\"\"\n",
    "# Overall null has droped to ~1.6%\n",
    "# Other like GENDER is only major column with nulls. ~16%\n",
    "    One hypothesis, people not reporting since question only have options of Male/Female \n",
    "    or choosing 'Prefer not to disclose', maybe within LGBT.\n",
    "\n",
    "# Other columns I94ADDR, DEPDATE, ENTDEPD, MATFLAG, AIRLINE, FLTNO less than ~6% nulls \n",
    "  which looks good enough for analysis. One date about dates is dataset only for 2016 alone.\n",
    "  Could have people entering US and not leaving within same year e.g. Students on longer term studies\n",
    "\"\"\""
   ]
  },
  {
   "cell_type": "code",
   "execution_count": 25,
   "metadata": {},
   "outputs": [
    {
     "name": "stdout",
     "output_type": "stream",
     "text": [
      "Current df_ft_i94 row count: 3574989\n"
     ]
    }
   ],
   "source": [
    "# Do duplication check and drop duplicates\n",
    "\n",
    "# Current count:\n",
    "print('Current df_ft_i94 row count:', df_ft_i94.count())"
   ]
  },
  {
   "cell_type": "code",
   "execution_count": 26,
   "metadata": {},
   "outputs": [],
   "source": [
    "# Dropping duplicates:\n",
    "df_ft_i94_nodup = df_ft_i94.dropDuplicates()"
   ]
  },
  {
   "cell_type": "code",
   "execution_count": 27,
   "metadata": {},
   "outputs": [
    {
     "name": "stdout",
     "output_type": "stream",
     "text": [
      "After dropping duplicates df_ft_i94_nodup row count: 3574989\n"
     ]
    }
   ],
   "source": [
    "# Show now row count:\n",
    "print('After dropping duplicates df_ft_i94_nodup row count:', df_ft_i94_nodup.count())"
   ]
  },
  {
   "cell_type": "code",
   "execution_count": 28,
   "metadata": {},
   "outputs": [
    {
     "name": "stdout",
     "output_type": "stream",
     "text": [
      "Difference row count: 0\n"
     ]
    }
   ],
   "source": [
    "# Diff seen to be 0. So, no duplicate rows detected\n",
    "print('Difference row count:', df_ft_i94.count()-df_ft_i94_nodup.count())"
   ]
  },
  {
   "cell_type": "code",
   "execution_count": 31,
   "metadata": {},
   "outputs": [
    {
     "name": "stdout",
     "output_type": "stream",
     "text": [
      "['cicid', 'i94yr', 'i94mon', 'i94cit', 'i94res', 'i94port', 'arrdate', 'i94mode', 'i94addr', 'depdate', 'i94bir', 'i94visa', 'count', 'dtadfile', 'visapost', 'entdepa', 'entdepd', 'matflag', 'biryear', 'dtaddto', 'gender', 'airline', 'admnum', 'fltno', 'visatype']\n"
     ]
    }
   ],
   "source": [
    "print(df_ft_i94.columns)"
   ]
  }
 ],
 "metadata": {
  "kernelspec": {
   "display_name": "Python 3",
   "language": "python",
   "name": "python3"
  },
  "language_info": {
   "codemirror_mode": {
    "name": "ipython",
    "version": 3
   },
   "file_extension": ".py",
   "mimetype": "text/x-python",
   "name": "python",
   "nbconvert_exporter": "python",
   "pygments_lexer": "ipython3",
   "version": "3.7.4"
  }
 },
 "nbformat": 4,
 "nbformat_minor": 4
}
