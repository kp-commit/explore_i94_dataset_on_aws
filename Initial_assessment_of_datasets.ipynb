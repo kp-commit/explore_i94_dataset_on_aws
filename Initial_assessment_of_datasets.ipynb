{
 "cells": [
  {
   "cell_type": "markdown",
   "metadata": {
    "editable": true
   },
   "source": [
    "### Initial Assessment of datasets\n",
    "Identify data quality issues, like missing values, duplicate data, etc."
   ]
  },
  {
   "cell_type": "markdown",
   "metadata": {
    "editable": true
   },
   "source": [
    "#### Files Examined\n"
   ]
  },
  {
   "cell_type": "markdown",
   "metadata": {
    "editable": true
   },
   "source": [
    "##### 1. i94 SAS dataset files on different volume\n",
    "![i94_SAS_files](images/1a_Examine_files.png)"
   ]
  },
  {
   "cell_type": "markdown",
   "metadata": {
    "editable": true
   },
   "source": [
    "##### 2. i94 Sample csv provided\n",
    "![i94_Sample csv](images/2_Head_rows_read__of_Sample_Immigration_file.png)"
   ]
  },
  {
   "cell_type": "markdown",
   "metadata": {
    "editable": true
   },
   "source": [
    "##### 3. i94 SAS Label file extracts:\n",
    "![SAS](images/3_Head_rows_filtered_w_regular_expressions.png)\n",
    "---"
   ]
  },
  {
   "cell_type": "markdown",
   "metadata": {
    "editable": true
   },
   "source": [
    "#### Data Wrangled:\n",
    "\n",
    "##### I94CIT & I94RES:\n",
    "![data_wrangled_4](images/4_Data_Wrangling_Cleaning_Modeling__columns_that_need_their_own_table_NOT_atomic_n_NOT_Normalized_Key_Value_Pairs.png)\n",
    "##### Used Regex Patterns to extract and created JSON files:\n",
    "- I94CIT & I94RES extracted with the following pattern matching: \n",
    "##### (?<=(value i94cntyl\\n))((.)+\\n)+(;)*\n",
    "\n",
    "##### I94PORT:\n",
    "![data_wrangled_4b](images/4b_Data_Wrangling_Cleaning_Modeling__columns_that_need_their_own_table_NOT_atomic_n_NOT_Normalized__Key_Value_Pairs.png)\n",
    "##### Used Regex Patterns to extract and created JSON files:\n",
    "- I94PORT\n",
    "##### (?<=(i94prtl\\n))((.)+\\n)+\n",
    "\n",
    "Rows with columns: (Code, city state):\n",
    "##### Find: (,)(\\s[A-Z]{2}\\n)\n",
    "##### Replace: ;$2\n",
    "##### Additional matches: (,)((\\s[A-Z]{2}\\n)|((\\s[A-Z]{2})(\\s\\(BPS\\))))\n",
    "\n",
    "\n",
    "##### I94ADDR:\n",
    "![data_wrangled_4c](images/4c_Data_Wrangling_Cleaning_Modeling__columns_that_need_their_own_table_NOT_atomic_n_NOT_Normalized__Key_Value_Pairs.png)\n",
    "\n",
    "##### I94VISA:\n",
    "![data_wrangled_4d](images/4d_Data_Wrangling_Cleaning_Modeling__columns_that_need_their_own_table_NOT_atomic_n_NOT_Normalized__Key_Value_Pairs.png)\n",
    "\n",
    "##### I94MODE:\n",
    "![data_wrangled_4e](images/4e_Data_Wrangling_Cleaning_Modeling__columns_that_need_their_own_table_NOT_atomic_n_NOT_Normalized__Key_Value_Pairs.png)"
   ]
  },
  {
   "cell_type": "markdown",
   "metadata": {
    "editable": true
   },
   "source": [
    "---"
   ]
  },
  {
   "cell_type": "markdown",
   "metadata": {
    "editable": true
   },
   "source": [
    "### I94 table columns explored and assessed:"
   ]
  },
  {
   "cell_type": "markdown",
   "metadata": {
    "editable": true
   },
   "source": [
    "Columns: Unnamed and CICID\n",
    "\n",
    "![i94_cols_unamed_cicid](images/4f_Data_Wrangling_Cleaning_Modeling__columns_that_need_their_own_table_NO_info_abt_column_looks_be_index_identifer__unique_ccid_already_present_can_remove.png)\n",
    "`Unnamed = Numeric : Looks to be Row identifier, not appearing in sample csv not in sas dataset\n",
    "CICID = numeric id : INT(10) Client Identifier, remove float precision .0`"
   ]
  },
  {
   "cell_type": "markdown",
   "metadata": {
    "editable": true
   },
   "source": [
    "Columns: CICID, I94YR, I94MON, I94CIT, I94RES\n",
    "\n",
    "![i94_cols_cicid_i94yr_i94mon_i94cit_i94res](images/4H-5_Data_Wrangling_Cleaning_Modeling__column_CID_i94yr_i94mon_i94cit_i94res_need_to_change_Format_possible_datatype_precision_removed.png)\n",
    "\n",
    "`\n",
    "CICID : numeric id - INT(10) Client Identifier, remove float precision .0\n",
    "I94YR : 4 digit year - DATE(YYYY) - current comes up as YYYY.0, needs to be converted\n",
    "I94MON : Numeric month - DATE(MM) - comes up as MM.0, needs to be converted\n",
    "I94CIT : This format shows all the valid and invalid codes for processing - INT(10) - Codes, for country\n",
    "I94RES : This format shows all the valid and invalid codes for processing - INT(10) - Codes, for country\n",
    "`"
   ]
  },
  {
   "cell_type": "markdown",
   "metadata": {
    "editable": true
   },
   "source": [
    "![i94_cols_i94yr](images/assessment/i94_tbl/8_i94_inital_column_review_i94yr.png)\n",
    "`I94YR : 4 digit year - DATE(YYYY) - current comes up as YYYY.0, needs to be converted`\n",
    "\n",
    "![i94_cols_i94cit_i94res](images/assessment/i94_tbl/8_i94_inital_column_review_i94cit_i94res.png)\n",
    "`I94CIT and I94RES : looks to be matching i94cit for post part, some diffs. Keeping CIT column only for now.-- need to check further and justify.`\n",
    "\n",
    "`Figure that CIT - Country in Transist whilst RES - Country of Residence`"
   ]
  },
  {
   "cell_type": "markdown",
   "metadata": {
    "editable": true
   },
   "source": [
    "![i94_col_review_i94port](images/assessment/i94_tbl/8_i94_inital_column_review_i94port.png)\n",
    "\n",
    "`VARCHAR(3) - looks to 3 digit codes for port of entry`"
   ]
  },
  {
   "cell_type": "markdown",
   "metadata": {
    "editable": true
   },
   "source": [
    "Column ARRDATE:\n",
    "\n",
    "![i94_col_Arrdate](images/4H-4_Data_Wrangling_Cleaning_Modeling__column_ARRDate_need_to_change_Format_possible_datatype.png)\n",
    "\n",
    "` Arrival Date in the USA.`\n",
    "\n",
    "![i94_col_review_Arrdate](images/assessment/i94_tbl/8_i94_inital_column_review_Arrdate.png)\n",
    "`\"Looks to be a SAS date numeric field that a permament format has not been applied. Please apply whichever date format works for you.\"  --- This appears to be SAS numeric, UNIX epoch ??? --- how to convert -- needs more info… Very import var though!!!`"
   ]
  },
  {
   "cell_type": "markdown",
   "metadata": {
    "editable": true
   },
   "source": [
    "Column I94MODE:\n",
    "\n",
    "![i94_Sample csv](images/4H-4_Data_Wrangling_Cleaning_Modeling__column_Mode_need_to_change_Format_possible_datatype.png)\n",
    "\n",
    "`VAR(1) - Mode of travel (for entry) \n",
    "There are missing values as well as not reported.`"
   ]
  },
  {
   "cell_type": "markdown",
   "metadata": {
    "editable": true
   },
   "source": [
    "Column I94ADDR:\n",
    "\n",
    "![i94_col_review_Addr](images/assessment/i94_tbl/8_i94_inital_column_review_i94ADDR.png)\n",
    "\n",
    "`Extracted from SAS Labels file, stripped of quotes and equal characters`"
   ]
  },
  {
   "cell_type": "markdown",
   "metadata": {
    "editable": true
   },
   "source": [
    "Column DEPDATE: \n",
    "\n",
    " ![i94_col_review_Depdate](images/assessment/i94_tbl/8_i94_inital_column_review_Depdate.png)\n",
    "\n",
    "` Departure Date from the USA.`\n",
    "\n",
    " `\"Looks to be a SAS date numeric field that a permament format has not been applied. Please apply whichever date format works for you.\"  --- This appears to be SAS numeric, UNIX epoch ??? --- how to convert -- needs more info… Very import var though!!!\n",
    "`"
   ]
  },
  {
   "cell_type": "markdown",
   "metadata": {
    "editable": true
   },
   "source": [
    "Column I94BIR: \n",
    "\n",
    " ![i94_col_review_i94bir](images/assessment/i94_tbl/8_i94_inital_column_review_i94bir.png)\n",
    " \n",
    " `Named bir but really precalculated -  Age of Respondent in Years`\n",
    " `INT(3) - Age, remove percision .0`"
   ]
  },
  {
   "cell_type": "markdown",
   "metadata": {
    "editable": true
   },
   "source": [
    "Column I94VISA: \n",
    "\n",
    " ![i94_col_review_Visatype](images/assessment/i94_tbl/8_i94_inital_column_review_i94visa.png\n",
    " \n",
    " ` Visa codes collapsed into three categories:`\n",
    " `INT(1) - numeric categories`"
   ]
  },
  {
   "cell_type": "markdown",
   "metadata": {
    "editable": true
   },
   "source": [
    "Column COUNT: \n",
    "\n",
    " ![i94_col_review_Count](images/assessment/i94_tbl/8_i94_inital_column_review_Count.png)\n",
    "\n",
    "`Looks to used for summary statistics internally, not useful for us`\n",
    "`INT(?) -- not sure if useful column - maybe dropped -- need to analyze -- more values to determine`"
   ]
  },
  {
   "cell_type": "markdown",
   "metadata": {
    "editable": true
   },
   "source": [
    "Column DTADFILE: \n",
    "\n",
    " ![i94_col_review_dtadfile](images/assessment/i94_tbl/8_i94_inital_column_review_dtadfile.png)\n",
    "\n",
    "` Character Date Field - Date added to I-94 Files - CIC does not use`\n",
    "`Date appears to be in YYYYMMDD format, listed as CIC does not use, worth keeping?`"
   ]
  },
  {
   "cell_type": "markdown",
   "metadata": {
    "editable": true
   },
   "source": [
    "Column VISAPOST: \n",
    "\n",
    " ![i94_col_review_visapost](images/assessment/i94_tbl/8_i94_inital_column_review_visapost.png)\n",
    " \n",
    " ` Department of State where where Visa was issued - CIC does not use`\n",
    " `VARCHAR(3?) -- appears to be Post of visa issue`"
   ]
  },
  {
   "cell_type": "markdown",
   "metadata": {
    "editable": true
   },
   "source": [
    "Column OCCUP: \n",
    "\n",
    " ![i94_col_review_Occup](images/assessment/i94_tbl/8_i94_inital_column_review_Occup.png)\n",
    " \n",
    " ` Occupation that will be performed in U.S. - CIC does not use`\n",
    " `Occupation appears to be blank a lot, drop column??`"
   ]
  },
  {
   "cell_type": "markdown",
   "metadata": {
    "editable": true
   },
   "source": [
    "Column ENTDEPA: \n",
    "\n",
    " ![i94_col_review_](images/assessment/i94_tbl/8_i94_inital_column_review_Entdepa.png)\n",
    " \n",
    " `Arrival Flag - admitted or paroled into the U.S. - CIC does not use`\n",
    " `VARCHAR(1) -- Appears to be difference flags -- no additional on this? Worth keeping? Maybe drop from dataset. Need to check missing value count as well`"
   ]
  },
  {
   "cell_type": "markdown",
   "metadata": {
    "editable": true
   },
   "source": [
    "Column ENTDEPD: \n",
    "\n",
    " ![i94_col_review_Entdepd](images/assessment/i94_tbl/8_i94_inital_column_review_Entdepd.png)\n",
    " \n",
    " ` Departure Flag - Departed, lost I-94 or is deceased - CIC does not use`\n",
    " `VARCHAR(1) -- Appears to be difference flags -- no additional on this? Worth keeping? Maybe drop from dataset. Need to check missing value count as well`"
   ]
  },
  {
   "cell_type": "markdown",
   "metadata": {
    "editable": true
   },
   "source": [
    "Column ENTDEPU: \n",
    "\n",
    " ![i94_col_review_Entdepu](images/assessment/i94_tbl/8_i94_inital_column_review_Entdepu.png)\n",
    " \n",
    " ` Update Flag - Either apprehended, overstayed, adjusted to perm residence - CIC does not use`\n",
    " `VARCHAR(?) -- Mostly null. Maybe drop from dataset. Need to check missing value count as well`"
   ]
  },
  {
   "cell_type": "markdown",
   "metadata": {
    "editable": true
   },
   "source": [
    "Column MATFLAG: \n",
    "\n",
    " ![i94_col_review_Matflag](images/assessment/i94_tbl/8_i94_inital_column_review_Matflag.png)\n",
    " \n",
    " `Match flag - Match of arrival and departure records`\n",
    " `VARCHAR(1) - Most - M for Matching?  - Match of arrival and departure records. Worthwhile to keep  for Analysis? How many missing values? Most like better use for tracking ambiguous travels etc.`"
   ]
  },
  {
   "cell_type": "markdown",
   "metadata": {
    "editable": true
   },
   "source": [
    "Column MATFLAG: \n",
    "\n",
    " ![i94_col_review_Matflag](images/assessment/i94_tbl/8_i94_inital_column_review_Matflag.png)\n",
    " \n",
    " `Match flag - Match of arrival and departure records`\n",
    " `VARCHAR(1) - Most - M for Matching?  - Match of arrival and departure records. Worthwhile to keep  for Analysis? How many missing values? Most like better use for tracking ambiguous travels etc.`"
   ]
  },
  {
   "cell_type": "markdown",
   "metadata": {
    "editable": true
   },
   "source": [
    "Column BIRYEAR: \n",
    "\n",
    " ![i94_col_review_biryear](images/assessment/i94_tbl/8_i94_inital_column_review_biryear.png)\n",
    " \n",
    " `4 digit year of birth`\n",
    " \n",
    " ![i94_Sample csv](images/4H-2_Data_Wrangling_Cleaning_Modeling__column_BirthYear_need_to_change_Format_possible_datatype.png) \n",
    "\n",
    "`DATE(YYYY) - current comes up as YYYY.0, needs to be converted`"
   ]
  },
  {
   "cell_type": "markdown",
   "metadata": {
    "editable": true
   },
   "source": [
    "Column DTADDTO: \n",
    "\n",
    " ![i94_col_review_Dtaddto](images/assessment/i94_tbl/8_i94_inital_column_review_Dtaddto.png)\n",
    " \n",
    " `Character Date Field - Date to which admitted to U.S. (allowed to stay until) - CIC does not use`\n",
    " `DATE(MMDDYYYY) - may need to be standardized with other dates`"
   ]
  },
  {
   "cell_type": "markdown",
   "metadata": {
    "editable": true
   },
   "source": [
    "Column GENDER: \n",
    "\n",
    " ![i94_col_review_Gender](images/assessment/i94_tbl/8_i94_inital_column_review_Gender.png)\n",
    " \n",
    "  `Non-immigrant sex`\n",
    "  `VARCHAR(1) - Many missing entries, need to check counts of missing values? Any assumptions to be made. Also, this appears to be for non-immigrant only - as noted in  \"Non-immigrant sex\" label description`"
   ]
  },
  {
   "cell_type": "markdown",
   "metadata": {
    "editable": true
   },
   "source": [
    "Column INSNUM: \n",
    "\n",
    " ![i94_col_review_Insum](images/assessment/i94_tbl/8_i94_inital_column_review_Insum.png)\n",
    " \n",
    " `INS number`\n",
    " `Worth keep for analysis? INS number was a previous identifier used by United States Immigration and Naturalization Service (INS), later the organization responsibilties were transfered across U.S. Citizenship and Immigration Services (USCIS), U.S. Immigration and Customs Enforcement (ICE), and U.S. Customs and Border Protection (CBP).  USCIS number maybe need to be used instead as identifier.`"
   ]
  },
  {
   "cell_type": "markdown",
   "metadata": {
    "editable": true
   },
   "source": [
    "Column AIRLINE: \n",
    "\n",
    "![i94_Sample csv](images/4G_Data_Wrangling_Cleaning_Modeling__column_Airline_need_to_check_for_Junk_character_cleaning.png)\n",
    "\n",
    " `Airline used to arrive in U.S.`\n",
    " \n",
    " ![i94_col_review_Airline](images/assessment/i94_tbl/8_i94_inital_column_review_Airline.png)\n",
    " \n",
    " `VARCHAR(3?) -- see entries like *GA, actual airline or Junk characters, needs further analysis. May allow to load as is for now.`"
   ]
  },
  {
   "cell_type": "markdown",
   "metadata": {
    "editable": true
   },
   "source": [
    "Column ADMNUM: \n",
    "\n",
    " ![i94_col_review_Admnum](images/assessment/i94_tbl/8_i94_inital_column_review_Admnum.png)\n",
    " \n",
    "  `Admission Number`\n",
    " \n",
    "![i94_Sample csv](images/4H_Data_Wrangling_Cleaning_Modeling__column_Addnum_need_to_change_Format_possible_datatype.png)\n",
    "\n",
    "`BIGINT(12?) - Admission number, remove percision.`"
   ]
  },
  {
   "cell_type": "markdown",
   "metadata": {
    "editable": true
   },
   "source": [
    "Column FLTNO: \n",
    "\n",
    " ![i94_col_review_Fltno](images/assessment/i94_tbl/8_i94_inital_column_review_Fltno.png)\n",
    "\n",
    "`Flight number of Airline used to arrive in U.S.`\n",
    "\n",
    "`INT(5) -- Many exepctions like 'LAND', and other text like 'XBLNG', exception or remove those rows for analysis???`"
   ]
  },
  {
   "cell_type": "markdown",
   "metadata": {
    "editable": true
   },
   "source": [
    "Column VISATYPE:  \n",
    "\n",
    " ![i94_col_review_Visatype](images/assessment/i94_tbl/8_i94_inital_column_review_Visatype.png)\n",
    " \n",
    "` Class of admission legally admitting the non-immigrant to temporarily stay in U.S.`\n",
    "\n",
    "`VARCHAR(3)`"
   ]
  },
  {
   "cell_type": "markdown",
   "metadata": {
    "editable": true
   },
   "source": [
    "Column DTADDTO:\n",
    "    \n",
    "![i94_Sample csv](images/4H-3_Data_Wrangling_Cleaning_Modeling__column_DT_need_to_change_Format_DATE_type_Maybe_Split_into_more_columns.png)\n",
    "` Character Date Field - Date to which admitted to U.S. (allowed to stay until)\n",
    "DATE(MMDDYYYY) - may need to be standardized with other dates`"
   ]
  },
  {
   "cell_type": "markdown",
   "metadata": {
    "editable": true
   },
   "source": [
    "---"
   ]
  },
  {
   "cell_type": "markdown",
   "metadata": {
    "editable": true
   },
   "source": [
    "#### Airport Codes Table"
   ]
  },
  {
   "cell_type": "markdown",
   "metadata": {
    "editable": true
   },
   "source": [
    "Column Ident:\n",
    "    \n",
    "![Aiport_column_Ident](images/assessment/Airport_tbl/9_Explore_AIRPORT_CODES_Column_Ident.png)\n",
    "\n",
    "`VARCHAR(4)? Check max on items len`"
   ]
  },
  {
   "cell_type": "markdown",
   "metadata": {
    "editable": true
   },
   "source": [
    "Column Type:\n",
    "    \n",
    "![Aiport_column_Type](images/assessment/Airport_tbl/9_Explore_AIRPORT_CODES_Column_Type.png)\n",
    "\n",
    "`VARCHAR(2)? Repeated values - maybe break this into separate table 3NF for duplicates?? For OLAP, keep??`"
   ]
  },
  {
   "cell_type": "markdown",
   "metadata": {
    "editable": true
   },
   "source": [
    "Column Name:\n",
    "    \n",
    "![Aiport_column_Name](images/assessment/Airport_tbl/9_Explore_AIRPORT_CODES_Column_Name.png)\n",
    "\n",
    "`VARCHAR(100) -- Some special characters like ' and & and . and ()`"
   ]
  },
  {
   "cell_type": "markdown",
   "metadata": {
    "editable": true
   },
   "source": [
    "Column Elevation_ft:\n",
    "    \n",
    "![Aiport_column_Elevation_ft](images/assessment/Airport_tbl/9_Explore_AIRPORT_CODES_Column_Elevation.png)\n",
    "\n",
    "`INT(5) -- few missing values`"
   ]
  },
  {
   "cell_type": "markdown",
   "metadata": {
    "editable": true
   },
   "source": [
    "Column Continent:\n",
    "    \n",
    "![Aiport_column_Continent](images/assessment/Airport_tbl/9_Explore_AIRPORT_CODES_Column_Continent.png)\n",
    "\n",
    "`VARCHAR(2)? Repeated values - maybe break this into separate table 3NF for duplicates?? For OLAP, keep??`"
   ]
  },
  {
   "cell_type": "markdown",
   "metadata": {
    "editable": true
   },
   "source": [
    "Column Iso Country:\n",
    "    \n",
    "![Aiport_column_Iso_Country](images/assessment/Airport_tbl/9_Explore_AIRPORT_CODES_Column_Iso_Country.png)\n",
    "\n",
    "`VARCHAR(2)? Repeated values - maybe break this into separate table 3NF for duplicates?? For OLAP, keep??`\n",
    "`Maybe can filter based on US- for only US in this table and drop this column`"
   ]
  },
  {
   "cell_type": "markdown",
   "metadata": {
    "editable": true
   },
   "source": [
    "Column Iso Region:\n",
    "    \n",
    "![Aiport_column_Iso_Region](images/assessment/Airport_tbl/9_Explore_AIRPORT_CODES_Column_Iso_Region.png)\n",
    "\n",
    "`VARCHAR(10)? Repeated values - maybe break this into separate table 3NF for duplicates?? For OLAP, keep??`\n",
    "`Maybe can filter based on US- for only US iso regions info`"
   ]
  },
  {
   "cell_type": "markdown",
   "metadata": {
    "editable": true
   },
   "source": [
    "Column Municipality:\n",
    "    \n",
    "![Aiport_column_Municipality](images/assessment/Airport_tbl/9_Explore_AIRPORT_CODES_Column_Municipality.png)\n",
    "\n",
    "`VARCHAR(100)? Few missing values -- what do to accomdate?`\n",
    "`Varchar - accomdates char like '`"
   ]
  },
  {
   "cell_type": "markdown",
   "metadata": {
    "editable": true
   },
   "source": [
    "Column GPS Code:\n",
    "    \n",
    "![Aiport_column_GPS_Code](images/assessment/Airport_tbl/9_Explore_AIRPORT_CODES_Column_Gps_Code.png)\n",
    "\n",
    "`VARCHAR(10) --- many missing entries -- accomdate?`"
   ]
  },
  {
   "cell_type": "markdown",
   "metadata": {
    "editable": true
   },
   "source": [
    "Column IATA Code:\n",
    "    \n",
    "![Aiport_column_IATA_Code](images/assessment/Airport_tbl/9_Explore_AIRPORT_CODES_Column_Iata_Code.png)\n",
    "\n",
    "`VARCHAR(10) --- many missing entries -- accomdate?`"
   ]
  },
  {
   "cell_type": "markdown",
   "metadata": {
    "editable": true
   },
   "source": [
    "Column Local Code:\n",
    "    \n",
    "![Aiport_column_Local_Code](images/assessment/Airport_tbl/9_Explore_AIRPORT_CODES_Column_Local_Code.png)\n",
    "\n",
    "`VARCHAR(10) --- many missing entries -- accomdate?`"
   ]
  },
  {
   "cell_type": "markdown",
   "metadata": {
    "editable": true
   },
   "source": [
    "Column Coordinates:\n",
    "    \n",
    "![Aiport_column_Municipality](images/assessment/Airport_tbl/9_Explore_AIRPORT_CODES_Column_Co-ordinates.png)\n",
    "\n",
    "`VARCHAR(10) --- many missing entries -- accomdate?`"
   ]
  },
  {
   "cell_type": "markdown",
   "metadata": {
    "editable": true
   },
   "source": [
    "---"
   ]
  },
  {
   "cell_type": "markdown",
   "metadata": {
    "editable": true
   },
   "source": [
    "#### US Cities Demographics Table"
   ]
  },
  {
   "cell_type": "markdown",
   "metadata": {
    "editable": true
   },
   "source": [
    "Column City:\n",
    "    \n",
    "![City_Demographics_column_City](images/assessment/city-demographics_tbl/9_Explore_CITY_Demographics_Column_City.png)\n",
    "\n",
    "`VARCHAR(50?) -- looks to be clean for most part. Few exceptional names, and long entries.  May need to check max item len`"
   ]
  },
  {
   "cell_type": "markdown",
   "metadata": {
    "editable": true
   },
   "source": [
    "Column State:\n",
    "    \n",
    "![City_Demographics_column_State](images/assessment/city-demographics_tbl/9_Explore_CITY_Demographics_Column_State.png)\n",
    "\n",
    "`VARCHAR(50?) -- VARCHAR(20)? May need to check max item len`"
   ]
  },
  {
   "cell_type": "markdown",
   "metadata": {
    "editable": true
   },
   "source": [
    "Column MedianAge:\n",
    "    \n",
    "![City_Demographics_column_MedianAge](images/assessment/city-demographics_tbl/9_Explore_CITY_Demographics_Column_MedianAge.png)\n",
    "\n",
    "`DECIMAL(3,1)`"
   ]
  },
  {
   "cell_type": "markdown",
   "metadata": {
    "editable": true
   },
   "source": [
    "Column MalePopulation:\n",
    "    \n",
    "![City_Demographics_column_State](images/assessment/city-demographics_tbl/9_Explore_CITY_Demographics_Column_MalePopulation.png)\n",
    "\n",
    "`INT? May need to check max item len`"
   ]
  },
  {
   "cell_type": "markdown",
   "metadata": {
    "editable": true
   },
   "source": [
    "Column FemalePopulation:\n",
    "    \n",
    "![City_Demographics_column_FemalePopulation](images/assessment/city-demographics_tbl/9_Explore_CITY_Demographics_Column_FemalePopulation.png)\n",
    "\n",
    "`INT? May need to check max item len`"
   ]
  },
  {
   "cell_type": "markdown",
   "metadata": {
    "editable": true
   },
   "source": [
    "Column TotalPopulation:\n",
    "    \n",
    "![City_Demographics_column_TotalPopulation](images/assessment/city-demographics_tbl/9_Explore_CITY_Demographics_Column_TotalPopulation.png)\n",
    "\n",
    "`INT? May need to check max item len`"
   ]
  },
  {
   "cell_type": "markdown",
   "metadata": {
    "editable": true
   },
   "source": [
    "Column NumberofVeterans:\n",
    "    \n",
    "![City_Demographics_column_NumberofVeterans](images/assessment/city-demographics_tbl/9_Explore_CITY_Demographics_Column_NumVeterans.png)\n",
    "\n",
    "`INT? May need to check max item len`"
   ]
  },
  {
   "cell_type": "markdown",
   "metadata": {
    "editable": true
   },
   "source": [
    "Column Foreign-born:\n",
    "    \n",
    "![City_Demographics_column_Foreign-born](images/assessment/city-demographics_tbl/9_Explore_CITY_Demographics_Column_ForeignBorn.png)\n",
    "\n",
    "`INT? May need to check max item len`"
   ]
  },
  {
   "cell_type": "markdown",
   "metadata": {
    "editable": true
   },
   "source": [
    "Column AverageHouseholdSize:\n",
    "    \n",
    "![City_Demographics_column_AverageHouseholdSize](images/assessment/city-demographics_tbl/9_Explore_CITY_Demographics_Column_AvgHousehold.png)\n",
    "\n",
    "`DECMIAL(2,2)`"
   ]
  },
  {
   "cell_type": "markdown",
   "metadata": {
    "editable": true
   },
   "source": [
    "Column StateCode:\n",
    "    \n",
    "![City_Demographics_column_StateCode](images/assessment/city-demographics_tbl/9_Explore_CITY_Demographics_Column_StateCode.png)\n",
    "\n",
    "`VARCHAR(2), Duplicate with State, use or drop??`"
   ]
  },
  {
   "cell_type": "markdown",
   "metadata": {
    "editable": true
   },
   "source": [
    "Column Race:\n",
    "    \n",
    "![City_Demographics_column_Race](images/assessment/city-demographics_tbl/9_Explore_CITY_Demographics_Column_Race.png)\n",
    "\n",
    "`Non-atomic values, Major Races listed… need to figure out how to Represent this`"
   ]
  },
  {
   "cell_type": "markdown",
   "metadata": {
    "editable": true
   },
   "source": [
    "Column Count:\n",
    "    \n",
    "![City_Demographics_column_Race](images/assessment/city-demographics_tbl/9_Explore_CITY_Demographics_Column_Count.png)\n",
    "\n",
    "`Drop from Analysis? What is use of this?? Is this calculated? Need to review source docs or info on this.`"
   ]
  },
  {
   "cell_type": "markdown",
   "metadata": {
    "editable": true
   },
   "source": [
    "---"
   ]
  },
  {
   "cell_type": "markdown",
   "metadata": {
    "editable": true
   },
   "source": [
    "#### Weather Table"
   ]
  },
  {
   "cell_type": "markdown",
   "metadata": {
    "editable": true
   },
   "source": [
    "Column DT:\n",
    "    \n",
    "![Weather_column_AvgTemp](images/assessment/weather/9_Explore_WEATHER_TEMPS_Column_DT.png)\n",
    "\n",
    "`DATE(YYYY-MM-DD), needs to be standardized with other datasets`"
   ]
  },
  {
   "cell_type": "markdown",
   "metadata": {
    "editable": true
   },
   "source": [
    "Column AverageTemperature:\n",
    "    \n",
    "![Weather_column_AvgTemp](images/assessment/weather/9_Explore_WEATHER_TEMPS_Column_AvgTemp.png)\n",
    "\n",
    "`DECIMAL(2,3) - Not of NaN - missing values?? May need to compare and remove if not useful`"
   ]
  },
  {
   "cell_type": "markdown",
   "metadata": {
    "editable": true
   },
   "source": [
    "Column AverageTemperatureUncertainty:\n",
    "    \n",
    "![Weather_column_AvgTemp](images/assessment/weather/9_Explore_WEATHER_TEMPS_Column_AvgTempUncertainity.png)\n",
    "\n",
    "`DECIMAL(2,3) - Not of NaN - missing values?? May need to compare and remove if not useful`"
   ]
  },
  {
   "cell_type": "markdown",
   "metadata": {
    "editable": true
   },
   "source": [
    "Column City:\n",
    "    \n",
    "![Weather_column_AvgTemp](images/assessment/weather/9_Explore_WEATHER_TEMPS_Column_City.png)\n",
    "\n",
    "`VARCHAR(20) --- Need to check about Special character sets like Danish city Århus`"
   ]
  },
  {
   "cell_type": "markdown",
   "metadata": {
    "editable": true
   },
   "source": [
    "Column Country:\n",
    "    \n",
    "![Weather_column_AvgTemp](images/assessment/weather/9_Explore_WEATHER_TEMPS_Column_Country.png)\n",
    "\n",
    "`VARCHAR(20)`"
   ]
  },
  {
   "cell_type": "markdown",
   "metadata": {
    "editable": true
   },
   "source": [
    "Column Latitude:\n",
    "    \n",
    "![Weather_column_AvgTemp](images/assessment/weather/9_Explore_WEATHER_TEMPS_Column_Lat.png)\n",
    "\n",
    "`DECIMAL(2,2), Need to check if removing N from end`"
   ]
  },
  {
   "cell_type": "markdown",
   "metadata": {
    "editable": true
   },
   "source": [
    "Column Longitude:\n",
    "    \n",
    "![Weather_column_AvgTemp](images/assessment/weather/9_Explore_WEATHER_TEMPS_Column_Long.png)\n",
    "\n",
    "`DECIMAL(2,2), Need to check if removing E from end`"
   ]
  },
  {
   "cell_type": "markdown",
   "metadata": {
    "editable": true
   },
   "source": [
    "---"
   ]
  }
 ],
 "metadata": {
  "kernelspec": {
   "display_name": "Python 3",
   "language": "python",
   "name": "python3"
  },
  "language_info": {
   "codemirror_mode": {
    "name": "ipython",
    "version": 3
   },
   "file_extension": ".py",
   "mimetype": "text/x-python",
   "name": "python",
   "nbconvert_exporter": "python",
   "pygments_lexer": "ipython3",
   "version": "3.6.3"
  }
 },
 "nbformat": 4,
 "nbformat_minor": 4
}
